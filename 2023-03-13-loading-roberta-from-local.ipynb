{
 "cells": [
  {
   "cell_type": "markdown",
   "id": "89591e93",
   "metadata": {
    "papermill": {
     "duration": 0.004673,
     "end_time": "2023-03-15T08:51:38.084414",
     "exception": false,
     "start_time": "2023-03-15T08:51:38.079741",
     "status": "completed"
    },
    "tags": []
   },
   "source": [
    "# Loading RoBERTa from local files \n",
    "\n",
    "This notebook shows how to load a RoBERTa tokenizer and model from a local directory (without downloading from HF hub, or other network location). \n",
    "\n",
    "## References: \n",
    "1. [Kaggle - tokenizers cheat sheet](https://www.kaggle.com/code/debanga/huggingface-tokenizers-cheat-sheet)\n",
    "2. [Kaggle dataset with saved roberta model](https://www.kaggle.com/datasets/abhishek/roberta-base)\n"
   ]
  },
  {
   "cell_type": "code",
   "execution_count": 1,
   "id": "17eb9d68",
   "metadata": {
    "_cell_guid": "b1076dfc-b9ad-4769-8c92-a6c4dae69d19",
    "_uuid": "8f2839f25d086af736a60e9eeb907d3b93b6e0e5",
    "execution": {
     "iopub.execute_input": "2023-03-15T08:51:38.094322Z",
     "iopub.status.busy": "2023-03-15T08:51:38.093804Z",
     "iopub.status.idle": "2023-03-15T08:51:38.118642Z",
     "shell.execute_reply": "2023-03-15T08:51:38.117659Z"
    },
    "papermill": {
     "duration": 0.032544,
     "end_time": "2023-03-15T08:51:38.120915",
     "exception": false,
     "start_time": "2023-03-15T08:51:38.088371",
     "status": "completed"
    },
    "tags": []
   },
   "outputs": [
    {
     "name": "stdout",
     "output_type": "stream",
     "text": [
      "/kaggle/input/roberta-base/rust_model.ot\n",
      "/kaggle/input/roberta-base/config.json\n",
      "/kaggle/input/roberta-base/merges.txt\n",
      "/kaggle/input/roberta-base/README.md\n",
      "/kaggle/input/roberta-base/tokenizer.json\n",
      "/kaggle/input/roberta-base/vocab.json\n",
      "/kaggle/input/roberta-base/tf_model.h5\n",
      "/kaggle/input/roberta-base/dict.txt\n",
      "/kaggle/input/roberta-base/pytorch_model.bin\n",
      "/kaggle/input/roberta-base/flax_model.msgpack\n"
     ]
    }
   ],
   "source": [
    "# Input data files are available in the read-only \"../input/\" directory\n",
    "# For example, running this (by clicking run or pressing Shift+Enter) will list all files under the input directory\n",
    "\n",
    "import os\n",
    "for dirname, _, filenames in os.walk('/kaggle/input'):\n",
    "    for filename in filenames:\n",
    "        print(os.path.join(dirname, filename))\n",
    "\n",
    "# You can write up to 20GB to the current directory (/kaggle/working/) that gets preserved as output when you create a version using \"Save & Run All\" \n",
    "# You can also write temporary files to /kaggle/temp/, but they won't be saved outside of the current session"
   ]
  },
  {
   "cell_type": "code",
   "execution_count": 2,
   "id": "2de2a956",
   "metadata": {
    "execution": {
     "iopub.execute_input": "2023-03-15T08:51:38.130222Z",
     "iopub.status.busy": "2023-03-15T08:51:38.129303Z",
     "iopub.status.idle": "2023-03-15T08:51:52.276696Z",
     "shell.execute_reply": "2023-03-15T08:51:52.274912Z"
    },
    "papermill": {
     "duration": 14.155592,
     "end_time": "2023-03-15T08:51:52.280287",
     "exception": false,
     "start_time": "2023-03-15T08:51:38.124695",
     "status": "completed"
    },
    "tags": []
   },
   "outputs": [],
   "source": [
    "import transformers\n",
    "from transformers import AutoTokenizer\n",
    "import tokenizers "
   ]
  },
  {
   "cell_type": "markdown",
   "id": "081d0919",
   "metadata": {
    "papermill": {
     "duration": 0.006066,
     "end_time": "2023-03-15T08:51:52.295946",
     "exception": false,
     "start_time": "2023-03-15T08:51:52.289880",
     "status": "completed"
    },
    "tags": []
   },
   "source": [
    "## Method 1 (not preferred)"
   ]
  },
  {
   "cell_type": "code",
   "execution_count": 3,
   "id": "ab9e6e31",
   "metadata": {
    "execution": {
     "iopub.execute_input": "2023-03-15T08:51:52.310322Z",
     "iopub.status.busy": "2023-03-15T08:51:52.309423Z",
     "iopub.status.idle": "2023-03-15T08:51:52.496456Z",
     "shell.execute_reply": "2023-03-15T08:51:52.495399Z"
    },
    "papermill": {
     "duration": 0.195416,
     "end_time": "2023-03-15T08:51:52.499128",
     "exception": false,
     "start_time": "2023-03-15T08:51:52.303712",
     "status": "completed"
    },
    "tags": []
   },
   "outputs": [],
   "source": [
    "ROBERTA_PATH = '../input/roberta-base'\n",
    "\n",
    "tokenizer = tokenizers.ByteLevelBPETokenizer(\n",
    "    vocab=f'{ROBERTA_PATH}/vocab.json', \n",
    "    merges=f'{ROBERTA_PATH}/merges.txt', \n",
    ")"
   ]
  },
  {
   "cell_type": "code",
   "execution_count": 4,
   "id": "a1f67be0",
   "metadata": {
    "execution": {
     "iopub.execute_input": "2023-03-15T08:51:52.511782Z",
     "iopub.status.busy": "2023-03-15T08:51:52.511438Z",
     "iopub.status.idle": "2023-03-15T08:51:52.518788Z",
     "shell.execute_reply": "2023-03-15T08:51:52.517900Z"
    },
    "papermill": {
     "duration": 0.020123,
     "end_time": "2023-03-15T08:51:52.525173",
     "exception": false,
     "start_time": "2023-03-15T08:51:52.505050",
     "status": "completed"
    },
    "tags": []
   },
   "outputs": [
    {
     "data": {
      "text/plain": [
       "Tokenizer(vocabulary_size=50265, model=ByteLevelBPE, add_prefix_space=False, lowercase=False, dropout=None, unicode_normalizer=None, continuing_subword_prefix=None, end_of_word_suffix=None, trim_offsets=False)"
      ]
     },
     "execution_count": 4,
     "metadata": {},
     "output_type": "execute_result"
    }
   ],
   "source": [
    "tokenizer"
   ]
  },
  {
   "cell_type": "code",
   "execution_count": 5,
   "id": "da41a5c7",
   "metadata": {
    "execution": {
     "iopub.execute_input": "2023-03-15T08:51:52.537381Z",
     "iopub.status.busy": "2023-03-15T08:51:52.537066Z",
     "iopub.status.idle": "2023-03-15T08:51:52.559503Z",
     "shell.execute_reply": "2023-03-15T08:51:52.558533Z"
    },
    "papermill": {
     "duration": 0.033853,
     "end_time": "2023-03-15T08:51:52.564504",
     "exception": false,
     "start_time": "2023-03-15T08:51:52.530651",
     "status": "completed"
    },
    "tags": []
   },
   "outputs": [
    {
     "data": {
      "text/plain": [
       "Encoding(num_tokens=18, attributes=[ids, type_ids, tokens, offsets, attention_mask, special_tokens_mask, overflowing])"
      ]
     },
     "execution_count": 5,
     "metadata": {},
     "output_type": "execute_result"
    }
   ],
   "source": [
    "text = 'Today is Monday. Long live Monday. Monday is before Tuesday. Tokenizing, eh?'\n",
    "text_encoded = tokenizer.encode(text)\n",
    "text_encoded\n"
   ]
  },
  {
   "cell_type": "code",
   "execution_count": 6,
   "id": "cee03153",
   "metadata": {
    "execution": {
     "iopub.execute_input": "2023-03-15T08:51:52.576579Z",
     "iopub.status.busy": "2023-03-15T08:51:52.576266Z",
     "iopub.status.idle": "2023-03-15T08:51:52.582599Z",
     "shell.execute_reply": "2023-03-15T08:51:52.581689Z"
    },
    "papermill": {
     "duration": 0.018589,
     "end_time": "2023-03-15T08:51:52.588652",
     "exception": false,
     "start_time": "2023-03-15T08:51:52.570063",
     "status": "completed"
    },
    "tags": []
   },
   "outputs": [
    {
     "data": {
      "text/plain": [
       "['Today',\n",
       " 'Ġis',\n",
       " 'ĠMonday',\n",
       " '.',\n",
       " 'ĠLong',\n",
       " 'Ġlive',\n",
       " 'ĠMonday',\n",
       " '.',\n",
       " 'ĠMonday',\n",
       " 'Ġis',\n",
       " 'Ġbefore',\n",
       " 'ĠTuesday',\n",
       " '.',\n",
       " 'ĠToken',\n",
       " 'izing',\n",
       " ',',\n",
       " 'Ġeh',\n",
       " '?']"
      ]
     },
     "execution_count": 6,
     "metadata": {},
     "output_type": "execute_result"
    }
   ],
   "source": [
    "text_encoded.tokens"
   ]
  },
  {
   "cell_type": "code",
   "execution_count": 7,
   "id": "16668400",
   "metadata": {
    "execution": {
     "iopub.execute_input": "2023-03-15T08:51:52.602205Z",
     "iopub.status.busy": "2023-03-15T08:51:52.601889Z",
     "iopub.status.idle": "2023-03-15T08:51:52.608420Z",
     "shell.execute_reply": "2023-03-15T08:51:52.607578Z"
    },
    "papermill": {
     "duration": 0.018869,
     "end_time": "2023-03-15T08:51:52.614254",
     "exception": false,
     "start_time": "2023-03-15T08:51:52.595385",
     "status": "completed"
    },
    "tags": []
   },
   "outputs": [
    {
     "data": {
      "text/plain": [
       "[5625,\n",
       " 16,\n",
       " 302,\n",
       " 4,\n",
       " 2597,\n",
       " 697,\n",
       " 302,\n",
       " 4,\n",
       " 302,\n",
       " 16,\n",
       " 137,\n",
       " 294,\n",
       " 4,\n",
       " 29464,\n",
       " 2787,\n",
       " 6,\n",
       " 35670,\n",
       " 116]"
      ]
     },
     "execution_count": 7,
     "metadata": {},
     "output_type": "execute_result"
    }
   ],
   "source": [
    "text_encoded.ids"
   ]
  },
  {
   "cell_type": "markdown",
   "id": "fa67889c",
   "metadata": {
    "papermill": {
     "duration": 0.005472,
     "end_time": "2023-03-15T08:51:52.625473",
     "exception": false,
     "start_time": "2023-03-15T08:51:52.620001",
     "status": "completed"
    },
    "tags": []
   },
   "source": [
    "## Method 2 (Preferred)"
   ]
  },
  {
   "cell_type": "code",
   "execution_count": 8,
   "id": "f2f7c8e2",
   "metadata": {
    "execution": {
     "iopub.execute_input": "2023-03-15T08:51:52.638064Z",
     "iopub.status.busy": "2023-03-15T08:51:52.637738Z",
     "iopub.status.idle": "2023-03-15T08:51:52.804647Z",
     "shell.execute_reply": "2023-03-15T08:51:52.803461Z"
    },
    "papermill": {
     "duration": 0.175899,
     "end_time": "2023-03-15T08:51:52.807166",
     "exception": false,
     "start_time": "2023-03-15T08:51:52.631267",
     "status": "completed"
    },
    "tags": []
   },
   "outputs": [
    {
     "data": {
      "text/plain": [
       "RobertaTokenizerFast(name_or_path='../input/roberta-base', vocab_size=50265, model_max_length=1000000000000000019884624838656, is_fast=True, padding_side='right', truncation_side='right', special_tokens={'bos_token': '<s>', 'eos_token': '</s>', 'unk_token': '<unk>', 'sep_token': '</s>', 'pad_token': '<pad>', 'cls_token': '<s>', 'mask_token': AddedToken(\"<mask>\", rstrip=False, lstrip=True, single_word=False, normalized=False)})"
      ]
     },
     "execution_count": 8,
     "metadata": {},
     "output_type": "execute_result"
    }
   ],
   "source": [
    "tokenizer = AutoTokenizer.from_pretrained(pretrained_model_name_or_path=ROBERTA_PATH)\n",
    "tokenizer"
   ]
  },
  {
   "cell_type": "code",
   "execution_count": 9,
   "id": "ae1f93ed",
   "metadata": {
    "execution": {
     "iopub.execute_input": "2023-03-15T08:51:52.817413Z",
     "iopub.status.busy": "2023-03-15T08:51:52.817097Z",
     "iopub.status.idle": "2023-03-15T08:51:52.826198Z",
     "shell.execute_reply": "2023-03-15T08:51:52.825189Z"
    },
    "papermill": {
     "duration": 0.016845,
     "end_time": "2023-03-15T08:51:52.828469",
     "exception": false,
     "start_time": "2023-03-15T08:51:52.811624",
     "status": "completed"
    },
    "tags": []
   },
   "outputs": [],
   "source": [
    "text = ['Today is Monday. Long live Monday. Monday is before Tuesday', 'Tokenizing, eh?']\n",
    "text_encoded = tokenizer(text, padding=True)"
   ]
  },
  {
   "cell_type": "code",
   "execution_count": 10,
   "id": "080d2be3",
   "metadata": {
    "execution": {
     "iopub.execute_input": "2023-03-15T08:51:52.837988Z",
     "iopub.status.busy": "2023-03-15T08:51:52.837672Z",
     "iopub.status.idle": "2023-03-15T08:51:52.845601Z",
     "shell.execute_reply": "2023-03-15T08:51:52.844697Z"
    },
    "papermill": {
     "duration": 0.015335,
     "end_time": "2023-03-15T08:51:52.847888",
     "exception": false,
     "start_time": "2023-03-15T08:51:52.832553",
     "status": "completed"
    },
    "tags": []
   },
   "outputs": [
    {
     "data": {
      "text/plain": [
       "{'input_ids': [[0, 5625, 16, 302, 4, 2597, 697, 302, 4, 302, 16, 137, 294, 2], [0, 45643, 2787, 6, 35670, 116, 2, 1, 1, 1, 1, 1, 1, 1]], 'attention_mask': [[1, 1, 1, 1, 1, 1, 1, 1, 1, 1, 1, 1, 1, 1], [1, 1, 1, 1, 1, 1, 1, 0, 0, 0, 0, 0, 0, 0]]}"
      ]
     },
     "execution_count": 10,
     "metadata": {},
     "output_type": "execute_result"
    }
   ],
   "source": [
    "text_encoded"
   ]
  },
  {
   "cell_type": "code",
   "execution_count": 11,
   "id": "30be1219",
   "metadata": {
    "execution": {
     "iopub.execute_input": "2023-03-15T08:51:52.857213Z",
     "iopub.status.busy": "2023-03-15T08:51:52.856887Z",
     "iopub.status.idle": "2023-03-15T08:51:52.862439Z",
     "shell.execute_reply": "2023-03-15T08:51:52.861400Z"
    },
    "papermill": {
     "duration": 0.012802,
     "end_time": "2023-03-15T08:51:52.864812",
     "exception": false,
     "start_time": "2023-03-15T08:51:52.852010",
     "status": "completed"
    },
    "tags": []
   },
   "outputs": [
    {
     "name": "stdout",
     "output_type": "stream",
     "text": [
      "['<s>', 'Today', 'Ġis', 'ĠMonday', '.', 'ĠLong', 'Ġlive', 'ĠMonday', '.', 'ĠMonday', 'Ġis', 'Ġbefore', 'ĠTuesday', '</s>']\n",
      "['<s>', 'Token', 'izing', ',', 'Ġeh', '?', '</s>', '<pad>', '<pad>', '<pad>', '<pad>', '<pad>', '<pad>', '<pad>']\n"
     ]
    }
   ],
   "source": [
    "for txt in [0,1]: \n",
    "    tokens = tokenizer.convert_ids_to_tokens(text_encoded.input_ids[txt])\n",
    "    print(tokens)"
   ]
  },
  {
   "cell_type": "code",
   "execution_count": 12,
   "id": "6aa47f5a",
   "metadata": {
    "execution": {
     "iopub.execute_input": "2023-03-15T08:51:52.873976Z",
     "iopub.status.busy": "2023-03-15T08:51:52.873676Z",
     "iopub.status.idle": "2023-03-15T08:51:56.673882Z",
     "shell.execute_reply": "2023-03-15T08:51:56.672759Z"
    },
    "papermill": {
     "duration": 3.807338,
     "end_time": "2023-03-15T08:51:56.676274",
     "exception": false,
     "start_time": "2023-03-15T08:51:52.868936",
     "status": "completed"
    },
    "tags": []
   },
   "outputs": [
    {
     "data": {
      "text/plain": [
       "{'input_ids': tensor([[    0,  5625,    16,   302,     4,  2597,   697,   302,     4,   302,\n",
       "            16,   137,   294,     2],\n",
       "        [    0, 45643,  2787,     6, 35670,   116,     2,     1,     1,     1,\n",
       "             1,     1,     1,     1]]), 'attention_mask': tensor([[1, 1, 1, 1, 1, 1, 1, 1, 1, 1, 1, 1, 1, 1],\n",
       "        [1, 1, 1, 1, 1, 1, 1, 0, 0, 0, 0, 0, 0, 0]])}"
      ]
     },
     "execution_count": 12,
     "metadata": {},
     "output_type": "execute_result"
    }
   ],
   "source": [
    "model_inputs = tokenizer(text, return_tensors='pt', padding=True)\n",
    "model_inputs"
   ]
  },
  {
   "cell_type": "code",
   "execution_count": null,
   "id": "6a01d309",
   "metadata": {
    "papermill": {
     "duration": 0.004043,
     "end_time": "2023-03-15T08:51:56.684727",
     "exception": false,
     "start_time": "2023-03-15T08:51:56.680684",
     "status": "completed"
    },
    "tags": []
   },
   "outputs": [],
   "source": []
  }
 ],
 "metadata": {
  "kernelspec": {
   "display_name": "Python 3",
   "language": "python",
   "name": "python3"
  },
  "language_info": {
   "codemirror_mode": {
    "name": "ipython",
    "version": 3
   },
   "file_extension": ".py",
   "mimetype": "text/x-python",
   "name": "python",
   "nbconvert_exporter": "python",
   "pygments_lexer": "ipython3",
   "version": "3.7.12"
  },
  "papermill": {
   "default_parameters": {},
   "duration": 33.663428,
   "end_time": "2023-03-15T08:51:59.336316",
   "environment_variables": {},
   "exception": null,
   "input_path": "__notebook__.ipynb",
   "output_path": "__notebook__.ipynb",
   "parameters": {},
   "start_time": "2023-03-15T08:51:25.672888",
   "version": "2.4.0"
  }
 },
 "nbformat": 4,
 "nbformat_minor": 5
}
