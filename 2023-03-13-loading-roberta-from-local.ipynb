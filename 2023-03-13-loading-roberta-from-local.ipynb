{
 "cells": [
  {
   "cell_type": "markdown",
   "id": "7738b399",
   "metadata": {
    "papermill": {
     "duration": 0.005367,
     "end_time": "2023-03-14T07:24:53.743790",
     "exception": false,
     "start_time": "2023-03-14T07:24:53.738423",
     "status": "completed"
    },
    "tags": []
   },
   "source": [
    "# Loading RoBERTa from local files \n",
    "\n",
    "This notebook shows how to load a RoBERTa tokenizer and model from a local directory (without downloading from HF hub, or other network location). \n",
    "\n",
    "## References: \n",
    "1. [Kaggle - tokenizers cheat sheet](https://www.kaggle.com/code/debanga/huggingface-tokenizers-cheat-sheet)\n",
    "2. [Kaggle dataset with saved roberta model](https://www.kaggle.com/datasets/abhishek/roberta-base)\n"
   ]
  },
  {
   "cell_type": "code",
   "execution_count": 1,
   "id": "d67b7134",
   "metadata": {
    "_cell_guid": "b1076dfc-b9ad-4769-8c92-a6c4dae69d19",
    "_uuid": "8f2839f25d086af736a60e9eeb907d3b93b6e0e5",
    "execution": {
     "iopub.execute_input": "2023-03-14T07:24:53.754802Z",
     "iopub.status.busy": "2023-03-14T07:24:53.754332Z",
     "iopub.status.idle": "2023-03-14T07:24:53.776892Z",
     "shell.execute_reply": "2023-03-14T07:24:53.775894Z"
    },
    "papermill": {
     "duration": 0.031377,
     "end_time": "2023-03-14T07:24:53.779728",
     "exception": false,
     "start_time": "2023-03-14T07:24:53.748351",
     "status": "completed"
    },
    "tags": []
   },
   "outputs": [
    {
     "name": "stdout",
     "output_type": "stream",
     "text": [
      "/kaggle/input/roberta-base/rust_model.ot\n",
      "/kaggle/input/roberta-base/config.json\n",
      "/kaggle/input/roberta-base/merges.txt\n",
      "/kaggle/input/roberta-base/README.md\n",
      "/kaggle/input/roberta-base/tokenizer.json\n",
      "/kaggle/input/roberta-base/vocab.json\n",
      "/kaggle/input/roberta-base/tf_model.h5\n",
      "/kaggle/input/roberta-base/dict.txt\n",
      "/kaggle/input/roberta-base/pytorch_model.bin\n",
      "/kaggle/input/roberta-base/flax_model.msgpack\n"
     ]
    }
   ],
   "source": [
    "# Input data files are available in the read-only \"../input/\" directory\n",
    "# For example, running this (by clicking run or pressing Shift+Enter) will list all files under the input directory\n",
    "\n",
    "import os\n",
    "for dirname, _, filenames in os.walk('/kaggle/input'):\n",
    "    for filename in filenames:\n",
    "        print(os.path.join(dirname, filename))\n",
    "\n",
    "# You can write up to 20GB to the current directory (/kaggle/working/) that gets preserved as output when you create a version using \"Save & Run All\" \n",
    "# You can also write temporary files to /kaggle/temp/, but they won't be saved outside of the current session"
   ]
  },
  {
   "cell_type": "code",
   "execution_count": 2,
   "id": "13d06b47",
   "metadata": {
    "execution": {
     "iopub.execute_input": "2023-03-14T07:24:53.790360Z",
     "iopub.status.busy": "2023-03-14T07:24:53.789929Z",
     "iopub.status.idle": "2023-03-14T07:25:03.890335Z",
     "shell.execute_reply": "2023-03-14T07:25:03.889270Z"
    },
    "papermill": {
     "duration": 10.109409,
     "end_time": "2023-03-14T07:25:03.893661",
     "exception": false,
     "start_time": "2023-03-14T07:24:53.784252",
     "status": "completed"
    },
    "tags": []
   },
   "outputs": [],
   "source": [
    "import transformers\n",
    "from transformers import AutoTokenizer\n",
    "import tokenizers "
   ]
  },
  {
   "cell_type": "markdown",
   "id": "69292a1a",
   "metadata": {
    "papermill": {
     "duration": 0.00418,
     "end_time": "2023-03-14T07:25:03.902873",
     "exception": false,
     "start_time": "2023-03-14T07:25:03.898693",
     "status": "completed"
    },
    "tags": []
   },
   "source": [
    "## Method 1 (not preferred)"
   ]
  },
  {
   "cell_type": "code",
   "execution_count": 3,
   "id": "9936bf18",
   "metadata": {
    "execution": {
     "iopub.execute_input": "2023-03-14T07:25:03.914517Z",
     "iopub.status.busy": "2023-03-14T07:25:03.913596Z",
     "iopub.status.idle": "2023-03-14T07:25:04.111751Z",
     "shell.execute_reply": "2023-03-14T07:25:04.110497Z"
    },
    "papermill": {
     "duration": 0.206853,
     "end_time": "2023-03-14T07:25:04.114257",
     "exception": false,
     "start_time": "2023-03-14T07:25:03.907404",
     "status": "completed"
    },
    "tags": []
   },
   "outputs": [],
   "source": [
    "ROBERTA_PATH = '../input/roberta-base'\n",
    "\n",
    "tokenizer = tokenizers.ByteLevelBPETokenizer(\n",
    "    vocab=f'{ROBERTA_PATH}/vocab.json', \n",
    "    merges=f'{ROBERTA_PATH}/merges.txt', \n",
    ")"
   ]
  },
  {
   "cell_type": "code",
   "execution_count": 4,
   "id": "1250e5b0",
   "metadata": {
    "execution": {
     "iopub.execute_input": "2023-03-14T07:25:04.125528Z",
     "iopub.status.busy": "2023-03-14T07:25:04.124946Z",
     "iopub.status.idle": "2023-03-14T07:25:04.133837Z",
     "shell.execute_reply": "2023-03-14T07:25:04.132644Z"
    },
    "papermill": {
     "duration": 0.017546,
     "end_time": "2023-03-14T07:25:04.136453",
     "exception": false,
     "start_time": "2023-03-14T07:25:04.118907",
     "status": "completed"
    },
    "tags": []
   },
   "outputs": [
    {
     "data": {
      "text/plain": [
       "Tokenizer(vocabulary_size=50265, model=ByteLevelBPE, add_prefix_space=False, lowercase=False, dropout=None, unicode_normalizer=None, continuing_subword_prefix=None, end_of_word_suffix=None, trim_offsets=False)"
      ]
     },
     "execution_count": 4,
     "metadata": {},
     "output_type": "execute_result"
    }
   ],
   "source": [
    "tokenizer"
   ]
  },
  {
   "cell_type": "code",
   "execution_count": 5,
   "id": "9b9783c6",
   "metadata": {
    "execution": {
     "iopub.execute_input": "2023-03-14T07:25:04.148183Z",
     "iopub.status.busy": "2023-03-14T07:25:04.147737Z",
     "iopub.status.idle": "2023-03-14T07:25:04.167431Z",
     "shell.execute_reply": "2023-03-14T07:25:04.166141Z"
    },
    "papermill": {
     "duration": 0.028583,
     "end_time": "2023-03-14T07:25:04.169889",
     "exception": false,
     "start_time": "2023-03-14T07:25:04.141306",
     "status": "completed"
    },
    "tags": []
   },
   "outputs": [
    {
     "data": {
      "text/plain": [
       "Encoding(num_tokens=18, attributes=[ids, type_ids, tokens, offsets, attention_mask, special_tokens_mask, overflowing])"
      ]
     },
     "execution_count": 5,
     "metadata": {},
     "output_type": "execute_result"
    }
   ],
   "source": [
    "text = 'Today is Monday. Long live Monday. Monday is before Tuesday. Tokenizing, eh?'\n",
    "text_encoded = tokenizer.encode(text)\n",
    "text_encoded\n"
   ]
  },
  {
   "cell_type": "code",
   "execution_count": 6,
   "id": "39a0244c",
   "metadata": {
    "execution": {
     "iopub.execute_input": "2023-03-14T07:25:04.181430Z",
     "iopub.status.busy": "2023-03-14T07:25:04.181000Z",
     "iopub.status.idle": "2023-03-14T07:25:04.188765Z",
     "shell.execute_reply": "2023-03-14T07:25:04.187624Z"
    },
    "papermill": {
     "duration": 0.016569,
     "end_time": "2023-03-14T07:25:04.191274",
     "exception": false,
     "start_time": "2023-03-14T07:25:04.174705",
     "status": "completed"
    },
    "tags": []
   },
   "outputs": [
    {
     "data": {
      "text/plain": [
       "['Today',\n",
       " 'Ġis',\n",
       " 'ĠMonday',\n",
       " '.',\n",
       " 'ĠLong',\n",
       " 'Ġlive',\n",
       " 'ĠMonday',\n",
       " '.',\n",
       " 'ĠMonday',\n",
       " 'Ġis',\n",
       " 'Ġbefore',\n",
       " 'ĠTuesday',\n",
       " '.',\n",
       " 'ĠToken',\n",
       " 'izing',\n",
       " ',',\n",
       " 'Ġeh',\n",
       " '?']"
      ]
     },
     "execution_count": 6,
     "metadata": {},
     "output_type": "execute_result"
    }
   ],
   "source": [
    "text_encoded.tokens"
   ]
  },
  {
   "cell_type": "code",
   "execution_count": 7,
   "id": "b16ebd6c",
   "metadata": {
    "execution": {
     "iopub.execute_input": "2023-03-14T07:25:04.203141Z",
     "iopub.status.busy": "2023-03-14T07:25:04.202704Z",
     "iopub.status.idle": "2023-03-14T07:25:04.211657Z",
     "shell.execute_reply": "2023-03-14T07:25:04.210371Z"
    },
    "papermill": {
     "duration": 0.017908,
     "end_time": "2023-03-14T07:25:04.214171",
     "exception": false,
     "start_time": "2023-03-14T07:25:04.196263",
     "status": "completed"
    },
    "tags": []
   },
   "outputs": [
    {
     "data": {
      "text/plain": [
       "[5625,\n",
       " 16,\n",
       " 302,\n",
       " 4,\n",
       " 2597,\n",
       " 697,\n",
       " 302,\n",
       " 4,\n",
       " 302,\n",
       " 16,\n",
       " 137,\n",
       " 294,\n",
       " 4,\n",
       " 29464,\n",
       " 2787,\n",
       " 6,\n",
       " 35670,\n",
       " 116]"
      ]
     },
     "execution_count": 7,
     "metadata": {},
     "output_type": "execute_result"
    }
   ],
   "source": [
    "text_encoded.ids"
   ]
  },
  {
   "cell_type": "markdown",
   "id": "1e439944",
   "metadata": {
    "papermill": {
     "duration": 0.004682,
     "end_time": "2023-03-14T07:25:04.223992",
     "exception": false,
     "start_time": "2023-03-14T07:25:04.219310",
     "status": "completed"
    },
    "tags": []
   },
   "source": [
    "## Method 2 (Preferred)"
   ]
  },
  {
   "cell_type": "code",
   "execution_count": 8,
   "id": "a748e29b",
   "metadata": {
    "execution": {
     "iopub.execute_input": "2023-03-14T07:25:04.235911Z",
     "iopub.status.busy": "2023-03-14T07:25:04.235440Z",
     "iopub.status.idle": "2023-03-14T07:25:04.450341Z",
     "shell.execute_reply": "2023-03-14T07:25:04.448790Z"
    },
    "papermill": {
     "duration": 0.224415,
     "end_time": "2023-03-14T07:25:04.453396",
     "exception": false,
     "start_time": "2023-03-14T07:25:04.228981",
     "status": "completed"
    },
    "tags": []
   },
   "outputs": [
    {
     "data": {
      "text/plain": [
       "RobertaTokenizerFast(name_or_path='../input/roberta-base', vocab_size=50265, model_max_length=1000000000000000019884624838656, is_fast=True, padding_side='right', truncation_side='right', special_tokens={'bos_token': '<s>', 'eos_token': '</s>', 'unk_token': '<unk>', 'sep_token': '</s>', 'pad_token': '<pad>', 'cls_token': '<s>', 'mask_token': AddedToken(\"<mask>\", rstrip=False, lstrip=True, single_word=False, normalized=False)})"
      ]
     },
     "execution_count": 8,
     "metadata": {},
     "output_type": "execute_result"
    }
   ],
   "source": [
    "tokenizer = AutoTokenizer.from_pretrained(pretrained_model_name_or_path=ROBERTA_PATH)\n",
    "tokenizer"
   ]
  },
  {
   "cell_type": "code",
   "execution_count": 9,
   "id": "8f4dc9fc",
   "metadata": {
    "execution": {
     "iopub.execute_input": "2023-03-14T07:25:04.465526Z",
     "iopub.status.busy": "2023-03-14T07:25:04.465092Z",
     "iopub.status.idle": "2023-03-14T07:25:04.474082Z",
     "shell.execute_reply": "2023-03-14T07:25:04.472760Z"
    },
    "papermill": {
     "duration": 0.018105,
     "end_time": "2023-03-14T07:25:04.476734",
     "exception": false,
     "start_time": "2023-03-14T07:25:04.458629",
     "status": "completed"
    },
    "tags": []
   },
   "outputs": [],
   "source": [
    "text = ['Today is Monday. Long live Monday. Monday is before Tuesday', 'Tokenizing, eh?']\n",
    "text_encoded = tokenizer(text, padding=True)"
   ]
  },
  {
   "cell_type": "code",
   "execution_count": 10,
   "id": "f6539a70",
   "metadata": {
    "execution": {
     "iopub.execute_input": "2023-03-14T07:25:04.489456Z",
     "iopub.status.busy": "2023-03-14T07:25:04.488595Z",
     "iopub.status.idle": "2023-03-14T07:25:04.496789Z",
     "shell.execute_reply": "2023-03-14T07:25:04.495610Z"
    },
    "papermill": {
     "duration": 0.017295,
     "end_time": "2023-03-14T07:25:04.499145",
     "exception": false,
     "start_time": "2023-03-14T07:25:04.481850",
     "status": "completed"
    },
    "tags": []
   },
   "outputs": [
    {
     "data": {
      "text/plain": [
       "{'input_ids': [[0, 5625, 16, 302, 4, 2597, 697, 302, 4, 302, 16, 137, 294, 2], [0, 45643, 2787, 6, 35670, 116, 2, 1, 1, 1, 1, 1, 1, 1]], 'attention_mask': [[1, 1, 1, 1, 1, 1, 1, 1, 1, 1, 1, 1, 1, 1], [1, 1, 1, 1, 1, 1, 1, 0, 0, 0, 0, 0, 0, 0]]}"
      ]
     },
     "execution_count": 10,
     "metadata": {},
     "output_type": "execute_result"
    }
   ],
   "source": [
    "text_encoded"
   ]
  },
  {
   "cell_type": "code",
   "execution_count": 11,
   "id": "9c4ab45c",
   "metadata": {
    "execution": {
     "iopub.execute_input": "2023-03-14T07:25:04.512417Z",
     "iopub.status.busy": "2023-03-14T07:25:04.511507Z",
     "iopub.status.idle": "2023-03-14T07:25:04.521107Z",
     "shell.execute_reply": "2023-03-14T07:25:04.519634Z"
    },
    "papermill": {
     "duration": 0.019422,
     "end_time": "2023-03-14T07:25:04.523789",
     "exception": false,
     "start_time": "2023-03-14T07:25:04.504367",
     "status": "completed"
    },
    "tags": []
   },
   "outputs": [
    {
     "name": "stdout",
     "output_type": "stream",
     "text": [
      "['<s>', 'Today', 'Ġis', 'ĠMonday', '.', 'ĠLong', 'Ġlive', 'ĠMonday', '.', 'ĠMonday', 'Ġis', 'Ġbefore', 'ĠTuesday', '</s>']\n",
      "['<s>', 'Token', 'izing', ',', 'Ġeh', '?', '</s>', '<pad>', '<pad>', '<pad>', '<pad>', '<pad>', '<pad>', '<pad>']\n"
     ]
    }
   ],
   "source": [
    "for txt in [0,1]: \n",
    "    tokens = tokenizer.convert_ids_to_tokens(text_encoded.input_ids[txt])\n",
    "    print(tokens)"
   ]
  },
  {
   "cell_type": "code",
   "execution_count": 12,
   "id": "59fe4114",
   "metadata": {
    "execution": {
     "iopub.execute_input": "2023-03-14T07:25:04.536167Z",
     "iopub.status.busy": "2023-03-14T07:25:04.535744Z",
     "iopub.status.idle": "2023-03-14T07:25:07.080380Z",
     "shell.execute_reply": "2023-03-14T07:25:07.078774Z"
    },
    "papermill": {
     "duration": 2.554299,
     "end_time": "2023-03-14T07:25:07.083328",
     "exception": false,
     "start_time": "2023-03-14T07:25:04.529029",
     "status": "completed"
    },
    "tags": []
   },
   "outputs": [
    {
     "data": {
      "text/plain": [
       "{'input_ids': tensor([[    0,  5625,    16,   302,     4,  2597,   697,   302,     4,   302,\n",
       "            16,   137,   294,     2],\n",
       "        [    0, 45643,  2787,     6, 35670,   116,     2,     1,     1,     1,\n",
       "             1,     1,     1,     1]]), 'attention_mask': tensor([[1, 1, 1, 1, 1, 1, 1, 1, 1, 1, 1, 1, 1, 1],\n",
       "        [1, 1, 1, 1, 1, 1, 1, 0, 0, 0, 0, 0, 0, 0]])}"
      ]
     },
     "execution_count": 12,
     "metadata": {},
     "output_type": "execute_result"
    }
   ],
   "source": [
    "model_inputs = tokenizer(text, return_tensors='pt', padding=True)\n",
    "model_inputs"
   ]
  },
  {
   "cell_type": "code",
   "execution_count": null,
   "id": "c0597879",
   "metadata": {
    "papermill": {
     "duration": 0.005065,
     "end_time": "2023-03-14T07:25:07.093811",
     "exception": false,
     "start_time": "2023-03-14T07:25:07.088746",
     "status": "completed"
    },
    "tags": []
   },
   "outputs": [],
   "source": []
  }
 ],
 "metadata": {
  "kernelspec": {
   "display_name": "Python 3",
   "language": "python",
   "name": "python3"
  },
  "language_info": {
   "codemirror_mode": {
    "name": "ipython",
    "version": 3
   },
   "file_extension": ".py",
   "mimetype": "text/x-python",
   "name": "python",
   "nbconvert_exporter": "python",
   "pygments_lexer": "ipython3",
   "version": "3.7.12"
  },
  "papermill": {
   "default_parameters": {},
   "duration": 26.71387,
   "end_time": "2023-03-14T07:25:09.901864",
   "environment_variables": {},
   "exception": null,
   "input_path": "__notebook__.ipynb",
   "output_path": "__notebook__.ipynb",
   "parameters": {},
   "start_time": "2023-03-14T07:24:43.187994",
   "version": "2.4.0"
  }
 },
 "nbformat": 4,
 "nbformat_minor": 5
}
