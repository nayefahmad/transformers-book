{
 "cells": [
  {
   "cell_type": "markdown",
   "id": "1a809e66",
   "metadata": {
    "papermill": {
     "duration": 0.005455,
     "end_time": "2023-03-13T23:31:20.900167",
     "exception": false,
     "start_time": "2023-03-13T23:31:20.894712",
     "status": "completed"
    },
    "tags": []
   },
   "source": [
    "# Loading RoBERTa from local files \n",
    "\n",
    "This notebook shows how to load a RoBERTa tokenizer and model from a local directory (without downloading from HF hub, or other network location). \n",
    "\n",
    "## References: \n",
    "1. [Kaggle - tokenizers cheat sheet](https://www.kaggle.com/code/debanga/huggingface-tokenizers-cheat-sheet)\n",
    "2. [Kaggle dataset with saved roberta model](https://www.kaggle.com/datasets/abhishek/roberta-base)\n"
   ]
  },
  {
   "cell_type": "code",
   "execution_count": 1,
   "id": "68ebc4cd",
   "metadata": {
    "_cell_guid": "b1076dfc-b9ad-4769-8c92-a6c4dae69d19",
    "_uuid": "8f2839f25d086af736a60e9eeb907d3b93b6e0e5",
    "execution": {
     "iopub.execute_input": "2023-03-13T23:31:20.911196Z",
     "iopub.status.busy": "2023-03-13T23:31:20.910454Z",
     "iopub.status.idle": "2023-03-13T23:31:20.927997Z",
     "shell.execute_reply": "2023-03-13T23:31:20.926725Z"
    },
    "papermill": {
     "duration": 0.026985,
     "end_time": "2023-03-13T23:31:20.931639",
     "exception": false,
     "start_time": "2023-03-13T23:31:20.904654",
     "status": "completed"
    },
    "tags": []
   },
   "outputs": [
    {
     "name": "stdout",
     "output_type": "stream",
     "text": [
      "/kaggle/input/roberta-base/rust_model.ot\n",
      "/kaggle/input/roberta-base/config.json\n",
      "/kaggle/input/roberta-base/merges.txt\n",
      "/kaggle/input/roberta-base/README.md\n",
      "/kaggle/input/roberta-base/tokenizer.json\n",
      "/kaggle/input/roberta-base/vocab.json\n",
      "/kaggle/input/roberta-base/tf_model.h5\n",
      "/kaggle/input/roberta-base/dict.txt\n",
      "/kaggle/input/roberta-base/pytorch_model.bin\n",
      "/kaggle/input/roberta-base/flax_model.msgpack\n"
     ]
    }
   ],
   "source": [
    "# Input data files are available in the read-only \"../input/\" directory\n",
    "# For example, running this (by clicking run or pressing Shift+Enter) will list all files under the input directory\n",
    "\n",
    "import os\n",
    "for dirname, _, filenames in os.walk('/kaggle/input'):\n",
    "    for filename in filenames:\n",
    "        print(os.path.join(dirname, filename))\n",
    "\n",
    "# You can write up to 20GB to the current directory (/kaggle/working/) that gets preserved as output when you create a version using \"Save & Run All\" \n",
    "# You can also write temporary files to /kaggle/temp/, but they won't be saved outside of the current session"
   ]
  },
  {
   "cell_type": "code",
   "execution_count": 2,
   "id": "01797743",
   "metadata": {
    "execution": {
     "iopub.execute_input": "2023-03-13T23:31:20.947999Z",
     "iopub.status.busy": "2023-03-13T23:31:20.946746Z",
     "iopub.status.idle": "2023-03-13T23:31:29.422717Z",
     "shell.execute_reply": "2023-03-13T23:31:29.421360Z"
    },
    "papermill": {
     "duration": 8.487121,
     "end_time": "2023-03-13T23:31:29.425674",
     "exception": false,
     "start_time": "2023-03-13T23:31:20.938553",
     "status": "completed"
    },
    "tags": []
   },
   "outputs": [],
   "source": [
    "import transformers\n",
    "from transformers import AutoTokenizer\n",
    "import tokenizers "
   ]
  },
  {
   "cell_type": "markdown",
   "id": "26938adb",
   "metadata": {
    "papermill": {
     "duration": 0.00415,
     "end_time": "2023-03-13T23:31:29.434498",
     "exception": false,
     "start_time": "2023-03-13T23:31:29.430348",
     "status": "completed"
    },
    "tags": []
   },
   "source": [
    "## Method 1 (not preferred)"
   ]
  },
  {
   "cell_type": "code",
   "execution_count": 3,
   "id": "173bab1e",
   "metadata": {
    "execution": {
     "iopub.execute_input": "2023-03-13T23:31:29.446116Z",
     "iopub.status.busy": "2023-03-13T23:31:29.445289Z",
     "iopub.status.idle": "2023-03-13T23:31:29.607418Z",
     "shell.execute_reply": "2023-03-13T23:31:29.606358Z"
    },
    "papermill": {
     "duration": 0.171264,
     "end_time": "2023-03-13T23:31:29.610229",
     "exception": false,
     "start_time": "2023-03-13T23:31:29.438965",
     "status": "completed"
    },
    "tags": []
   },
   "outputs": [],
   "source": [
    "ROBERTA_PATH = '../input/roberta-base'\n",
    "\n",
    "tokenizer = tokenizers.ByteLevelBPETokenizer(\n",
    "    vocab=f'{ROBERTA_PATH}/vocab.json', \n",
    "    merges=f'{ROBERTA_PATH}/merges.txt', \n",
    ")"
   ]
  },
  {
   "cell_type": "code",
   "execution_count": 4,
   "id": "53d83700",
   "metadata": {
    "execution": {
     "iopub.execute_input": "2023-03-13T23:31:29.621913Z",
     "iopub.status.busy": "2023-03-13T23:31:29.621089Z",
     "iopub.status.idle": "2023-03-13T23:31:29.629004Z",
     "shell.execute_reply": "2023-03-13T23:31:29.627939Z"
    },
    "papermill": {
     "duration": 0.018311,
     "end_time": "2023-03-13T23:31:29.633394",
     "exception": false,
     "start_time": "2023-03-13T23:31:29.615083",
     "status": "completed"
    },
    "tags": []
   },
   "outputs": [
    {
     "data": {
      "text/plain": [
       "Tokenizer(vocabulary_size=50265, model=ByteLevelBPE, add_prefix_space=False, lowercase=False, dropout=None, unicode_normalizer=None, continuing_subword_prefix=None, end_of_word_suffix=None, trim_offsets=False)"
      ]
     },
     "execution_count": 4,
     "metadata": {},
     "output_type": "execute_result"
    }
   ],
   "source": [
    "tokenizer"
   ]
  },
  {
   "cell_type": "code",
   "execution_count": 5,
   "id": "e53bec4f",
   "metadata": {
    "execution": {
     "iopub.execute_input": "2023-03-13T23:31:29.644861Z",
     "iopub.status.busy": "2023-03-13T23:31:29.644438Z",
     "iopub.status.idle": "2023-03-13T23:31:29.660534Z",
     "shell.execute_reply": "2023-03-13T23:31:29.659656Z"
    },
    "papermill": {
     "duration": 0.024699,
     "end_time": "2023-03-13T23:31:29.662776",
     "exception": false,
     "start_time": "2023-03-13T23:31:29.638077",
     "status": "completed"
    },
    "tags": []
   },
   "outputs": [
    {
     "data": {
      "text/plain": [
       "Encoding(num_tokens=18, attributes=[ids, type_ids, tokens, offsets, attention_mask, special_tokens_mask, overflowing])"
      ]
     },
     "execution_count": 5,
     "metadata": {},
     "output_type": "execute_result"
    }
   ],
   "source": [
    "text = 'Today is Monday. Long live Monday. Monday is before Tuesday. Tokenizing, eh?'\n",
    "text_encoded = tokenizer.encode(text)\n",
    "text_encoded\n"
   ]
  },
  {
   "cell_type": "code",
   "execution_count": 6,
   "id": "d71cdff3",
   "metadata": {
    "execution": {
     "iopub.execute_input": "2023-03-13T23:31:29.674457Z",
     "iopub.status.busy": "2023-03-13T23:31:29.674009Z",
     "iopub.status.idle": "2023-03-13T23:31:29.681505Z",
     "shell.execute_reply": "2023-03-13T23:31:29.680289Z"
    },
    "papermill": {
     "duration": 0.016244,
     "end_time": "2023-03-13T23:31:29.683797",
     "exception": false,
     "start_time": "2023-03-13T23:31:29.667553",
     "status": "completed"
    },
    "tags": []
   },
   "outputs": [
    {
     "data": {
      "text/plain": [
       "['Today',\n",
       " 'Ġis',\n",
       " 'ĠMonday',\n",
       " '.',\n",
       " 'ĠLong',\n",
       " 'Ġlive',\n",
       " 'ĠMonday',\n",
       " '.',\n",
       " 'ĠMonday',\n",
       " 'Ġis',\n",
       " 'Ġbefore',\n",
       " 'ĠTuesday',\n",
       " '.',\n",
       " 'ĠToken',\n",
       " 'izing',\n",
       " ',',\n",
       " 'Ġeh',\n",
       " '?']"
      ]
     },
     "execution_count": 6,
     "metadata": {},
     "output_type": "execute_result"
    }
   ],
   "source": [
    "text_encoded.tokens"
   ]
  },
  {
   "cell_type": "code",
   "execution_count": 7,
   "id": "01e07599",
   "metadata": {
    "execution": {
     "iopub.execute_input": "2023-03-13T23:31:29.695569Z",
     "iopub.status.busy": "2023-03-13T23:31:29.695128Z",
     "iopub.status.idle": "2023-03-13T23:31:29.702829Z",
     "shell.execute_reply": "2023-03-13T23:31:29.701661Z"
    },
    "papermill": {
     "duration": 0.016142,
     "end_time": "2023-03-13T23:31:29.705187",
     "exception": false,
     "start_time": "2023-03-13T23:31:29.689045",
     "status": "completed"
    },
    "tags": []
   },
   "outputs": [
    {
     "data": {
      "text/plain": [
       "[5625,\n",
       " 16,\n",
       " 302,\n",
       " 4,\n",
       " 2597,\n",
       " 697,\n",
       " 302,\n",
       " 4,\n",
       " 302,\n",
       " 16,\n",
       " 137,\n",
       " 294,\n",
       " 4,\n",
       " 29464,\n",
       " 2787,\n",
       " 6,\n",
       " 35670,\n",
       " 116]"
      ]
     },
     "execution_count": 7,
     "metadata": {},
     "output_type": "execute_result"
    }
   ],
   "source": [
    "text_encoded.ids"
   ]
  },
  {
   "cell_type": "markdown",
   "id": "4dd82afb",
   "metadata": {
    "papermill": {
     "duration": 0.00452,
     "end_time": "2023-03-13T23:31:29.714619",
     "exception": false,
     "start_time": "2023-03-13T23:31:29.710099",
     "status": "completed"
    },
    "tags": []
   },
   "source": [
    "## Method 2 (Preferred)"
   ]
  },
  {
   "cell_type": "code",
   "execution_count": 8,
   "id": "477f856e",
   "metadata": {
    "execution": {
     "iopub.execute_input": "2023-03-13T23:31:29.726869Z",
     "iopub.status.busy": "2023-03-13T23:31:29.725890Z",
     "iopub.status.idle": "2023-03-13T23:31:29.893553Z",
     "shell.execute_reply": "2023-03-13T23:31:29.892345Z"
    },
    "papermill": {
     "duration": 0.17656,
     "end_time": "2023-03-13T23:31:29.896146",
     "exception": false,
     "start_time": "2023-03-13T23:31:29.719586",
     "status": "completed"
    },
    "tags": []
   },
   "outputs": [
    {
     "data": {
      "text/plain": [
       "RobertaTokenizerFast(name_or_path='../input/roberta-base', vocab_size=50265, model_max_length=1000000000000000019884624838656, is_fast=True, padding_side='right', truncation_side='right', special_tokens={'bos_token': '<s>', 'eos_token': '</s>', 'unk_token': '<unk>', 'sep_token': '</s>', 'pad_token': '<pad>', 'cls_token': '<s>', 'mask_token': AddedToken(\"<mask>\", rstrip=False, lstrip=True, single_word=False, normalized=False)})"
      ]
     },
     "execution_count": 8,
     "metadata": {},
     "output_type": "execute_result"
    }
   ],
   "source": [
    "tokenizer = AutoTokenizer.from_pretrained(pretrained_model_name_or_path=ROBERTA_PATH)\n",
    "tokenizer"
   ]
  },
  {
   "cell_type": "code",
   "execution_count": 9,
   "id": "4090ccb1",
   "metadata": {
    "execution": {
     "iopub.execute_input": "2023-03-13T23:31:29.909020Z",
     "iopub.status.busy": "2023-03-13T23:31:29.907993Z",
     "iopub.status.idle": "2023-03-13T23:31:29.916572Z",
     "shell.execute_reply": "2023-03-13T23:31:29.915400Z"
    },
    "papermill": {
     "duration": 0.018132,
     "end_time": "2023-03-13T23:31:29.919501",
     "exception": false,
     "start_time": "2023-03-13T23:31:29.901369",
     "status": "completed"
    },
    "tags": []
   },
   "outputs": [],
   "source": [
    "text = ['Today is Monday. Long live Monday. Monday is before Tuesday', 'Tokenizing, eh?']\n",
    "text_encoded = tokenizer(text)"
   ]
  },
  {
   "cell_type": "code",
   "execution_count": 10,
   "id": "78aef20c",
   "metadata": {
    "execution": {
     "iopub.execute_input": "2023-03-13T23:31:29.931910Z",
     "iopub.status.busy": "2023-03-13T23:31:29.931436Z",
     "iopub.status.idle": "2023-03-13T23:31:29.939559Z",
     "shell.execute_reply": "2023-03-13T23:31:29.938578Z"
    },
    "papermill": {
     "duration": 0.016826,
     "end_time": "2023-03-13T23:31:29.941701",
     "exception": false,
     "start_time": "2023-03-13T23:31:29.924875",
     "status": "completed"
    },
    "tags": []
   },
   "outputs": [
    {
     "data": {
      "text/plain": [
       "{'input_ids': [[0, 5625, 16, 302, 4, 2597, 697, 302, 4, 302, 16, 137, 294, 2], [0, 45643, 2787, 6, 35670, 116, 2]], 'attention_mask': [[1, 1, 1, 1, 1, 1, 1, 1, 1, 1, 1, 1, 1, 1], [1, 1, 1, 1, 1, 1, 1]]}"
      ]
     },
     "execution_count": 10,
     "metadata": {},
     "output_type": "execute_result"
    }
   ],
   "source": [
    "text_encoded"
   ]
  },
  {
   "cell_type": "code",
   "execution_count": 11,
   "id": "bbe7bd85",
   "metadata": {
    "execution": {
     "iopub.execute_input": "2023-03-13T23:31:29.953846Z",
     "iopub.status.busy": "2023-03-13T23:31:29.953409Z",
     "iopub.status.idle": "2023-03-13T23:31:29.959181Z",
     "shell.execute_reply": "2023-03-13T23:31:29.958238Z"
    },
    "papermill": {
     "duration": 0.015035,
     "end_time": "2023-03-13T23:31:29.961999",
     "exception": false,
     "start_time": "2023-03-13T23:31:29.946964",
     "status": "completed"
    },
    "tags": []
   },
   "outputs": [
    {
     "name": "stdout",
     "output_type": "stream",
     "text": [
      "['<s>', 'Today', 'Ġis', 'ĠMonday', '.', 'ĠLong', 'Ġlive', 'ĠMonday', '.', 'ĠMonday', 'Ġis', 'Ġbefore', 'ĠTuesday', '</s>']\n",
      "['<s>', 'Token', 'izing', ',', 'Ġeh', '?', '</s>']\n"
     ]
    }
   ],
   "source": [
    "for txt in [0,1]: \n",
    "    tokens = tokenizer.convert_ids_to_tokens(text_encoded.input_ids[txt])\n",
    "    print(tokens)"
   ]
  },
  {
   "cell_type": "code",
   "execution_count": 12,
   "id": "583f95c1",
   "metadata": {
    "execution": {
     "iopub.execute_input": "2023-03-13T23:31:29.974904Z",
     "iopub.status.busy": "2023-03-13T23:31:29.974116Z",
     "iopub.status.idle": "2023-03-13T23:31:31.828770Z",
     "shell.execute_reply": "2023-03-13T23:31:31.827304Z"
    },
    "papermill": {
     "duration": 1.864297,
     "end_time": "2023-03-13T23:31:31.831678",
     "exception": false,
     "start_time": "2023-03-13T23:31:29.967381",
     "status": "completed"
    },
    "tags": []
   },
   "outputs": [
    {
     "name": "stderr",
     "output_type": "stream",
     "text": [
      "Asking to truncate to max_length but no maximum length is provided and the model has no predefined maximum length. Default to no truncation.\n"
     ]
    },
    {
     "data": {
      "text/plain": [
       "{'input_ids': tensor([[    0,  5625,    16,   302,     4,  2597,   697,   302,     4,   302,\n",
       "            16,   137,   294,     2],\n",
       "        [    0, 45643,  2787,     6, 35670,   116,     2,     1,     1,     1,\n",
       "             1,     1,     1,     1]]), 'attention_mask': tensor([[1, 1, 1, 1, 1, 1, 1, 1, 1, 1, 1, 1, 1, 1],\n",
       "        [1, 1, 1, 1, 1, 1, 1, 0, 0, 0, 0, 0, 0, 0]])}"
      ]
     },
     "execution_count": 12,
     "metadata": {},
     "output_type": "execute_result"
    }
   ],
   "source": [
    "model_inputs = tokenizer(text, return_tensors='pt', padding=True, truncation=True)\n",
    "model_inputs"
   ]
  },
  {
   "cell_type": "code",
   "execution_count": null,
   "id": "ebce6688",
   "metadata": {
    "papermill": {
     "duration": 0.005155,
     "end_time": "2023-03-13T23:31:31.842357",
     "exception": false,
     "start_time": "2023-03-13T23:31:31.837202",
     "status": "completed"
    },
    "tags": []
   },
   "outputs": [],
   "source": []
  }
 ],
 "metadata": {
  "kernelspec": {
   "display_name": "Python 3",
   "language": "python",
   "name": "python3"
  },
  "language_info": {
   "codemirror_mode": {
    "name": "ipython",
    "version": 3
   },
   "file_extension": ".py",
   "mimetype": "text/x-python",
   "name": "python",
   "nbconvert_exporter": "python",
   "pygments_lexer": "ipython3",
   "version": "3.7.12"
  },
  "papermill": {
   "default_parameters": {},
   "duration": 23.706707,
   "end_time": "2023-03-13T23:31:34.692727",
   "environment_variables": {},
   "exception": null,
   "input_path": "__notebook__.ipynb",
   "output_path": "__notebook__.ipynb",
   "parameters": {},
   "start_time": "2023-03-13T23:31:10.986020",
   "version": "2.4.0"
  }
 },
 "nbformat": 4,
 "nbformat_minor": 5
}
