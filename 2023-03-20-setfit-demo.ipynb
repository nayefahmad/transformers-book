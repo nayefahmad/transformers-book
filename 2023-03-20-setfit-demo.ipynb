{
 "cells": [
  {
   "cell_type": "markdown",
   "id": "42118533",
   "metadata": {
    "papermill": {
     "duration": 0.002059,
     "end_time": "2023-03-21T13:54:22.595711",
     "exception": false,
     "start_time": "2023-03-21T13:54:22.593652",
     "status": "completed"
    },
    "tags": []
   },
   "source": [
    "# SetFit demo \n",
    "\n",
    "This nb explores SetFit for few-shot text classification. \n",
    "\n",
    "## References: \n",
    "1. [Phil Scmid blog post](https://www.philschmid.de/getting-started-setfit)\n",
    "1. [Moshe Wasserblat blog post](https://towardsdatascience.com/sentence-transformer-fine-tuning-setfit-outperforms-gpt-3-on-few-shot-text-classification-while-d9a3788f0b4e)\n",
    "1. [hf blog on setfit](https://huggingface.co/blog/setfit)\n",
    "1. [hf setfit on github](https://github.com/huggingface/setfit)\n",
    "1. [Colab nb](https://colab.research.google.com/github/MosheWasserb/SetFit/blob/main/SetFit_SST_2.ipynb#scrollTo=2S3_U2u4W8wH)"
   ]
  },
  {
   "cell_type": "code",
   "execution_count": null,
   "id": "17ddc91a",
   "metadata": {
    "papermill": {
     "duration": 0.000908,
     "end_time": "2023-03-21T13:54:22.597983",
     "exception": false,
     "start_time": "2023-03-21T13:54:22.597075",
     "status": "completed"
    },
    "tags": []
   },
   "outputs": [],
   "source": []
  }
 ],
 "metadata": {
  "kernelspec": {
   "display_name": "Python 3",
   "language": "python",
   "name": "python3"
  },
  "language_info": {
   "codemirror_mode": {
    "name": "ipython",
    "version": 3
   },
   "file_extension": ".py",
   "mimetype": "text/x-python",
   "name": "python",
   "nbconvert_exporter": "python",
   "pygments_lexer": "ipython3",
   "version": "3.7.12"
  },
  "papermill": {
   "default_parameters": {},
   "duration": 10.462968,
   "end_time": "2023-03-21T13:54:23.121005",
   "environment_variables": {},
   "exception": null,
   "input_path": "__notebook__.ipynb",
   "output_path": "__notebook__.ipynb",
   "parameters": {},
   "start_time": "2023-03-21T13:54:12.658037",
   "version": "2.4.0"
  }
 },
 "nbformat": 4,
 "nbformat_minor": 5
}
