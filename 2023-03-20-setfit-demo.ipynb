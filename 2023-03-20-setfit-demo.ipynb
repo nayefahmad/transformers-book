{
 "cells": [
  {
   "cell_type": "markdown",
   "id": "807b8a7d",
   "metadata": {
    "papermill": {
     "duration": 0.003098,
     "end_time": "2023-03-21T13:50:20.356165",
     "exception": false,
     "start_time": "2023-03-21T13:50:20.353067",
     "status": "completed"
    },
    "tags": []
   },
   "source": [
    "# hi|\n"
   ]
  },
  {
   "cell_type": "code",
   "execution_count": 1,
   "id": "7c8bfb34",
   "metadata": {
    "_cell_guid": "b1076dfc-b9ad-4769-8c92-a6c4dae69d19",
    "_uuid": "8f2839f25d086af736a60e9eeb907d3b93b6e0e5",
    "execution": {
     "iopub.execute_input": "2023-03-21T13:50:20.362148Z",
     "iopub.status.busy": "2023-03-21T13:50:20.361680Z",
     "iopub.status.idle": "2023-03-21T13:50:20.374591Z",
     "shell.execute_reply": "2023-03-21T13:50:20.373521Z"
    },
    "papermill": {
     "duration": 0.019289,
     "end_time": "2023-03-21T13:50:20.377868",
     "exception": false,
     "start_time": "2023-03-21T13:50:20.358579",
     "status": "completed"
    },
    "tags": []
   },
   "outputs": [],
   "source": [
    "# This Python 3 environment comes with many helpful analytics libraries installed\n",
    "# It is defined by the kaggle/python Docker image: https://github.com/kaggle/docker-python\n",
    "# For example, here's several helpful packages to load\n",
    "\n",
    "import numpy as np # linear algebra\n",
    "import pandas as pd # data processing, CSV file I/O (e.g. pd.read_csv)\n",
    "\n",
    "# Input data files are available in the read-only \"../input/\" directory\n",
    "# For example, running this (by clicking run or pressing Shift+Enter) will list all files under the input directory\n",
    "\n",
    "import os\n",
    "for dirname, _, filenames in os.walk('/kaggle/input'):\n",
    "    for filename in filenames:\n",
    "        print(os.path.join(dirname, filename))\n",
    "\n",
    "# You can write up to 20GB to the current directory (/kaggle/working/) that gets preserved as output when you create a version using \"Save & Run All\" \n",
    "# You can also write temporary files to /kaggle/temp/, but they won't be saved outside of the current session"
   ]
  },
  {
   "cell_type": "markdown",
   "id": "e4ea4099",
   "metadata": {
    "papermill": {
     "duration": 0.001508,
     "end_time": "2023-03-21T13:50:20.381110",
     "exception": false,
     "start_time": "2023-03-21T13:50:20.379602",
     "status": "completed"
    },
    "tags": []
   },
   "source": [
    "# SetFit demo \n",
    "\n",
    "This nb explores SetFit for few-shot text classification. \n",
    "\n",
    "## References: \n",
    "1. [Phil Scmid blog post](https://www.philschmid.de/getting-started-setfit)\n",
    "1. [TDS post](https://towardsdatascience.com/sentence-transformer-fine-tuning-setfit-outperforms-gpt-3-on-few-shot-text-classification-while-d9a3788f0b4e)\n",
    "1. [Colab nb](https://colab.research.google.com/github/MosheWasserb/SetFit/blob/main/SetFit_SST_2.ipynb#scrollTo=2S3_U2u4W8wH)\n",
    "1. [hf setfit on github](https://github.com/huggingface/setfit)"
   ]
  }
 ],
 "metadata": {
  "kernelspec": {
   "display_name": "Python 3",
   "language": "python",
   "name": "python3"
  },
  "language_info": {
   "codemirror_mode": {
    "name": "ipython",
    "version": 3
   },
   "file_extension": ".py",
   "mimetype": "text/x-python",
   "name": "python",
   "nbconvert_exporter": "python",
   "pygments_lexer": "ipython3",
   "version": "3.7.12"
  },
  "papermill": {
   "default_parameters": {},
   "duration": 9.427687,
   "end_time": "2023-03-21T13:50:20.903153",
   "environment_variables": {},
   "exception": null,
   "input_path": "__notebook__.ipynb",
   "output_path": "__notebook__.ipynb",
   "parameters": {},
   "start_time": "2023-03-21T13:50:11.475466",
   "version": "2.4.0"
  }
 },
 "nbformat": 4,
 "nbformat_minor": 5
}
