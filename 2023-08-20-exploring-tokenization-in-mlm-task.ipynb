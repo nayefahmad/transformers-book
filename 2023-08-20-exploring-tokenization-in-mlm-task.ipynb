{
 "cells": [
  {
   "cell_type": "markdown",
   "id": "465ed067",
   "metadata": {
    "papermill": {
     "duration": 0.009687,
     "end_time": "2023-08-21T04:59:19.942788",
     "exception": false,
     "start_time": "2023-08-21T04:59:19.933101",
     "status": "completed"
    },
    "tags": []
   },
   "source": [
    "# Exploring tokenization in MLM\n",
    "\n",
    "## Conclusion\n",
    "For proper evaluation of a model's ability to recover a masked word, we should take into account the tokenization of the word, and pass the appropriate number of \"mask\" tokens to the model for prediction. \n",
    "\n",
    "E.g. Consider the word \"aileron\". `roberta-base` tokenizes this into three tokens: `'Ġa', 'iler', 'on'`. If we replace the word with a single \"mask\" token, the model will never be able to predict \"aileron\" because it simply doesn't have a token for that full word. However, if we recognize that \"aileron\" is tokenized into three tokens, and replace the word with \"mask mask mask\", then the model can recover the word. \n",
    "\n",
    "## Notes \n",
    "- Difference between `tokenizer(text)` and `tokenizer.tokenize(text)`. Former gives the input_ids and attention_mask, latter gives only the tokens. "
   ]
  },
  {
   "cell_type": "code",
   "execution_count": 1,
   "id": "39103e63",
   "metadata": {
    "execution": {
     "iopub.execute_input": "2023-08-21T04:59:19.963443Z",
     "iopub.status.busy": "2023-08-21T04:59:19.962679Z",
     "iopub.status.idle": "2023-08-21T04:59:32.677839Z",
     "shell.execute_reply": "2023-08-21T04:59:32.676863Z"
    },
    "papermill": {
     "duration": 12.728811,
     "end_time": "2023-08-21T04:59:32.681040",
     "exception": false,
     "start_time": "2023-08-21T04:59:19.952229",
     "status": "completed"
    },
    "tags": []
   },
   "outputs": [
    {
     "name": "stderr",
     "output_type": "stream",
     "text": [
      "/opt/conda/lib/python3.10/site-packages/scipy/__init__.py:146: UserWarning: A NumPy version >=1.16.5 and <1.23.0 is required for this version of SciPy (detected version 1.23.5\n",
      "  warnings.warn(f\"A NumPy version >={np_minversion} and <{np_maxversion}\"\n",
      "/opt/conda/lib/python3.10/site-packages/tensorflow_io/python/ops/__init__.py:98: UserWarning: unable to load libtensorflow_io_plugins.so: unable to open file: libtensorflow_io_plugins.so, from paths: ['/opt/conda/lib/python3.10/site-packages/tensorflow_io/python/ops/libtensorflow_io_plugins.so']\n",
      "caused by: ['/opt/conda/lib/python3.10/site-packages/tensorflow_io/python/ops/libtensorflow_io_plugins.so: undefined symbol: _ZN3tsl6StatusC1EN10tensorflow5error4CodeESt17basic_string_viewIcSt11char_traitsIcEENS_14SourceLocationE']\n",
      "  warnings.warn(f\"unable to load libtensorflow_io_plugins.so: {e}\")\n",
      "/opt/conda/lib/python3.10/site-packages/tensorflow_io/python/ops/__init__.py:104: UserWarning: file system plugins are not loaded: unable to open file: libtensorflow_io.so, from paths: ['/opt/conda/lib/python3.10/site-packages/tensorflow_io/python/ops/libtensorflow_io.so']\n",
      "caused by: ['/opt/conda/lib/python3.10/site-packages/tensorflow_io/python/ops/libtensorflow_io.so: undefined symbol: _ZTVN10tensorflow13GcsFileSystemE']\n",
      "  warnings.warn(f\"file system plugins are not loaded: {e}\")\n"
     ]
    }
   ],
   "source": [
    "import torch\n",
    "from transformers import RobertaTokenizer, RobertaForMaskedLM"
   ]
  },
  {
   "cell_type": "code",
   "execution_count": 2,
   "id": "cdfb99cb",
   "metadata": {
    "execution": {
     "iopub.execute_input": "2023-08-21T04:59:32.707779Z",
     "iopub.status.busy": "2023-08-21T04:59:32.707339Z",
     "iopub.status.idle": "2023-08-21T04:59:33.516208Z",
     "shell.execute_reply": "2023-08-21T04:59:33.515234Z"
    },
    "papermill": {
     "duration": 0.82439,
     "end_time": "2023-08-21T04:59:33.518646",
     "exception": false,
     "start_time": "2023-08-21T04:59:32.694256",
     "status": "completed"
    },
    "tags": []
   },
   "outputs": [
    {
     "data": {
      "application/vnd.jupyter.widget-view+json": {
       "model_id": "d071dc1d846649a48f6b615573ebea78",
       "version_major": 2,
       "version_minor": 0
      },
      "text/plain": [
       "Downloading (…)olve/main/vocab.json:   0%|          | 0.00/899k [00:00<?, ?B/s]"
      ]
     },
     "metadata": {},
     "output_type": "display_data"
    },
    {
     "data": {
      "application/vnd.jupyter.widget-view+json": {
       "model_id": "11d88f3afbc54c08af0c7d76a82d3a49",
       "version_major": 2,
       "version_minor": 0
      },
      "text/plain": [
       "Downloading (…)olve/main/merges.txt:   0%|          | 0.00/456k [00:00<?, ?B/s]"
      ]
     },
     "metadata": {},
     "output_type": "display_data"
    },
    {
     "data": {
      "application/vnd.jupyter.widget-view+json": {
       "model_id": "d0b654e68e8a4233840bbbb61e9706aa",
       "version_major": 2,
       "version_minor": 0
      },
      "text/plain": [
       "Downloading (…)lve/main/config.json:   0%|          | 0.00/481 [00:00<?, ?B/s]"
      ]
     },
     "metadata": {},
     "output_type": "display_data"
    }
   ],
   "source": [
    "tokenizer = RobertaTokenizer.from_pretrained('roberta-base')"
   ]
  },
  {
   "cell_type": "code",
   "execution_count": 3,
   "id": "e9e94bea",
   "metadata": {
    "execution": {
     "iopub.execute_input": "2023-08-21T04:59:33.538819Z",
     "iopub.status.busy": "2023-08-21T04:59:33.538510Z",
     "iopub.status.idle": "2023-08-21T04:59:38.028469Z",
     "shell.execute_reply": "2023-08-21T04:59:38.027438Z"
    },
    "papermill": {
     "duration": 4.503052,
     "end_time": "2023-08-21T04:59:38.031194",
     "exception": false,
     "start_time": "2023-08-21T04:59:33.528142",
     "status": "completed"
    },
    "tags": []
   },
   "outputs": [
    {
     "data": {
      "application/vnd.jupyter.widget-view+json": {
       "model_id": "5b41ed3d0d2641058728a374a96d4f47",
       "version_major": 2,
       "version_minor": 0
      },
      "text/plain": [
       "Downloading model.safetensors:   0%|          | 0.00/499M [00:00<?, ?B/s]"
      ]
     },
     "metadata": {},
     "output_type": "display_data"
    }
   ],
   "source": [
    "model = RobertaForMaskedLM.from_pretrained('roberta-base')"
   ]
  },
  {
   "cell_type": "code",
   "execution_count": 4,
   "id": "6d321aa1",
   "metadata": {
    "execution": {
     "iopub.execute_input": "2023-08-21T04:59:38.052880Z",
     "iopub.status.busy": "2023-08-21T04:59:38.052517Z",
     "iopub.status.idle": "2023-08-21T04:59:38.061488Z",
     "shell.execute_reply": "2023-08-21T04:59:38.060554Z"
    },
    "papermill": {
     "duration": 0.022273,
     "end_time": "2023-08-21T04:59:38.063533",
     "exception": false,
     "start_time": "2023-08-21T04:59:38.041260",
     "status": "completed"
    },
    "scrolled": true,
    "tags": []
   },
   "outputs": [
    {
     "data": {
      "text/plain": [
       "RobertaForMaskedLM(\n",
       "  (roberta): RobertaModel(\n",
       "    (embeddings): RobertaEmbeddings(\n",
       "      (word_embeddings): Embedding(50265, 768, padding_idx=1)\n",
       "      (position_embeddings): Embedding(514, 768, padding_idx=1)\n",
       "      (token_type_embeddings): Embedding(1, 768)\n",
       "      (LayerNorm): LayerNorm((768,), eps=1e-05, elementwise_affine=True)\n",
       "      (dropout): Dropout(p=0.1, inplace=False)\n",
       "    )\n",
       "    (encoder): RobertaEncoder(\n",
       "      (layer): ModuleList(\n",
       "        (0-11): 12 x RobertaLayer(\n",
       "          (attention): RobertaAttention(\n",
       "            (self): RobertaSelfAttention(\n",
       "              (query): Linear(in_features=768, out_features=768, bias=True)\n",
       "              (key): Linear(in_features=768, out_features=768, bias=True)\n",
       "              (value): Linear(in_features=768, out_features=768, bias=True)\n",
       "              (dropout): Dropout(p=0.1, inplace=False)\n",
       "            )\n",
       "            (output): RobertaSelfOutput(\n",
       "              (dense): Linear(in_features=768, out_features=768, bias=True)\n",
       "              (LayerNorm): LayerNorm((768,), eps=1e-05, elementwise_affine=True)\n",
       "              (dropout): Dropout(p=0.1, inplace=False)\n",
       "            )\n",
       "          )\n",
       "          (intermediate): RobertaIntermediate(\n",
       "            (dense): Linear(in_features=768, out_features=3072, bias=True)\n",
       "            (intermediate_act_fn): GELUActivation()\n",
       "          )\n",
       "          (output): RobertaOutput(\n",
       "            (dense): Linear(in_features=3072, out_features=768, bias=True)\n",
       "            (LayerNorm): LayerNorm((768,), eps=1e-05, elementwise_affine=True)\n",
       "            (dropout): Dropout(p=0.1, inplace=False)\n",
       "          )\n",
       "        )\n",
       "      )\n",
       "    )\n",
       "  )\n",
       "  (lm_head): RobertaLMHead(\n",
       "    (dense): Linear(in_features=768, out_features=768, bias=True)\n",
       "    (layer_norm): LayerNorm((768,), eps=1e-05, elementwise_affine=True)\n",
       "    (decoder): Linear(in_features=768, out_features=50265, bias=True)\n",
       "  )\n",
       ")"
      ]
     },
     "execution_count": 4,
     "metadata": {},
     "output_type": "execute_result"
    }
   ],
   "source": [
    "model"
   ]
  },
  {
   "cell_type": "code",
   "execution_count": 5,
   "id": "e6f02237",
   "metadata": {
    "execution": {
     "iopub.execute_input": "2023-08-21T04:59:38.084917Z",
     "iopub.status.busy": "2023-08-21T04:59:38.083998Z",
     "iopub.status.idle": "2023-08-21T04:59:38.089929Z",
     "shell.execute_reply": "2023-08-21T04:59:38.089062Z"
    },
    "papermill": {
     "duration": 0.018895,
     "end_time": "2023-08-21T04:59:38.092195",
     "exception": false,
     "start_time": "2023-08-21T04:59:38.073300",
     "status": "completed"
    },
    "tags": []
   },
   "outputs": [],
   "source": [
    "texts_and_masked_words = {\n",
    "    0: (\"The element with atomic number 70 is Ytterbium. Ytterbium starts with the letter Y and ends with M. It is named after Ytterby, the village in Sweden\", \"Ytterbium\"), \n",
    "    1: (\"My friend lives in a neighbourhood called Mississauga. It is in the west of Toronto, and starts with the letter M\", \"Mississauga\"),\n",
    "    2: (\"Replaced the right aileron, which is a movable part of an airplane wing. The aileron replacement is part of regular maintenance\", \"aileron\"), \n",
    "    3: (\"The number 90210 is a zip code in Beverly Hills, California, USA. It is also the name of an American teen drama television series. 90210 is one of five zip codes in the city of Beverly Hills\", \"90210\")\n",
    "}\n",
    "\n",
    "text_selected = 3"
   ]
  },
  {
   "cell_type": "code",
   "execution_count": 6,
   "id": "ccfafcc0",
   "metadata": {
    "execution": {
     "iopub.execute_input": "2023-08-21T04:59:38.112716Z",
     "iopub.status.busy": "2023-08-21T04:59:38.112410Z",
     "iopub.status.idle": "2023-08-21T04:59:38.117682Z",
     "shell.execute_reply": "2023-08-21T04:59:38.116775Z"
    },
    "papermill": {
     "duration": 0.018266,
     "end_time": "2023-08-21T04:59:38.120099",
     "exception": false,
     "start_time": "2023-08-21T04:59:38.101833",
     "status": "completed"
    },
    "tags": []
   },
   "outputs": [
    {
     "name": "stdout",
     "output_type": "stream",
     "text": [
      "The number 90210 is a zip code in Beverly Hills, California, USA. It is also the name of an American teen drama television series. 90210 is one of five zip codes in the city of Beverly Hills\n"
     ]
    }
   ],
   "source": [
    "text = texts_and_masked_words[text_selected][0]\n",
    "word = texts_and_masked_words[text_selected][1]\n",
    "print(text)"
   ]
  },
  {
   "cell_type": "code",
   "execution_count": 7,
   "id": "9df2853c",
   "metadata": {
    "execution": {
     "iopub.execute_input": "2023-08-21T04:59:38.141994Z",
     "iopub.status.busy": "2023-08-21T04:59:38.141125Z",
     "iopub.status.idle": "2023-08-21T04:59:38.146646Z",
     "shell.execute_reply": "2023-08-21T04:59:38.145565Z"
    },
    "papermill": {
     "duration": 0.018705,
     "end_time": "2023-08-21T04:59:38.148987",
     "exception": false,
     "start_time": "2023-08-21T04:59:38.130282",
     "status": "completed"
    },
    "tags": []
   },
   "outputs": [
    {
     "name": "stdout",
     "output_type": "stream",
     "text": [
      "90210\n"
     ]
    }
   ],
   "source": [
    "print(word)"
   ]
  },
  {
   "cell_type": "code",
   "execution_count": 8,
   "id": "1ed25f8e",
   "metadata": {
    "execution": {
     "iopub.execute_input": "2023-08-21T04:59:38.169501Z",
     "iopub.status.busy": "2023-08-21T04:59:38.169240Z",
     "iopub.status.idle": "2023-08-21T04:59:38.176118Z",
     "shell.execute_reply": "2023-08-21T04:59:38.175285Z"
    },
    "papermill": {
     "duration": 0.019412,
     "end_time": "2023-08-21T04:59:38.178099",
     "exception": false,
     "start_time": "2023-08-21T04:59:38.158687",
     "status": "completed"
    },
    "tags": []
   },
   "outputs": [],
   "source": [
    "encoding = tokenizer(text, return_tensors='pt', padding=False)"
   ]
  },
  {
   "cell_type": "code",
   "execution_count": 9,
   "id": "8d231e5e",
   "metadata": {
    "execution": {
     "iopub.execute_input": "2023-08-21T04:59:38.198238Z",
     "iopub.status.busy": "2023-08-21T04:59:38.197953Z",
     "iopub.status.idle": "2023-08-21T04:59:38.206834Z",
     "shell.execute_reply": "2023-08-21T04:59:38.205750Z"
    },
    "papermill": {
     "duration": 0.021215,
     "end_time": "2023-08-21T04:59:38.208873",
     "exception": false,
     "start_time": "2023-08-21T04:59:38.187658",
     "status": "completed"
    },
    "tags": []
   },
   "outputs": [
    {
     "data": {
      "text/plain": [
       "{'input_ids': tensor([[    0,   133,   346,   361,  4197,   698,    16,    10, 23595,  3260,\n",
       "            11, 13130,  4962,     6,   886,     6,  2805,     4,    85,    16,\n",
       "            67,     5,   766,     9,    41,   470,  6066,  4149,  2384,   651,\n",
       "             4,   361,  4197,   698,    16,    65,     9,   292, 23595, 14284,\n",
       "            11,     5,   343,     9, 13130,  4962,     2]]), 'attention_mask': tensor([[1, 1, 1, 1, 1, 1, 1, 1, 1, 1, 1, 1, 1, 1, 1, 1, 1, 1, 1, 1, 1, 1, 1, 1,\n",
       "         1, 1, 1, 1, 1, 1, 1, 1, 1, 1, 1, 1, 1, 1, 1, 1, 1, 1, 1, 1, 1, 1, 1]])}"
      ]
     },
     "execution_count": 9,
     "metadata": {},
     "output_type": "execute_result"
    }
   ],
   "source": [
    "encoding"
   ]
  },
  {
   "cell_type": "code",
   "execution_count": 10,
   "id": "06a89d12",
   "metadata": {
    "execution": {
     "iopub.execute_input": "2023-08-21T04:59:38.231142Z",
     "iopub.status.busy": "2023-08-21T04:59:38.230318Z",
     "iopub.status.idle": "2023-08-21T04:59:38.236542Z",
     "shell.execute_reply": "2023-08-21T04:59:38.235578Z"
    },
    "papermill": {
     "duration": 0.018501,
     "end_time": "2023-08-21T04:59:38.238495",
     "exception": false,
     "start_time": "2023-08-21T04:59:38.219994",
     "status": "completed"
    },
    "tags": []
   },
   "outputs": [
    {
     "data": {
      "text/plain": [
       "37"
      ]
     },
     "execution_count": 10,
     "metadata": {},
     "output_type": "execute_result"
    }
   ],
   "source": [
    "num_words = len(text.split())\n",
    "num_words"
   ]
  },
  {
   "cell_type": "code",
   "execution_count": 11,
   "id": "0e14ce1b",
   "metadata": {
    "execution": {
     "iopub.execute_input": "2023-08-21T04:59:38.259182Z",
     "iopub.status.busy": "2023-08-21T04:59:38.258582Z",
     "iopub.status.idle": "2023-08-21T04:59:38.265547Z",
     "shell.execute_reply": "2023-08-21T04:59:38.264684Z"
    },
    "papermill": {
     "duration": 0.019546,
     "end_time": "2023-08-21T04:59:38.267535",
     "exception": false,
     "start_time": "2023-08-21T04:59:38.247989",
     "status": "completed"
    },
    "tags": []
   },
   "outputs": [
    {
     "data": {
      "text/plain": [
       "45"
      ]
     },
     "execution_count": 11,
     "metadata": {},
     "output_type": "execute_result"
    }
   ],
   "source": [
    "num_tokens_without_start_and_stop = len(encoding['input_ids'][0]) - 2  # subtract the start and stop tokens \n",
    "num_tokens_without_start_and_stop"
   ]
  },
  {
   "cell_type": "code",
   "execution_count": 12,
   "id": "9e7bbe88",
   "metadata": {
    "execution": {
     "iopub.execute_input": "2023-08-21T04:59:38.289369Z",
     "iopub.status.busy": "2023-08-21T04:59:38.288613Z",
     "iopub.status.idle": "2023-08-21T04:59:38.296471Z",
     "shell.execute_reply": "2023-08-21T04:59:38.295366Z"
    },
    "papermill": {
     "duration": 0.020712,
     "end_time": "2023-08-21T04:59:38.298504",
     "exception": false,
     "start_time": "2023-08-21T04:59:38.277792",
     "status": "completed"
    },
    "tags": []
   },
   "outputs": [
    {
     "data": {
      "text/plain": [
       "['<s>',\n",
       " 'The',\n",
       " 'Ġnumber',\n",
       " 'Ġ9',\n",
       " '02',\n",
       " '10',\n",
       " 'Ġis',\n",
       " 'Ġa',\n",
       " 'Ġzip',\n",
       " 'Ġcode',\n",
       " 'Ġin',\n",
       " 'ĠBeverly',\n",
       " 'ĠHills',\n",
       " ',',\n",
       " 'ĠCalifornia',\n",
       " ',',\n",
       " 'ĠUSA',\n",
       " '.',\n",
       " 'ĠIt',\n",
       " 'Ġis',\n",
       " 'Ġalso',\n",
       " 'Ġthe',\n",
       " 'Ġname',\n",
       " 'Ġof',\n",
       " 'Ġan',\n",
       " 'ĠAmerican',\n",
       " 'Ġteen',\n",
       " 'Ġdrama',\n",
       " 'Ġtelevision',\n",
       " 'Ġseries',\n",
       " '.',\n",
       " 'Ġ9',\n",
       " '02',\n",
       " '10',\n",
       " 'Ġis',\n",
       " 'Ġone',\n",
       " 'Ġof',\n",
       " 'Ġfive',\n",
       " 'Ġzip',\n",
       " 'Ġcodes',\n",
       " 'Ġin',\n",
       " 'Ġthe',\n",
       " 'Ġcity',\n",
       " 'Ġof',\n",
       " 'ĠBeverly',\n",
       " 'ĠHills',\n",
       " '</s>']"
      ]
     },
     "execution_count": 12,
     "metadata": {},
     "output_type": "execute_result"
    }
   ],
   "source": [
    "tokenizer.convert_ids_to_tokens(encoding['input_ids'][0])"
   ]
  },
  {
   "cell_type": "markdown",
   "id": "7c3c3980",
   "metadata": {
    "papermill": {
     "duration": 0.009917,
     "end_time": "2023-08-21T04:59:38.318434",
     "exception": false,
     "start_time": "2023-08-21T04:59:38.308517",
     "status": "completed"
    },
    "tags": []
   },
   "source": [
    "# Approach 1"
   ]
  },
  {
   "cell_type": "code",
   "execution_count": 13,
   "id": "975ab174",
   "metadata": {
    "execution": {
     "iopub.execute_input": "2023-08-21T04:59:38.340690Z",
     "iopub.status.busy": "2023-08-21T04:59:38.339817Z",
     "iopub.status.idle": "2023-08-21T04:59:38.346707Z",
     "shell.execute_reply": "2023-08-21T04:59:38.345762Z"
    },
    "papermill": {
     "duration": 0.020266,
     "end_time": "2023-08-21T04:59:38.348845",
     "exception": false,
     "start_time": "2023-08-21T04:59:38.328579",
     "status": "completed"
    },
    "tags": []
   },
   "outputs": [
    {
     "data": {
      "text/plain": [
       "'The number <mask> is a zip code in Beverly Hills, California, USA. It is also the name of an American teen drama television series. 90210 is one of five zip codes in the city of Beverly Hills'"
      ]
     },
     "execution_count": 13,
     "metadata": {},
     "output_type": "execute_result"
    }
   ],
   "source": [
    "masked_sentence_01 = text.replace(word, \"<mask>\", 1)\n",
    "masked_sentence_01"
   ]
  },
  {
   "cell_type": "code",
   "execution_count": 14,
   "id": "124c681c",
   "metadata": {
    "execution": {
     "iopub.execute_input": "2023-08-21T04:59:38.372141Z",
     "iopub.status.busy": "2023-08-21T04:59:38.370480Z",
     "iopub.status.idle": "2023-08-21T04:59:38.379157Z",
     "shell.execute_reply": "2023-08-21T04:59:38.378173Z"
    },
    "papermill": {
     "duration": 0.022106,
     "end_time": "2023-08-21T04:59:38.381309",
     "exception": false,
     "start_time": "2023-08-21T04:59:38.359203",
     "status": "completed"
    },
    "tags": []
   },
   "outputs": [
    {
     "data": {
      "text/plain": [
       "45"
      ]
     },
     "execution_count": 14,
     "metadata": {},
     "output_type": "execute_result"
    }
   ],
   "source": [
    "inputs = tokenizer(masked_sentence_01, return_tensors='pt')\n",
    "\n",
    "num_tokens = len(inputs['input_ids'][0])\n",
    "num_tokens"
   ]
  },
  {
   "cell_type": "code",
   "execution_count": 15,
   "id": "ac3cac2b",
   "metadata": {
    "execution": {
     "iopub.execute_input": "2023-08-21T04:59:38.403532Z",
     "iopub.status.busy": "2023-08-21T04:59:38.402788Z",
     "iopub.status.idle": "2023-08-21T04:59:38.410456Z",
     "shell.execute_reply": "2023-08-21T04:59:38.409504Z"
    },
    "papermill": {
     "duration": 0.020992,
     "end_time": "2023-08-21T04:59:38.412747",
     "exception": false,
     "start_time": "2023-08-21T04:59:38.391755",
     "status": "completed"
    },
    "tags": []
   },
   "outputs": [
    {
     "data": {
      "text/plain": [
       "['<s>',\n",
       " 'The',\n",
       " 'Ġnumber',\n",
       " '<mask>',\n",
       " 'Ġis',\n",
       " 'Ġa',\n",
       " 'Ġzip',\n",
       " 'Ġcode',\n",
       " 'Ġin',\n",
       " 'ĠBeverly',\n",
       " 'ĠHills',\n",
       " ',',\n",
       " 'ĠCalifornia',\n",
       " ',',\n",
       " 'ĠUSA',\n",
       " '.',\n",
       " 'ĠIt',\n",
       " 'Ġis',\n",
       " 'Ġalso',\n",
       " 'Ġthe',\n",
       " 'Ġname',\n",
       " 'Ġof',\n",
       " 'Ġan',\n",
       " 'ĠAmerican',\n",
       " 'Ġteen',\n",
       " 'Ġdrama',\n",
       " 'Ġtelevision',\n",
       " 'Ġseries',\n",
       " '.',\n",
       " 'Ġ9',\n",
       " '02',\n",
       " '10',\n",
       " 'Ġis',\n",
       " 'Ġone',\n",
       " 'Ġof',\n",
       " 'Ġfive',\n",
       " 'Ġzip',\n",
       " 'Ġcodes',\n",
       " 'Ġin',\n",
       " 'Ġthe',\n",
       " 'Ġcity',\n",
       " 'Ġof',\n",
       " 'ĠBeverly',\n",
       " 'ĠHills',\n",
       " '</s>']"
      ]
     },
     "execution_count": 15,
     "metadata": {},
     "output_type": "execute_result"
    }
   ],
   "source": [
    "tokenizer.convert_ids_to_tokens(inputs['input_ids'][0])"
   ]
  },
  {
   "cell_type": "code",
   "execution_count": 16,
   "id": "ad1dec3b",
   "metadata": {
    "execution": {
     "iopub.execute_input": "2023-08-21T04:59:38.435088Z",
     "iopub.status.busy": "2023-08-21T04:59:38.434317Z",
     "iopub.status.idle": "2023-08-21T04:59:38.740729Z",
     "shell.execute_reply": "2023-08-21T04:59:38.739734Z"
    },
    "papermill": {
     "duration": 0.320312,
     "end_time": "2023-08-21T04:59:38.743527",
     "exception": false,
     "start_time": "2023-08-21T04:59:38.423215",
     "status": "completed"
    },
    "tags": []
   },
   "outputs": [],
   "source": [
    "# model predictions: \n",
    "with torch.no_grad():\n",
    "    outputs = model(**inputs)\n",
    "    predictions = outputs.logits"
   ]
  },
  {
   "cell_type": "code",
   "execution_count": 17,
   "id": "87fa351a",
   "metadata": {
    "execution": {
     "iopub.execute_input": "2023-08-21T04:59:38.766618Z",
     "iopub.status.busy": "2023-08-21T04:59:38.766313Z",
     "iopub.status.idle": "2023-08-21T04:59:38.772060Z",
     "shell.execute_reply": "2023-08-21T04:59:38.771080Z"
    },
    "papermill": {
     "duration": 0.020214,
     "end_time": "2023-08-21T04:59:38.774304",
     "exception": false,
     "start_time": "2023-08-21T04:59:38.754090",
     "status": "completed"
    },
    "tags": []
   },
   "outputs": [
    {
     "data": {
      "text/plain": [
       "torch.Size([1, 45, 50265])"
      ]
     },
     "execution_count": 17,
     "metadata": {},
     "output_type": "execute_result"
    }
   ],
   "source": [
    "# 1 sentence, 11 tokens, scores for each of 50,265 tokens in vocab\n",
    "predictions.shape"
   ]
  },
  {
   "cell_type": "code",
   "execution_count": 18,
   "id": "e4b4fbd7",
   "metadata": {
    "execution": {
     "iopub.execute_input": "2023-08-21T04:59:38.797120Z",
     "iopub.status.busy": "2023-08-21T04:59:38.796230Z",
     "iopub.status.idle": "2023-08-21T04:59:38.807087Z",
     "shell.execute_reply": "2023-08-21T04:59:38.806160Z"
    },
    "papermill": {
     "duration": 0.024452,
     "end_time": "2023-08-21T04:59:38.809091",
     "exception": false,
     "start_time": "2023-08-21T04:59:38.784639",
     "status": "completed"
    },
    "tags": []
   },
   "outputs": [
    {
     "data": {
      "text/plain": [
       "torch.Size([1, 45])"
      ]
     },
     "execution_count": 18,
     "metadata": {},
     "output_type": "execute_result"
    }
   ],
   "source": [
    "predicted_ids = torch.argmax(predictions, dim=2)\n",
    "predicted_ids.shape"
   ]
  },
  {
   "cell_type": "code",
   "execution_count": 19,
   "id": "13784fc0",
   "metadata": {
    "execution": {
     "iopub.execute_input": "2023-08-21T04:59:38.832059Z",
     "iopub.status.busy": "2023-08-21T04:59:38.831245Z",
     "iopub.status.idle": "2023-08-21T04:59:38.838054Z",
     "shell.execute_reply": "2023-08-21T04:59:38.837076Z"
    },
    "papermill": {
     "duration": 0.020533,
     "end_time": "2023-08-21T04:59:38.840043",
     "exception": false,
     "start_time": "2023-08-21T04:59:38.819510",
     "status": "completed"
    },
    "tags": []
   },
   "outputs": [
    {
     "data": {
      "text/plain": [
       "['<s>The number 9 is a zip code in Beverly Hills, California, USA. It is also the name of an American teen drama television series. 90210 is one of five zip codes in the city of Beverly Hills</s>']"
      ]
     },
     "execution_count": 19,
     "metadata": {},
     "output_type": "execute_result"
    }
   ],
   "source": [
    "predicted_tokens = [tokenizer.decode(token_id) for token_id in predicted_ids]\n",
    "predicted_tokens"
   ]
  },
  {
   "cell_type": "markdown",
   "id": "e9514918",
   "metadata": {
    "papermill": {
     "duration": 0.010412,
     "end_time": "2023-08-21T04:59:38.861123",
     "exception": false,
     "start_time": "2023-08-21T04:59:38.850711",
     "status": "completed"
    },
    "tags": []
   },
   "source": [
    "# Approach 2"
   ]
  },
  {
   "cell_type": "code",
   "execution_count": 20,
   "id": "f3285d28",
   "metadata": {
    "execution": {
     "iopub.execute_input": "2023-08-21T04:59:38.884679Z",
     "iopub.status.busy": "2023-08-21T04:59:38.883239Z",
     "iopub.status.idle": "2023-08-21T04:59:38.889863Z",
     "shell.execute_reply": "2023-08-21T04:59:38.888963Z"
    },
    "papermill": {
     "duration": 0.020083,
     "end_time": "2023-08-21T04:59:38.891845",
     "exception": false,
     "start_time": "2023-08-21T04:59:38.871762",
     "status": "completed"
    },
    "tags": []
   },
   "outputs": [
    {
     "data": {
      "text/plain": [
       "['9', '02', '10']"
      ]
     },
     "execution_count": 20,
     "metadata": {},
     "output_type": "execute_result"
    }
   ],
   "source": [
    "word_tokens = tokenizer.tokenize(word)\n",
    "word_tokens"
   ]
  },
  {
   "cell_type": "code",
   "execution_count": 21,
   "id": "eebd1c1f",
   "metadata": {
    "execution": {
     "iopub.execute_input": "2023-08-21T04:59:38.914910Z",
     "iopub.status.busy": "2023-08-21T04:59:38.914163Z",
     "iopub.status.idle": "2023-08-21T04:59:38.920162Z",
     "shell.execute_reply": "2023-08-21T04:59:38.919183Z"
    },
    "papermill": {
     "duration": 0.019562,
     "end_time": "2023-08-21T04:59:38.922120",
     "exception": false,
     "start_time": "2023-08-21T04:59:38.902558",
     "status": "completed"
    },
    "tags": []
   },
   "outputs": [
    {
     "data": {
      "text/plain": [
       "3"
      ]
     },
     "execution_count": 21,
     "metadata": {},
     "output_type": "execute_result"
    }
   ],
   "source": [
    "num_tokens = len(word_tokens)\n",
    "num_tokens"
   ]
  },
  {
   "cell_type": "code",
   "execution_count": 22,
   "id": "c368109d",
   "metadata": {
    "execution": {
     "iopub.execute_input": "2023-08-21T04:59:38.946068Z",
     "iopub.status.busy": "2023-08-21T04:59:38.944681Z",
     "iopub.status.idle": "2023-08-21T04:59:38.951182Z",
     "shell.execute_reply": "2023-08-21T04:59:38.950224Z"
    },
    "papermill": {
     "duration": 0.020171,
     "end_time": "2023-08-21T04:59:38.953127",
     "exception": false,
     "start_time": "2023-08-21T04:59:38.932956",
     "status": "completed"
    },
    "tags": []
   },
   "outputs": [
    {
     "data": {
      "text/plain": [
       "'The number <mask> <mask> <mask> is a zip code in Beverly Hills, California, USA. It is also the name of an American teen drama television series. 90210 is one of five zip codes in the city of Beverly Hills'"
      ]
     },
     "execution_count": 22,
     "metadata": {},
     "output_type": "execute_result"
    }
   ],
   "source": [
    "masked_sentence_02 = text.replace(word, \" \".join([\"<mask>\"] * num_tokens), 1)\n",
    "masked_sentence_02"
   ]
  },
  {
   "cell_type": "code",
   "execution_count": 23,
   "id": "a0c13876",
   "metadata": {
    "execution": {
     "iopub.execute_input": "2023-08-21T04:59:38.976564Z",
     "iopub.status.busy": "2023-08-21T04:59:38.975915Z",
     "iopub.status.idle": "2023-08-21T04:59:38.981025Z",
     "shell.execute_reply": "2023-08-21T04:59:38.980081Z"
    },
    "papermill": {
     "duration": 0.018796,
     "end_time": "2023-08-21T04:59:38.982932",
     "exception": false,
     "start_time": "2023-08-21T04:59:38.964136",
     "status": "completed"
    },
    "tags": []
   },
   "outputs": [],
   "source": [
    "inputs_02 = tokenizer(masked_sentence_02, return_tensors='pt')"
   ]
  },
  {
   "cell_type": "code",
   "execution_count": 24,
   "id": "132f8255",
   "metadata": {
    "execution": {
     "iopub.execute_input": "2023-08-21T04:59:39.007644Z",
     "iopub.status.busy": "2023-08-21T04:59:39.006187Z",
     "iopub.status.idle": "2023-08-21T04:59:39.014421Z",
     "shell.execute_reply": "2023-08-21T04:59:39.013472Z"
    },
    "papermill": {
     "duration": 0.022393,
     "end_time": "2023-08-21T04:59:39.016435",
     "exception": false,
     "start_time": "2023-08-21T04:59:38.994042",
     "status": "completed"
    },
    "tags": []
   },
   "outputs": [
    {
     "data": {
      "text/plain": [
       "['<s>',\n",
       " 'The',\n",
       " 'Ġnumber',\n",
       " '<mask>',\n",
       " '<mask>',\n",
       " '<mask>',\n",
       " 'Ġis',\n",
       " 'Ġa',\n",
       " 'Ġzip',\n",
       " 'Ġcode',\n",
       " 'Ġin',\n",
       " 'ĠBeverly',\n",
       " 'ĠHills',\n",
       " ',',\n",
       " 'ĠCalifornia',\n",
       " ',',\n",
       " 'ĠUSA',\n",
       " '.',\n",
       " 'ĠIt',\n",
       " 'Ġis',\n",
       " 'Ġalso',\n",
       " 'Ġthe',\n",
       " 'Ġname',\n",
       " 'Ġof',\n",
       " 'Ġan',\n",
       " 'ĠAmerican',\n",
       " 'Ġteen',\n",
       " 'Ġdrama',\n",
       " 'Ġtelevision',\n",
       " 'Ġseries',\n",
       " '.',\n",
       " 'Ġ9',\n",
       " '02',\n",
       " '10',\n",
       " 'Ġis',\n",
       " 'Ġone',\n",
       " 'Ġof',\n",
       " 'Ġfive',\n",
       " 'Ġzip',\n",
       " 'Ġcodes',\n",
       " 'Ġin',\n",
       " 'Ġthe',\n",
       " 'Ġcity',\n",
       " 'Ġof',\n",
       " 'ĠBeverly',\n",
       " 'ĠHills',\n",
       " '</s>']"
      ]
     },
     "execution_count": 24,
     "metadata": {},
     "output_type": "execute_result"
    }
   ],
   "source": [
    "tokenizer.convert_ids_to_tokens(inputs_02['input_ids'][0])"
   ]
  },
  {
   "cell_type": "code",
   "execution_count": 25,
   "id": "a79c83ed",
   "metadata": {
    "execution": {
     "iopub.execute_input": "2023-08-21T04:59:39.040568Z",
     "iopub.status.busy": "2023-08-21T04:59:39.039900Z",
     "iopub.status.idle": "2023-08-21T04:59:39.045788Z",
     "shell.execute_reply": "2023-08-21T04:59:39.044940Z"
    },
    "papermill": {
     "duration": 0.019955,
     "end_time": "2023-08-21T04:59:39.047752",
     "exception": false,
     "start_time": "2023-08-21T04:59:39.027797",
     "status": "completed"
    },
    "tags": []
   },
   "outputs": [
    {
     "data": {
      "text/plain": [
       "47"
      ]
     },
     "execution_count": 25,
     "metadata": {},
     "output_type": "execute_result"
    }
   ],
   "source": [
    "num_tokens = len(inputs_02['input_ids'][0])\n",
    "num_tokens"
   ]
  },
  {
   "cell_type": "code",
   "execution_count": 26,
   "id": "2b49d308",
   "metadata": {
    "execution": {
     "iopub.execute_input": "2023-08-21T04:59:39.072896Z",
     "iopub.status.busy": "2023-08-21T04:59:39.071450Z",
     "iopub.status.idle": "2023-08-21T04:59:39.295104Z",
     "shell.execute_reply": "2023-08-21T04:59:39.293992Z"
    },
    "papermill": {
     "duration": 0.238925,
     "end_time": "2023-08-21T04:59:39.297874",
     "exception": false,
     "start_time": "2023-08-21T04:59:39.058949",
     "status": "completed"
    },
    "tags": []
   },
   "outputs": [
    {
     "data": {
      "text/plain": [
       "torch.Size([1, 47, 50265])"
      ]
     },
     "execution_count": 26,
     "metadata": {},
     "output_type": "execute_result"
    }
   ],
   "source": [
    "# predictions \n",
    "with torch.no_grad(): \n",
    "    outputs = model(**inputs_02)\n",
    "    predictions = outputs.logits \n",
    "    \n",
    "# 1 sentence, 15 tokens, scores for each of 50,265 tokens in vocab\n",
    "predictions.shape"
   ]
  },
  {
   "cell_type": "code",
   "execution_count": 27,
   "id": "98450c5f",
   "metadata": {
    "execution": {
     "iopub.execute_input": "2023-08-21T04:59:39.322682Z",
     "iopub.status.busy": "2023-08-21T04:59:39.322380Z",
     "iopub.status.idle": "2023-08-21T04:59:39.333061Z",
     "shell.execute_reply": "2023-08-21T04:59:39.331993Z"
    },
    "papermill": {
     "duration": 0.025479,
     "end_time": "2023-08-21T04:59:39.335275",
     "exception": false,
     "start_time": "2023-08-21T04:59:39.309796",
     "status": "completed"
    },
    "tags": []
   },
   "outputs": [
    {
     "data": {
      "text/plain": [
       "torch.Size([1, 47])"
      ]
     },
     "execution_count": 27,
     "metadata": {},
     "output_type": "execute_result"
    }
   ],
   "source": [
    "predicted_ids = torch.argmax(predictions, dim=2)\n",
    "predicted_ids.shape"
   ]
  },
  {
   "cell_type": "code",
   "execution_count": 28,
   "id": "90960266",
   "metadata": {
    "execution": {
     "iopub.execute_input": "2023-08-21T04:59:39.361192Z",
     "iopub.status.busy": "2023-08-21T04:59:39.360400Z",
     "iopub.status.idle": "2023-08-21T04:59:39.367239Z",
     "shell.execute_reply": "2023-08-21T04:59:39.366256Z"
    },
    "papermill": {
     "duration": 0.022005,
     "end_time": "2023-08-21T04:59:39.369207",
     "exception": false,
     "start_time": "2023-08-21T04:59:39.347202",
     "status": "completed"
    },
    "tags": []
   },
   "outputs": [
    {
     "data": {
      "text/plain": [
       "['<s>The number 90210 is a zip code in Beverly Hills, California, USA. It is also the name of an American teen drama television series. 90210 is one of five zip codes in the city of Beverly Hills</s>']"
      ]
     },
     "execution_count": 28,
     "metadata": {},
     "output_type": "execute_result"
    }
   ],
   "source": [
    "predicted_tokens = [tokenizer.decode(token_id) for token_id in predicted_ids]\n",
    "predicted_tokens"
   ]
  },
  {
   "cell_type": "code",
   "execution_count": null,
   "id": "21d4f891",
   "metadata": {
    "papermill": {
     "duration": 0.01207,
     "end_time": "2023-08-21T04:59:39.393731",
     "exception": false,
     "start_time": "2023-08-21T04:59:39.381661",
     "status": "completed"
    },
    "tags": []
   },
   "outputs": [],
   "source": []
  },
  {
   "cell_type": "code",
   "execution_count": null,
   "id": "5d1427b9",
   "metadata": {
    "papermill": {
     "duration": 0.011503,
     "end_time": "2023-08-21T04:59:39.416912",
     "exception": false,
     "start_time": "2023-08-21T04:59:39.405409",
     "status": "completed"
    },
    "tags": []
   },
   "outputs": [],
   "source": []
  }
 ],
 "metadata": {
  "kernelspec": {
   "display_name": "Python 3",
   "language": "python",
   "name": "python3"
  },
  "language_info": {
   "codemirror_mode": {
    "name": "ipython",
    "version": 3
   },
   "file_extension": ".py",
   "mimetype": "text/x-python",
   "name": "python",
   "nbconvert_exporter": "python",
   "pygments_lexer": "ipython3",
   "version": "3.10.12"
  },
  "papermill": {
   "default_parameters": {},
   "duration": 32.725544,
   "end_time": "2023-08-21T04:59:42.767370",
   "environment_variables": {},
   "exception": null,
   "input_path": "__notebook__.ipynb",
   "output_path": "__notebook__.ipynb",
   "parameters": {},
   "start_time": "2023-08-21T04:59:10.041826",
   "version": "2.4.0"
  },
  "widgets": {
   "application/vnd.jupyter.widget-state+json": {
    "state": {
     "0037b937e3ac4f93b75178289bf1dfb7": {
      "model_module": "@jupyter-widgets/base",
      "model_module_version": "1.2.0",
      "model_name": "LayoutModel",
      "state": {
       "_model_module": "@jupyter-widgets/base",
       "_model_module_version": "1.2.0",
       "_model_name": "LayoutModel",
       "_view_count": null,
       "_view_module": "@jupyter-widgets/base",
       "_view_module_version": "1.2.0",
       "_view_name": "LayoutView",
       "align_content": null,
       "align_items": null,
       "align_self": null,
       "border": null,
       "bottom": null,
       "display": null,
       "flex": null,
       "flex_flow": null,
       "grid_area": null,
       "grid_auto_columns": null,
       "grid_auto_flow": null,
       "grid_auto_rows": null,
       "grid_column": null,
       "grid_gap": null,
       "grid_row": null,
       "grid_template_areas": null,
       "grid_template_columns": null,
       "grid_template_rows": null,
       "height": null,
       "justify_content": null,
       "justify_items": null,
       "left": null,
       "margin": null,
       "max_height": null,
       "max_width": null,
       "min_height": null,
       "min_width": null,
       "object_fit": null,
       "object_position": null,
       "order": null,
       "overflow": null,
       "overflow_x": null,
       "overflow_y": null,
       "padding": null,
       "right": null,
       "top": null,
       "visibility": null,
       "width": null
      }
     },
     "109db0fe2cab497181d8d12f673d21b6": {
      "model_module": "@jupyter-widgets/base",
      "model_module_version": "1.2.0",
      "model_name": "LayoutModel",
      "state": {
       "_model_module": "@jupyter-widgets/base",
       "_model_module_version": "1.2.0",
       "_model_name": "LayoutModel",
       "_view_count": null,
       "_view_module": "@jupyter-widgets/base",
       "_view_module_version": "1.2.0",
       "_view_name": "LayoutView",
       "align_content": null,
       "align_items": null,
       "align_self": null,
       "border": null,
       "bottom": null,
       "display": null,
       "flex": null,
       "flex_flow": null,
       "grid_area": null,
       "grid_auto_columns": null,
       "grid_auto_flow": null,
       "grid_auto_rows": null,
       "grid_column": null,
       "grid_gap": null,
       "grid_row": null,
       "grid_template_areas": null,
       "grid_template_columns": null,
       "grid_template_rows": null,
       "height": null,
       "justify_content": null,
       "justify_items": null,
       "left": null,
       "margin": null,
       "max_height": null,
       "max_width": null,
       "min_height": null,
       "min_width": null,
       "object_fit": null,
       "object_position": null,
       "order": null,
       "overflow": null,
       "overflow_x": null,
       "overflow_y": null,
       "padding": null,
       "right": null,
       "top": null,
       "visibility": null,
       "width": null
      }
     },
     "11d88f3afbc54c08af0c7d76a82d3a49": {
      "model_module": "@jupyter-widgets/controls",
      "model_module_version": "1.5.0",
      "model_name": "HBoxModel",
      "state": {
       "_dom_classes": [],
       "_model_module": "@jupyter-widgets/controls",
       "_model_module_version": "1.5.0",
       "_model_name": "HBoxModel",
       "_view_count": null,
       "_view_module": "@jupyter-widgets/controls",
       "_view_module_version": "1.5.0",
       "_view_name": "HBoxView",
       "box_style": "",
       "children": [
        "IPY_MODEL_6c0047b5f9164e59a8f3db9516142888",
        "IPY_MODEL_a9212169f569446d85bb4a18c0904a18",
        "IPY_MODEL_1dba4a44565d4541a75b854705245028"
       ],
       "layout": "IPY_MODEL_2e8e0596191f4f6d808fea856f414989"
      }
     },
     "1741e610196e4de98a5afc7fc7d34150": {
      "model_module": "@jupyter-widgets/controls",
      "model_module_version": "1.5.0",
      "model_name": "DescriptionStyleModel",
      "state": {
       "_model_module": "@jupyter-widgets/controls",
       "_model_module_version": "1.5.0",
       "_model_name": "DescriptionStyleModel",
       "_view_count": null,
       "_view_module": "@jupyter-widgets/base",
       "_view_module_version": "1.2.0",
       "_view_name": "StyleView",
       "description_width": ""
      }
     },
     "1dba4a44565d4541a75b854705245028": {
      "model_module": "@jupyter-widgets/controls",
      "model_module_version": "1.5.0",
      "model_name": "HTMLModel",
      "state": {
       "_dom_classes": [],
       "_model_module": "@jupyter-widgets/controls",
       "_model_module_version": "1.5.0",
       "_model_name": "HTMLModel",
       "_view_count": null,
       "_view_module": "@jupyter-widgets/controls",
       "_view_module_version": "1.5.0",
       "_view_name": "HTMLView",
       "description": "",
       "description_tooltip": null,
       "layout": "IPY_MODEL_acd2d0c4744749b598f9a795a20b1c09",
       "placeholder": "​",
       "style": "IPY_MODEL_3b60e2cad490427b8c09ac5869e9187d",
       "value": " 456k/456k [00:00&lt;00:00, 9.67MB/s]"
      }
     },
     "1dcca27b55de4528b5a4026248a6a7e1": {
      "model_module": "@jupyter-widgets/base",
      "model_module_version": "1.2.0",
      "model_name": "LayoutModel",
      "state": {
       "_model_module": "@jupyter-widgets/base",
       "_model_module_version": "1.2.0",
       "_model_name": "LayoutModel",
       "_view_count": null,
       "_view_module": "@jupyter-widgets/base",
       "_view_module_version": "1.2.0",
       "_view_name": "LayoutView",
       "align_content": null,
       "align_items": null,
       "align_self": null,
       "border": null,
       "bottom": null,
       "display": null,
       "flex": null,
       "flex_flow": null,
       "grid_area": null,
       "grid_auto_columns": null,
       "grid_auto_flow": null,
       "grid_auto_rows": null,
       "grid_column": null,
       "grid_gap": null,
       "grid_row": null,
       "grid_template_areas": null,
       "grid_template_columns": null,
       "grid_template_rows": null,
       "height": null,
       "justify_content": null,
       "justify_items": null,
       "left": null,
       "margin": null,
       "max_height": null,
       "max_width": null,
       "min_height": null,
       "min_width": null,
       "object_fit": null,
       "object_position": null,
       "order": null,
       "overflow": null,
       "overflow_x": null,
       "overflow_y": null,
       "padding": null,
       "right": null,
       "top": null,
       "visibility": null,
       "width": null
      }
     },
     "1e88138f08aa49d4a4425caaeddc3ecf": {
      "model_module": "@jupyter-widgets/controls",
      "model_module_version": "1.5.0",
      "model_name": "HTMLModel",
      "state": {
       "_dom_classes": [],
       "_model_module": "@jupyter-widgets/controls",
       "_model_module_version": "1.5.0",
       "_model_name": "HTMLModel",
       "_view_count": null,
       "_view_module": "@jupyter-widgets/controls",
       "_view_module_version": "1.5.0",
       "_view_name": "HTMLView",
       "description": "",
       "description_tooltip": null,
       "layout": "IPY_MODEL_1dcca27b55de4528b5a4026248a6a7e1",
       "placeholder": "​",
       "style": "IPY_MODEL_5d2540974e8e4f09bc5e6e57fa3a4061",
       "value": " 499M/499M [00:02&lt;00:00, 226MB/s]"
      }
     },
     "1ffb1d50aba646c7be6d08156ead4059": {
      "model_module": "@jupyter-widgets/base",
      "model_module_version": "1.2.0",
      "model_name": "LayoutModel",
      "state": {
       "_model_module": "@jupyter-widgets/base",
       "_model_module_version": "1.2.0",
       "_model_name": "LayoutModel",
       "_view_count": null,
       "_view_module": "@jupyter-widgets/base",
       "_view_module_version": "1.2.0",
       "_view_name": "LayoutView",
       "align_content": null,
       "align_items": null,
       "align_self": null,
       "border": null,
       "bottom": null,
       "display": null,
       "flex": null,
       "flex_flow": null,
       "grid_area": null,
       "grid_auto_columns": null,
       "grid_auto_flow": null,
       "grid_auto_rows": null,
       "grid_column": null,
       "grid_gap": null,
       "grid_row": null,
       "grid_template_areas": null,
       "grid_template_columns": null,
       "grid_template_rows": null,
       "height": null,
       "justify_content": null,
       "justify_items": null,
       "left": null,
       "margin": null,
       "max_height": null,
       "max_width": null,
       "min_height": null,
       "min_width": null,
       "object_fit": null,
       "object_position": null,
       "order": null,
       "overflow": null,
       "overflow_x": null,
       "overflow_y": null,
       "padding": null,
       "right": null,
       "top": null,
       "visibility": null,
       "width": null
      }
     },
     "20a8c8ffc4984fbca8dc47fd8c4a208b": {
      "model_module": "@jupyter-widgets/base",
      "model_module_version": "1.2.0",
      "model_name": "LayoutModel",
      "state": {
       "_model_module": "@jupyter-widgets/base",
       "_model_module_version": "1.2.0",
       "_model_name": "LayoutModel",
       "_view_count": null,
       "_view_module": "@jupyter-widgets/base",
       "_view_module_version": "1.2.0",
       "_view_name": "LayoutView",
       "align_content": null,
       "align_items": null,
       "align_self": null,
       "border": null,
       "bottom": null,
       "display": null,
       "flex": null,
       "flex_flow": null,
       "grid_area": null,
       "grid_auto_columns": null,
       "grid_auto_flow": null,
       "grid_auto_rows": null,
       "grid_column": null,
       "grid_gap": null,
       "grid_row": null,
       "grid_template_areas": null,
       "grid_template_columns": null,
       "grid_template_rows": null,
       "height": null,
       "justify_content": null,
       "justify_items": null,
       "left": null,
       "margin": null,
       "max_height": null,
       "max_width": null,
       "min_height": null,
       "min_width": null,
       "object_fit": null,
       "object_position": null,
       "order": null,
       "overflow": null,
       "overflow_x": null,
       "overflow_y": null,
       "padding": null,
       "right": null,
       "top": null,
       "visibility": null,
       "width": null
      }
     },
     "290933c5373644a794eb77b4e367c2b7": {
      "model_module": "@jupyter-widgets/controls",
      "model_module_version": "1.5.0",
      "model_name": "DescriptionStyleModel",
      "state": {
       "_model_module": "@jupyter-widgets/controls",
       "_model_module_version": "1.5.0",
       "_model_name": "DescriptionStyleModel",
       "_view_count": null,
       "_view_module": "@jupyter-widgets/base",
       "_view_module_version": "1.2.0",
       "_view_name": "StyleView",
       "description_width": ""
      }
     },
     "2e66b564060b4daeb85dfd29fc749502": {
      "model_module": "@jupyter-widgets/base",
      "model_module_version": "1.2.0",
      "model_name": "LayoutModel",
      "state": {
       "_model_module": "@jupyter-widgets/base",
       "_model_module_version": "1.2.0",
       "_model_name": "LayoutModel",
       "_view_count": null,
       "_view_module": "@jupyter-widgets/base",
       "_view_module_version": "1.2.0",
       "_view_name": "LayoutView",
       "align_content": null,
       "align_items": null,
       "align_self": null,
       "border": null,
       "bottom": null,
       "display": null,
       "flex": null,
       "flex_flow": null,
       "grid_area": null,
       "grid_auto_columns": null,
       "grid_auto_flow": null,
       "grid_auto_rows": null,
       "grid_column": null,
       "grid_gap": null,
       "grid_row": null,
       "grid_template_areas": null,
       "grid_template_columns": null,
       "grid_template_rows": null,
       "height": null,
       "justify_content": null,
       "justify_items": null,
       "left": null,
       "margin": null,
       "max_height": null,
       "max_width": null,
       "min_height": null,
       "min_width": null,
       "object_fit": null,
       "object_position": null,
       "order": null,
       "overflow": null,
       "overflow_x": null,
       "overflow_y": null,
       "padding": null,
       "right": null,
       "top": null,
       "visibility": null,
       "width": null
      }
     },
     "2e8e0596191f4f6d808fea856f414989": {
      "model_module": "@jupyter-widgets/base",
      "model_module_version": "1.2.0",
      "model_name": "LayoutModel",
      "state": {
       "_model_module": "@jupyter-widgets/base",
       "_model_module_version": "1.2.0",
       "_model_name": "LayoutModel",
       "_view_count": null,
       "_view_module": "@jupyter-widgets/base",
       "_view_module_version": "1.2.0",
       "_view_name": "LayoutView",
       "align_content": null,
       "align_items": null,
       "align_self": null,
       "border": null,
       "bottom": null,
       "display": null,
       "flex": null,
       "flex_flow": null,
       "grid_area": null,
       "grid_auto_columns": null,
       "grid_auto_flow": null,
       "grid_auto_rows": null,
       "grid_column": null,
       "grid_gap": null,
       "grid_row": null,
       "grid_template_areas": null,
       "grid_template_columns": null,
       "grid_template_rows": null,
       "height": null,
       "justify_content": null,
       "justify_items": null,
       "left": null,
       "margin": null,
       "max_height": null,
       "max_width": null,
       "min_height": null,
       "min_width": null,
       "object_fit": null,
       "object_position": null,
       "order": null,
       "overflow": null,
       "overflow_x": null,
       "overflow_y": null,
       "padding": null,
       "right": null,
       "top": null,
       "visibility": null,
       "width": null
      }
     },
     "3b60e2cad490427b8c09ac5869e9187d": {
      "model_module": "@jupyter-widgets/controls",
      "model_module_version": "1.5.0",
      "model_name": "DescriptionStyleModel",
      "state": {
       "_model_module": "@jupyter-widgets/controls",
       "_model_module_version": "1.5.0",
       "_model_name": "DescriptionStyleModel",
       "_view_count": null,
       "_view_module": "@jupyter-widgets/base",
       "_view_module_version": "1.2.0",
       "_view_name": "StyleView",
       "description_width": ""
      }
     },
     "40a93217ead0413fb56fa2eae3283b2d": {
      "model_module": "@jupyter-widgets/base",
      "model_module_version": "1.2.0",
      "model_name": "LayoutModel",
      "state": {
       "_model_module": "@jupyter-widgets/base",
       "_model_module_version": "1.2.0",
       "_model_name": "LayoutModel",
       "_view_count": null,
       "_view_module": "@jupyter-widgets/base",
       "_view_module_version": "1.2.0",
       "_view_name": "LayoutView",
       "align_content": null,
       "align_items": null,
       "align_self": null,
       "border": null,
       "bottom": null,
       "display": null,
       "flex": null,
       "flex_flow": null,
       "grid_area": null,
       "grid_auto_columns": null,
       "grid_auto_flow": null,
       "grid_auto_rows": null,
       "grid_column": null,
       "grid_gap": null,
       "grid_row": null,
       "grid_template_areas": null,
       "grid_template_columns": null,
       "grid_template_rows": null,
       "height": null,
       "justify_content": null,
       "justify_items": null,
       "left": null,
       "margin": null,
       "max_height": null,
       "max_width": null,
       "min_height": null,
       "min_width": null,
       "object_fit": null,
       "object_position": null,
       "order": null,
       "overflow": null,
       "overflow_x": null,
       "overflow_y": null,
       "padding": null,
       "right": null,
       "top": null,
       "visibility": null,
       "width": null
      }
     },
     "46040ca826a54074a2423ff7fc43524c": {
      "model_module": "@jupyter-widgets/controls",
      "model_module_version": "1.5.0",
      "model_name": "DescriptionStyleModel",
      "state": {
       "_model_module": "@jupyter-widgets/controls",
       "_model_module_version": "1.5.0",
       "_model_name": "DescriptionStyleModel",
       "_view_count": null,
       "_view_module": "@jupyter-widgets/base",
       "_view_module_version": "1.2.0",
       "_view_name": "StyleView",
       "description_width": ""
      }
     },
     "4f03ecae6bf84a33842c9873c4a7ee41": {
      "model_module": "@jupyter-widgets/controls",
      "model_module_version": "1.5.0",
      "model_name": "HTMLModel",
      "state": {
       "_dom_classes": [],
       "_model_module": "@jupyter-widgets/controls",
       "_model_module_version": "1.5.0",
       "_model_name": "HTMLModel",
       "_view_count": null,
       "_view_module": "@jupyter-widgets/controls",
       "_view_module_version": "1.5.0",
       "_view_name": "HTMLView",
       "description": "",
       "description_tooltip": null,
       "layout": "IPY_MODEL_20a8c8ffc4984fbca8dc47fd8c4a208b",
       "placeholder": "​",
       "style": "IPY_MODEL_ae3fb070b7ac483f9598f58ab14046b4",
       "value": "Downloading (…)lve/main/config.json: 100%"
      }
     },
     "5b41ed3d0d2641058728a374a96d4f47": {
      "model_module": "@jupyter-widgets/controls",
      "model_module_version": "1.5.0",
      "model_name": "HBoxModel",
      "state": {
       "_dom_classes": [],
       "_model_module": "@jupyter-widgets/controls",
       "_model_module_version": "1.5.0",
       "_model_name": "HBoxModel",
       "_view_count": null,
       "_view_module": "@jupyter-widgets/controls",
       "_view_module_version": "1.5.0",
       "_view_name": "HBoxView",
       "box_style": "",
       "children": [
        "IPY_MODEL_7c8d3e7f35d1454582dcefdf867a1b78",
        "IPY_MODEL_9082dd5ed9264e6daa1c6f58938d4f9f",
        "IPY_MODEL_1e88138f08aa49d4a4425caaeddc3ecf"
       ],
       "layout": "IPY_MODEL_109db0fe2cab497181d8d12f673d21b6"
      }
     },
     "5d2540974e8e4f09bc5e6e57fa3a4061": {
      "model_module": "@jupyter-widgets/controls",
      "model_module_version": "1.5.0",
      "model_name": "DescriptionStyleModel",
      "state": {
       "_model_module": "@jupyter-widgets/controls",
       "_model_module_version": "1.5.0",
       "_model_name": "DescriptionStyleModel",
       "_view_count": null,
       "_view_module": "@jupyter-widgets/base",
       "_view_module_version": "1.2.0",
       "_view_name": "StyleView",
       "description_width": ""
      }
     },
     "5ea7001f52454b008f068e137343eb3f": {
      "model_module": "@jupyter-widgets/base",
      "model_module_version": "1.2.0",
      "model_name": "LayoutModel",
      "state": {
       "_model_module": "@jupyter-widgets/base",
       "_model_module_version": "1.2.0",
       "_model_name": "LayoutModel",
       "_view_count": null,
       "_view_module": "@jupyter-widgets/base",
       "_view_module_version": "1.2.0",
       "_view_name": "LayoutView",
       "align_content": null,
       "align_items": null,
       "align_self": null,
       "border": null,
       "bottom": null,
       "display": null,
       "flex": null,
       "flex_flow": null,
       "grid_area": null,
       "grid_auto_columns": null,
       "grid_auto_flow": null,
       "grid_auto_rows": null,
       "grid_column": null,
       "grid_gap": null,
       "grid_row": null,
       "grid_template_areas": null,
       "grid_template_columns": null,
       "grid_template_rows": null,
       "height": null,
       "justify_content": null,
       "justify_items": null,
       "left": null,
       "margin": null,
       "max_height": null,
       "max_width": null,
       "min_height": null,
       "min_width": null,
       "object_fit": null,
       "object_position": null,
       "order": null,
       "overflow": null,
       "overflow_x": null,
       "overflow_y": null,
       "padding": null,
       "right": null,
       "top": null,
       "visibility": null,
       "width": null
      }
     },
     "5eee12c4aeaa48d9a0fe3b6b1d8e125b": {
      "model_module": "@jupyter-widgets/base",
      "model_module_version": "1.2.0",
      "model_name": "LayoutModel",
      "state": {
       "_model_module": "@jupyter-widgets/base",
       "_model_module_version": "1.2.0",
       "_model_name": "LayoutModel",
       "_view_count": null,
       "_view_module": "@jupyter-widgets/base",
       "_view_module_version": "1.2.0",
       "_view_name": "LayoutView",
       "align_content": null,
       "align_items": null,
       "align_self": null,
       "border": null,
       "bottom": null,
       "display": null,
       "flex": null,
       "flex_flow": null,
       "grid_area": null,
       "grid_auto_columns": null,
       "grid_auto_flow": null,
       "grid_auto_rows": null,
       "grid_column": null,
       "grid_gap": null,
       "grid_row": null,
       "grid_template_areas": null,
       "grid_template_columns": null,
       "grid_template_rows": null,
       "height": null,
       "justify_content": null,
       "justify_items": null,
       "left": null,
       "margin": null,
       "max_height": null,
       "max_width": null,
       "min_height": null,
       "min_width": null,
       "object_fit": null,
       "object_position": null,
       "order": null,
       "overflow": null,
       "overflow_x": null,
       "overflow_y": null,
       "padding": null,
       "right": null,
       "top": null,
       "visibility": null,
       "width": null
      }
     },
     "6c0047b5f9164e59a8f3db9516142888": {
      "model_module": "@jupyter-widgets/controls",
      "model_module_version": "1.5.0",
      "model_name": "HTMLModel",
      "state": {
       "_dom_classes": [],
       "_model_module": "@jupyter-widgets/controls",
       "_model_module_version": "1.5.0",
       "_model_name": "HTMLModel",
       "_view_count": null,
       "_view_module": "@jupyter-widgets/controls",
       "_view_module_version": "1.5.0",
       "_view_name": "HTMLView",
       "description": "",
       "description_tooltip": null,
       "layout": "IPY_MODEL_0037b937e3ac4f93b75178289bf1dfb7",
       "placeholder": "​",
       "style": "IPY_MODEL_46040ca826a54074a2423ff7fc43524c",
       "value": "Downloading (…)olve/main/merges.txt: 100%"
      }
     },
     "6ea21b80817647eb9305b8591c6edba7": {
      "model_module": "@jupyter-widgets/controls",
      "model_module_version": "1.5.0",
      "model_name": "FloatProgressModel",
      "state": {
       "_dom_classes": [],
       "_model_module": "@jupyter-widgets/controls",
       "_model_module_version": "1.5.0",
       "_model_name": "FloatProgressModel",
       "_view_count": null,
       "_view_module": "@jupyter-widgets/controls",
       "_view_module_version": "1.5.0",
       "_view_name": "ProgressView",
       "bar_style": "success",
       "description": "",
       "description_tooltip": null,
       "layout": "IPY_MODEL_1ffb1d50aba646c7be6d08156ead4059",
       "max": 481.0,
       "min": 0.0,
       "orientation": "horizontal",
       "style": "IPY_MODEL_70a628965d1c4671b4e62bfc437f0939",
       "value": 481.0
      }
     },
     "70a628965d1c4671b4e62bfc437f0939": {
      "model_module": "@jupyter-widgets/controls",
      "model_module_version": "1.5.0",
      "model_name": "ProgressStyleModel",
      "state": {
       "_model_module": "@jupyter-widgets/controls",
       "_model_module_version": "1.5.0",
       "_model_name": "ProgressStyleModel",
       "_view_count": null,
       "_view_module": "@jupyter-widgets/base",
       "_view_module_version": "1.2.0",
       "_view_name": "StyleView",
       "bar_color": null,
       "description_width": ""
      }
     },
     "732d3260e2974f5bbf35006b5f9a13eb": {
      "model_module": "@jupyter-widgets/controls",
      "model_module_version": "1.5.0",
      "model_name": "ProgressStyleModel",
      "state": {
       "_model_module": "@jupyter-widgets/controls",
       "_model_module_version": "1.5.0",
       "_model_name": "ProgressStyleModel",
       "_view_count": null,
       "_view_module": "@jupyter-widgets/base",
       "_view_module_version": "1.2.0",
       "_view_name": "StyleView",
       "bar_color": null,
       "description_width": ""
      }
     },
     "79cf3599243e429c936e92f008a1282f": {
      "model_module": "@jupyter-widgets/base",
      "model_module_version": "1.2.0",
      "model_name": "LayoutModel",
      "state": {
       "_model_module": "@jupyter-widgets/base",
       "_model_module_version": "1.2.0",
       "_model_name": "LayoutModel",
       "_view_count": null,
       "_view_module": "@jupyter-widgets/base",
       "_view_module_version": "1.2.0",
       "_view_name": "LayoutView",
       "align_content": null,
       "align_items": null,
       "align_self": null,
       "border": null,
       "bottom": null,
       "display": null,
       "flex": null,
       "flex_flow": null,
       "grid_area": null,
       "grid_auto_columns": null,
       "grid_auto_flow": null,
       "grid_auto_rows": null,
       "grid_column": null,
       "grid_gap": null,
       "grid_row": null,
       "grid_template_areas": null,
       "grid_template_columns": null,
       "grid_template_rows": null,
       "height": null,
       "justify_content": null,
       "justify_items": null,
       "left": null,
       "margin": null,
       "max_height": null,
       "max_width": null,
       "min_height": null,
       "min_width": null,
       "object_fit": null,
       "object_position": null,
       "order": null,
       "overflow": null,
       "overflow_x": null,
       "overflow_y": null,
       "padding": null,
       "right": null,
       "top": null,
       "visibility": null,
       "width": null
      }
     },
     "7c8d3e7f35d1454582dcefdf867a1b78": {
      "model_module": "@jupyter-widgets/controls",
      "model_module_version": "1.5.0",
      "model_name": "HTMLModel",
      "state": {
       "_dom_classes": [],
       "_model_module": "@jupyter-widgets/controls",
       "_model_module_version": "1.5.0",
       "_model_name": "HTMLModel",
       "_view_count": null,
       "_view_module": "@jupyter-widgets/controls",
       "_view_module_version": "1.5.0",
       "_view_name": "HTMLView",
       "description": "",
       "description_tooltip": null,
       "layout": "IPY_MODEL_5eee12c4aeaa48d9a0fe3b6b1d8e125b",
       "placeholder": "​",
       "style": "IPY_MODEL_290933c5373644a794eb77b4e367c2b7",
       "value": "Downloading model.safetensors: 100%"
      }
     },
     "845de5cf1e4b4a0d8e8569799359f497": {
      "model_module": "@jupyter-widgets/controls",
      "model_module_version": "1.5.0",
      "model_name": "HTMLModel",
      "state": {
       "_dom_classes": [],
       "_model_module": "@jupyter-widgets/controls",
       "_model_module_version": "1.5.0",
       "_model_name": "HTMLModel",
       "_view_count": null,
       "_view_module": "@jupyter-widgets/controls",
       "_view_module_version": "1.5.0",
       "_view_name": "HTMLView",
       "description": "",
       "description_tooltip": null,
       "layout": "IPY_MODEL_a0be247a7b8444dd84e6eae947ad235f",
       "placeholder": "​",
       "style": "IPY_MODEL_1741e610196e4de98a5afc7fc7d34150",
       "value": " 481/481 [00:00&lt;00:00, 24.9kB/s]"
      }
     },
     "8912a572340b45b787db32001df67da3": {
      "model_module": "@jupyter-widgets/base",
      "model_module_version": "1.2.0",
      "model_name": "LayoutModel",
      "state": {
       "_model_module": "@jupyter-widgets/base",
       "_model_module_version": "1.2.0",
       "_model_name": "LayoutModel",
       "_view_count": null,
       "_view_module": "@jupyter-widgets/base",
       "_view_module_version": "1.2.0",
       "_view_name": "LayoutView",
       "align_content": null,
       "align_items": null,
       "align_self": null,
       "border": null,
       "bottom": null,
       "display": null,
       "flex": null,
       "flex_flow": null,
       "grid_area": null,
       "grid_auto_columns": null,
       "grid_auto_flow": null,
       "grid_auto_rows": null,
       "grid_column": null,
       "grid_gap": null,
       "grid_row": null,
       "grid_template_areas": null,
       "grid_template_columns": null,
       "grid_template_rows": null,
       "height": null,
       "justify_content": null,
       "justify_items": null,
       "left": null,
       "margin": null,
       "max_height": null,
       "max_width": null,
       "min_height": null,
       "min_width": null,
       "object_fit": null,
       "object_position": null,
       "order": null,
       "overflow": null,
       "overflow_x": null,
       "overflow_y": null,
       "padding": null,
       "right": null,
       "top": null,
       "visibility": null,
       "width": null
      }
     },
     "9082dd5ed9264e6daa1c6f58938d4f9f": {
      "model_module": "@jupyter-widgets/controls",
      "model_module_version": "1.5.0",
      "model_name": "FloatProgressModel",
      "state": {
       "_dom_classes": [],
       "_model_module": "@jupyter-widgets/controls",
       "_model_module_version": "1.5.0",
       "_model_name": "FloatProgressModel",
       "_view_count": null,
       "_view_module": "@jupyter-widgets/controls",
       "_view_module_version": "1.5.0",
       "_view_name": "ProgressView",
       "bar_style": "success",
       "description": "",
       "description_tooltip": null,
       "layout": "IPY_MODEL_40a93217ead0413fb56fa2eae3283b2d",
       "max": 498818054.0,
       "min": 0.0,
       "orientation": "horizontal",
       "style": "IPY_MODEL_732d3260e2974f5bbf35006b5f9a13eb",
       "value": 498818054.0
      }
     },
     "9288b59fe31742f9b855fb4ce6f8dda5": {
      "model_module": "@jupyter-widgets/base",
      "model_module_version": "1.2.0",
      "model_name": "LayoutModel",
      "state": {
       "_model_module": "@jupyter-widgets/base",
       "_model_module_version": "1.2.0",
       "_model_name": "LayoutModel",
       "_view_count": null,
       "_view_module": "@jupyter-widgets/base",
       "_view_module_version": "1.2.0",
       "_view_name": "LayoutView",
       "align_content": null,
       "align_items": null,
       "align_self": null,
       "border": null,
       "bottom": null,
       "display": null,
       "flex": null,
       "flex_flow": null,
       "grid_area": null,
       "grid_auto_columns": null,
       "grid_auto_flow": null,
       "grid_auto_rows": null,
       "grid_column": null,
       "grid_gap": null,
       "grid_row": null,
       "grid_template_areas": null,
       "grid_template_columns": null,
       "grid_template_rows": null,
       "height": null,
       "justify_content": null,
       "justify_items": null,
       "left": null,
       "margin": null,
       "max_height": null,
       "max_width": null,
       "min_height": null,
       "min_width": null,
       "object_fit": null,
       "object_position": null,
       "order": null,
       "overflow": null,
       "overflow_x": null,
       "overflow_y": null,
       "padding": null,
       "right": null,
       "top": null,
       "visibility": null,
       "width": null
      }
     },
     "94ee3fd2c22c4364b46df32309b3bd6f": {
      "model_module": "@jupyter-widgets/controls",
      "model_module_version": "1.5.0",
      "model_name": "HTMLModel",
      "state": {
       "_dom_classes": [],
       "_model_module": "@jupyter-widgets/controls",
       "_model_module_version": "1.5.0",
       "_model_name": "HTMLModel",
       "_view_count": null,
       "_view_module": "@jupyter-widgets/controls",
       "_view_module_version": "1.5.0",
       "_view_name": "HTMLView",
       "description": "",
       "description_tooltip": null,
       "layout": "IPY_MODEL_8912a572340b45b787db32001df67da3",
       "placeholder": "​",
       "style": "IPY_MODEL_fb93929824f0452a8061ca8f19fcdfc3",
       "value": " 899k/899k [00:00&lt;00:00, 9.71MB/s]"
      }
     },
     "a0be247a7b8444dd84e6eae947ad235f": {
      "model_module": "@jupyter-widgets/base",
      "model_module_version": "1.2.0",
      "model_name": "LayoutModel",
      "state": {
       "_model_module": "@jupyter-widgets/base",
       "_model_module_version": "1.2.0",
       "_model_name": "LayoutModel",
       "_view_count": null,
       "_view_module": "@jupyter-widgets/base",
       "_view_module_version": "1.2.0",
       "_view_name": "LayoutView",
       "align_content": null,
       "align_items": null,
       "align_self": null,
       "border": null,
       "bottom": null,
       "display": null,
       "flex": null,
       "flex_flow": null,
       "grid_area": null,
       "grid_auto_columns": null,
       "grid_auto_flow": null,
       "grid_auto_rows": null,
       "grid_column": null,
       "grid_gap": null,
       "grid_row": null,
       "grid_template_areas": null,
       "grid_template_columns": null,
       "grid_template_rows": null,
       "height": null,
       "justify_content": null,
       "justify_items": null,
       "left": null,
       "margin": null,
       "max_height": null,
       "max_width": null,
       "min_height": null,
       "min_width": null,
       "object_fit": null,
       "object_position": null,
       "order": null,
       "overflow": null,
       "overflow_x": null,
       "overflow_y": null,
       "padding": null,
       "right": null,
       "top": null,
       "visibility": null,
       "width": null
      }
     },
     "a1140999b7d1473dba7ada6638c91c31": {
      "model_module": "@jupyter-widgets/controls",
      "model_module_version": "1.5.0",
      "model_name": "DescriptionStyleModel",
      "state": {
       "_model_module": "@jupyter-widgets/controls",
       "_model_module_version": "1.5.0",
       "_model_name": "DescriptionStyleModel",
       "_view_count": null,
       "_view_module": "@jupyter-widgets/base",
       "_view_module_version": "1.2.0",
       "_view_name": "StyleView",
       "description_width": ""
      }
     },
     "a9212169f569446d85bb4a18c0904a18": {
      "model_module": "@jupyter-widgets/controls",
      "model_module_version": "1.5.0",
      "model_name": "FloatProgressModel",
      "state": {
       "_dom_classes": [],
       "_model_module": "@jupyter-widgets/controls",
       "_model_module_version": "1.5.0",
       "_model_name": "FloatProgressModel",
       "_view_count": null,
       "_view_module": "@jupyter-widgets/controls",
       "_view_module_version": "1.5.0",
       "_view_name": "ProgressView",
       "bar_style": "success",
       "description": "",
       "description_tooltip": null,
       "layout": "IPY_MODEL_79cf3599243e429c936e92f008a1282f",
       "max": 456318.0,
       "min": 0.0,
       "orientation": "horizontal",
       "style": "IPY_MODEL_bfce0e1e3577489aa2455401e76dce57",
       "value": 456318.0
      }
     },
     "acd2d0c4744749b598f9a795a20b1c09": {
      "model_module": "@jupyter-widgets/base",
      "model_module_version": "1.2.0",
      "model_name": "LayoutModel",
      "state": {
       "_model_module": "@jupyter-widgets/base",
       "_model_module_version": "1.2.0",
       "_model_name": "LayoutModel",
       "_view_count": null,
       "_view_module": "@jupyter-widgets/base",
       "_view_module_version": "1.2.0",
       "_view_name": "LayoutView",
       "align_content": null,
       "align_items": null,
       "align_self": null,
       "border": null,
       "bottom": null,
       "display": null,
       "flex": null,
       "flex_flow": null,
       "grid_area": null,
       "grid_auto_columns": null,
       "grid_auto_flow": null,
       "grid_auto_rows": null,
       "grid_column": null,
       "grid_gap": null,
       "grid_row": null,
       "grid_template_areas": null,
       "grid_template_columns": null,
       "grid_template_rows": null,
       "height": null,
       "justify_content": null,
       "justify_items": null,
       "left": null,
       "margin": null,
       "max_height": null,
       "max_width": null,
       "min_height": null,
       "min_width": null,
       "object_fit": null,
       "object_position": null,
       "order": null,
       "overflow": null,
       "overflow_x": null,
       "overflow_y": null,
       "padding": null,
       "right": null,
       "top": null,
       "visibility": null,
       "width": null
      }
     },
     "ae3fb070b7ac483f9598f58ab14046b4": {
      "model_module": "@jupyter-widgets/controls",
      "model_module_version": "1.5.0",
      "model_name": "DescriptionStyleModel",
      "state": {
       "_model_module": "@jupyter-widgets/controls",
       "_model_module_version": "1.5.0",
       "_model_name": "DescriptionStyleModel",
       "_view_count": null,
       "_view_module": "@jupyter-widgets/base",
       "_view_module_version": "1.2.0",
       "_view_name": "StyleView",
       "description_width": ""
      }
     },
     "bfce0e1e3577489aa2455401e76dce57": {
      "model_module": "@jupyter-widgets/controls",
      "model_module_version": "1.5.0",
      "model_name": "ProgressStyleModel",
      "state": {
       "_model_module": "@jupyter-widgets/controls",
       "_model_module_version": "1.5.0",
       "_model_name": "ProgressStyleModel",
       "_view_count": null,
       "_view_module": "@jupyter-widgets/base",
       "_view_module_version": "1.2.0",
       "_view_name": "StyleView",
       "bar_color": null,
       "description_width": ""
      }
     },
     "c6915b4ef40448e59190f8b3adf109f5": {
      "model_module": "@jupyter-widgets/controls",
      "model_module_version": "1.5.0",
      "model_name": "HTMLModel",
      "state": {
       "_dom_classes": [],
       "_model_module": "@jupyter-widgets/controls",
       "_model_module_version": "1.5.0",
       "_model_name": "HTMLModel",
       "_view_count": null,
       "_view_module": "@jupyter-widgets/controls",
       "_view_module_version": "1.5.0",
       "_view_name": "HTMLView",
       "description": "",
       "description_tooltip": null,
       "layout": "IPY_MODEL_f93e052de872447dad999dc2a7cf9dbd",
       "placeholder": "​",
       "style": "IPY_MODEL_a1140999b7d1473dba7ada6638c91c31",
       "value": "Downloading (…)olve/main/vocab.json: 100%"
      }
     },
     "d071dc1d846649a48f6b615573ebea78": {
      "model_module": "@jupyter-widgets/controls",
      "model_module_version": "1.5.0",
      "model_name": "HBoxModel",
      "state": {
       "_dom_classes": [],
       "_model_module": "@jupyter-widgets/controls",
       "_model_module_version": "1.5.0",
       "_model_name": "HBoxModel",
       "_view_count": null,
       "_view_module": "@jupyter-widgets/controls",
       "_view_module_version": "1.5.0",
       "_view_name": "HBoxView",
       "box_style": "",
       "children": [
        "IPY_MODEL_c6915b4ef40448e59190f8b3adf109f5",
        "IPY_MODEL_ea153bd343fb406d909dfdc3a8a52326",
        "IPY_MODEL_94ee3fd2c22c4364b46df32309b3bd6f"
       ],
       "layout": "IPY_MODEL_5ea7001f52454b008f068e137343eb3f"
      }
     },
     "d0b654e68e8a4233840bbbb61e9706aa": {
      "model_module": "@jupyter-widgets/controls",
      "model_module_version": "1.5.0",
      "model_name": "HBoxModel",
      "state": {
       "_dom_classes": [],
       "_model_module": "@jupyter-widgets/controls",
       "_model_module_version": "1.5.0",
       "_model_name": "HBoxModel",
       "_view_count": null,
       "_view_module": "@jupyter-widgets/controls",
       "_view_module_version": "1.5.0",
       "_view_name": "HBoxView",
       "box_style": "",
       "children": [
        "IPY_MODEL_4f03ecae6bf84a33842c9873c4a7ee41",
        "IPY_MODEL_6ea21b80817647eb9305b8591c6edba7",
        "IPY_MODEL_845de5cf1e4b4a0d8e8569799359f497"
       ],
       "layout": "IPY_MODEL_9288b59fe31742f9b855fb4ce6f8dda5"
      }
     },
     "d716fdd876b047ce8fb2096ec0021f1a": {
      "model_module": "@jupyter-widgets/controls",
      "model_module_version": "1.5.0",
      "model_name": "ProgressStyleModel",
      "state": {
       "_model_module": "@jupyter-widgets/controls",
       "_model_module_version": "1.5.0",
       "_model_name": "ProgressStyleModel",
       "_view_count": null,
       "_view_module": "@jupyter-widgets/base",
       "_view_module_version": "1.2.0",
       "_view_name": "StyleView",
       "bar_color": null,
       "description_width": ""
      }
     },
     "ea153bd343fb406d909dfdc3a8a52326": {
      "model_module": "@jupyter-widgets/controls",
      "model_module_version": "1.5.0",
      "model_name": "FloatProgressModel",
      "state": {
       "_dom_classes": [],
       "_model_module": "@jupyter-widgets/controls",
       "_model_module_version": "1.5.0",
       "_model_name": "FloatProgressModel",
       "_view_count": null,
       "_view_module": "@jupyter-widgets/controls",
       "_view_module_version": "1.5.0",
       "_view_name": "ProgressView",
       "bar_style": "success",
       "description": "",
       "description_tooltip": null,
       "layout": "IPY_MODEL_2e66b564060b4daeb85dfd29fc749502",
       "max": 898823.0,
       "min": 0.0,
       "orientation": "horizontal",
       "style": "IPY_MODEL_d716fdd876b047ce8fb2096ec0021f1a",
       "value": 898823.0
      }
     },
     "f93e052de872447dad999dc2a7cf9dbd": {
      "model_module": "@jupyter-widgets/base",
      "model_module_version": "1.2.0",
      "model_name": "LayoutModel",
      "state": {
       "_model_module": "@jupyter-widgets/base",
       "_model_module_version": "1.2.0",
       "_model_name": "LayoutModel",
       "_view_count": null,
       "_view_module": "@jupyter-widgets/base",
       "_view_module_version": "1.2.0",
       "_view_name": "LayoutView",
       "align_content": null,
       "align_items": null,
       "align_self": null,
       "border": null,
       "bottom": null,
       "display": null,
       "flex": null,
       "flex_flow": null,
       "grid_area": null,
       "grid_auto_columns": null,
       "grid_auto_flow": null,
       "grid_auto_rows": null,
       "grid_column": null,
       "grid_gap": null,
       "grid_row": null,
       "grid_template_areas": null,
       "grid_template_columns": null,
       "grid_template_rows": null,
       "height": null,
       "justify_content": null,
       "justify_items": null,
       "left": null,
       "margin": null,
       "max_height": null,
       "max_width": null,
       "min_height": null,
       "min_width": null,
       "object_fit": null,
       "object_position": null,
       "order": null,
       "overflow": null,
       "overflow_x": null,
       "overflow_y": null,
       "padding": null,
       "right": null,
       "top": null,
       "visibility": null,
       "width": null
      }
     },
     "fb93929824f0452a8061ca8f19fcdfc3": {
      "model_module": "@jupyter-widgets/controls",
      "model_module_version": "1.5.0",
      "model_name": "DescriptionStyleModel",
      "state": {
       "_model_module": "@jupyter-widgets/controls",
       "_model_module_version": "1.5.0",
       "_model_name": "DescriptionStyleModel",
       "_view_count": null,
       "_view_module": "@jupyter-widgets/base",
       "_view_module_version": "1.2.0",
       "_view_name": "StyleView",
       "description_width": ""
      }
     }
    },
    "version_major": 2,
    "version_minor": 0
   }
  }
 },
 "nbformat": 4,
 "nbformat_minor": 5
}
