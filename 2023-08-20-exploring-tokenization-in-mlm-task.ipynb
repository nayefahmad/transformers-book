{
 "cells": [
  {
   "cell_type": "markdown",
   "id": "eb980d0e",
   "metadata": {
    "papermill": {
     "duration": 0.009092,
     "end_time": "2023-08-21T05:04:14.500438",
     "exception": false,
     "start_time": "2023-08-21T05:04:14.491346",
     "status": "completed"
    },
    "tags": []
   },
   "source": [
    "# Exploring tokenization in MLM\n",
    "\n",
    "## Conclusion\n",
    "For proper evaluation of a model's ability to recover a masked word, we should take into account the tokenization of the word, and pass the appropriate number of \"mask\" tokens to the model for prediction. \n",
    "\n",
    "E.g. Consider the word \"aileron\". `roberta-base` tokenizes this into three tokens: `'Ġa', 'iler', 'on'`. If we replace the word with a single \"mask\" token, the model will never be able to predict \"aileron\" because it simply doesn't have a token for that full word. However, if we recognize that \"aileron\" is tokenized into three tokens, and replace the word with \"mask mask mask\", then the model can recover the word. \n",
    "\n",
    "## Notes \n",
    "- Difference between `tokenizer(text)` and `tokenizer.tokenize(text)`. Former gives the input_ids and attention_mask, latter gives only the tokens. "
   ]
  },
  {
   "cell_type": "code",
   "execution_count": 1,
   "id": "f0604bd1",
   "metadata": {
    "execution": {
     "iopub.execute_input": "2023-08-21T05:04:14.519178Z",
     "iopub.status.busy": "2023-08-21T05:04:14.518512Z",
     "iopub.status.idle": "2023-08-21T05:04:38.790431Z",
     "shell.execute_reply": "2023-08-21T05:04:38.789387Z"
    },
    "papermill": {
     "duration": 24.284031,
     "end_time": "2023-08-21T05:04:38.793000",
     "exception": false,
     "start_time": "2023-08-21T05:04:14.508969",
     "status": "completed"
    },
    "tags": []
   },
   "outputs": [
    {
     "name": "stderr",
     "output_type": "stream",
     "text": [
      "/opt/conda/lib/python3.10/site-packages/scipy/__init__.py:146: UserWarning: A NumPy version >=1.16.5 and <1.23.0 is required for this version of SciPy (detected version 1.23.5\n",
      "  warnings.warn(f\"A NumPy version >={np_minversion} and <{np_maxversion}\"\n",
      "/opt/conda/lib/python3.10/site-packages/tensorflow_io/python/ops/__init__.py:98: UserWarning: unable to load libtensorflow_io_plugins.so: unable to open file: libtensorflow_io_plugins.so, from paths: ['/opt/conda/lib/python3.10/site-packages/tensorflow_io/python/ops/libtensorflow_io_plugins.so']\n",
      "caused by: ['/opt/conda/lib/python3.10/site-packages/tensorflow_io/python/ops/libtensorflow_io_plugins.so: undefined symbol: _ZN3tsl6StatusC1EN10tensorflow5error4CodeESt17basic_string_viewIcSt11char_traitsIcEENS_14SourceLocationE']\n",
      "  warnings.warn(f\"unable to load libtensorflow_io_plugins.so: {e}\")\n",
      "/opt/conda/lib/python3.10/site-packages/tensorflow_io/python/ops/__init__.py:104: UserWarning: file system plugins are not loaded: unable to open file: libtensorflow_io.so, from paths: ['/opt/conda/lib/python3.10/site-packages/tensorflow_io/python/ops/libtensorflow_io.so']\n",
      "caused by: ['/opt/conda/lib/python3.10/site-packages/tensorflow_io/python/ops/libtensorflow_io.so: undefined symbol: _ZTVN10tensorflow13GcsFileSystemE']\n",
      "  warnings.warn(f\"file system plugins are not loaded: {e}\")\n"
     ]
    }
   ],
   "source": [
    "import torch\n",
    "from transformers import RobertaTokenizer, RobertaForMaskedLM"
   ]
  },
  {
   "cell_type": "code",
   "execution_count": 2,
   "id": "dd8730f8",
   "metadata": {
    "execution": {
     "iopub.execute_input": "2023-08-21T05:04:38.813309Z",
     "iopub.status.busy": "2023-08-21T05:04:38.812445Z",
     "iopub.status.idle": "2023-08-21T05:04:39.517935Z",
     "shell.execute_reply": "2023-08-21T05:04:39.516852Z"
    },
    "papermill": {
     "duration": 0.718261,
     "end_time": "2023-08-21T05:04:39.520483",
     "exception": false,
     "start_time": "2023-08-21T05:04:38.802222",
     "status": "completed"
    },
    "tags": []
   },
   "outputs": [
    {
     "data": {
      "application/vnd.jupyter.widget-view+json": {
       "model_id": "2e312d2af0ea4448a3c883e6c33653a6",
       "version_major": 2,
       "version_minor": 0
      },
      "text/plain": [
       "Downloading (…)olve/main/vocab.json:   0%|          | 0.00/899k [00:00<?, ?B/s]"
      ]
     },
     "metadata": {},
     "output_type": "display_data"
    },
    {
     "data": {
      "application/vnd.jupyter.widget-view+json": {
       "model_id": "ac3c474689ea4ac29a8c1eb81cdb5a38",
       "version_major": 2,
       "version_minor": 0
      },
      "text/plain": [
       "Downloading (…)olve/main/merges.txt:   0%|          | 0.00/456k [00:00<?, ?B/s]"
      ]
     },
     "metadata": {},
     "output_type": "display_data"
    },
    {
     "data": {
      "application/vnd.jupyter.widget-view+json": {
       "model_id": "0008ca51bf784b428003df3683e9b617",
       "version_major": 2,
       "version_minor": 0
      },
      "text/plain": [
       "Downloading (…)lve/main/config.json:   0%|          | 0.00/481 [00:00<?, ?B/s]"
      ]
     },
     "metadata": {},
     "output_type": "display_data"
    }
   ],
   "source": [
    "tokenizer = RobertaTokenizer.from_pretrained('roberta-base')"
   ]
  },
  {
   "cell_type": "code",
   "execution_count": 3,
   "id": "b7925303",
   "metadata": {
    "execution": {
     "iopub.execute_input": "2023-08-21T05:04:39.543326Z",
     "iopub.status.busy": "2023-08-21T05:04:39.542987Z",
     "iopub.status.idle": "2023-08-21T05:04:44.537535Z",
     "shell.execute_reply": "2023-08-21T05:04:44.536416Z"
    },
    "papermill": {
     "duration": 5.009214,
     "end_time": "2023-08-21T05:04:44.540214",
     "exception": false,
     "start_time": "2023-08-21T05:04:39.531000",
     "status": "completed"
    },
    "tags": []
   },
   "outputs": [
    {
     "data": {
      "application/vnd.jupyter.widget-view+json": {
       "model_id": "60b1c99f011c47c081188fffa10bf3ef",
       "version_major": 2,
       "version_minor": 0
      },
      "text/plain": [
       "Downloading model.safetensors:   0%|          | 0.00/499M [00:00<?, ?B/s]"
      ]
     },
     "metadata": {},
     "output_type": "display_data"
    }
   ],
   "source": [
    "model = RobertaForMaskedLM.from_pretrained('roberta-base')"
   ]
  },
  {
   "cell_type": "code",
   "execution_count": 4,
   "id": "fd10d482",
   "metadata": {
    "execution": {
     "iopub.execute_input": "2023-08-21T05:04:44.562522Z",
     "iopub.status.busy": "2023-08-21T05:04:44.562190Z",
     "iopub.status.idle": "2023-08-21T05:04:44.572662Z",
     "shell.execute_reply": "2023-08-21T05:04:44.571762Z"
    },
    "papermill": {
     "duration": 0.023279,
     "end_time": "2023-08-21T05:04:44.574705",
     "exception": false,
     "start_time": "2023-08-21T05:04:44.551426",
     "status": "completed"
    },
    "scrolled": true,
    "tags": []
   },
   "outputs": [
    {
     "data": {
      "text/plain": [
       "RobertaForMaskedLM(\n",
       "  (roberta): RobertaModel(\n",
       "    (embeddings): RobertaEmbeddings(\n",
       "      (word_embeddings): Embedding(50265, 768, padding_idx=1)\n",
       "      (position_embeddings): Embedding(514, 768, padding_idx=1)\n",
       "      (token_type_embeddings): Embedding(1, 768)\n",
       "      (LayerNorm): LayerNorm((768,), eps=1e-05, elementwise_affine=True)\n",
       "      (dropout): Dropout(p=0.1, inplace=False)\n",
       "    )\n",
       "    (encoder): RobertaEncoder(\n",
       "      (layer): ModuleList(\n",
       "        (0-11): 12 x RobertaLayer(\n",
       "          (attention): RobertaAttention(\n",
       "            (self): RobertaSelfAttention(\n",
       "              (query): Linear(in_features=768, out_features=768, bias=True)\n",
       "              (key): Linear(in_features=768, out_features=768, bias=True)\n",
       "              (value): Linear(in_features=768, out_features=768, bias=True)\n",
       "              (dropout): Dropout(p=0.1, inplace=False)\n",
       "            )\n",
       "            (output): RobertaSelfOutput(\n",
       "              (dense): Linear(in_features=768, out_features=768, bias=True)\n",
       "              (LayerNorm): LayerNorm((768,), eps=1e-05, elementwise_affine=True)\n",
       "              (dropout): Dropout(p=0.1, inplace=False)\n",
       "            )\n",
       "          )\n",
       "          (intermediate): RobertaIntermediate(\n",
       "            (dense): Linear(in_features=768, out_features=3072, bias=True)\n",
       "            (intermediate_act_fn): GELUActivation()\n",
       "          )\n",
       "          (output): RobertaOutput(\n",
       "            (dense): Linear(in_features=3072, out_features=768, bias=True)\n",
       "            (LayerNorm): LayerNorm((768,), eps=1e-05, elementwise_affine=True)\n",
       "            (dropout): Dropout(p=0.1, inplace=False)\n",
       "          )\n",
       "        )\n",
       "      )\n",
       "    )\n",
       "  )\n",
       "  (lm_head): RobertaLMHead(\n",
       "    (dense): Linear(in_features=768, out_features=768, bias=True)\n",
       "    (layer_norm): LayerNorm((768,), eps=1e-05, elementwise_affine=True)\n",
       "    (decoder): Linear(in_features=768, out_features=50265, bias=True)\n",
       "  )\n",
       ")"
      ]
     },
     "execution_count": 4,
     "metadata": {},
     "output_type": "execute_result"
    }
   ],
   "source": [
    "model"
   ]
  },
  {
   "cell_type": "code",
   "execution_count": 5,
   "id": "c4ff8fcd",
   "metadata": {
    "execution": {
     "iopub.execute_input": "2023-08-21T05:04:44.609545Z",
     "iopub.status.busy": "2023-08-21T05:04:44.609114Z",
     "iopub.status.idle": "2023-08-21T05:04:44.618672Z",
     "shell.execute_reply": "2023-08-21T05:04:44.617608Z"
    },
    "papermill": {
     "duration": 0.037339,
     "end_time": "2023-08-21T05:04:44.621928",
     "exception": false,
     "start_time": "2023-08-21T05:04:44.584589",
     "status": "completed"
    },
    "tags": []
   },
   "outputs": [],
   "source": [
    "texts_and_masked_words = {\n",
    "    0: (\"The element with atomic number 70 is Ytterbium. Ytterbium starts with the letter Y and ends with M. It is named after Ytterby, the village in Sweden\", \"Ytterbium\"), \n",
    "    1: (\"My friend lives in a neighbourhood called Mississauga. It is in the west of Toronto, and starts with the letter M\", \"Mississauga\"),\n",
    "    2: (\"Replaced the right aileron, which is a movable part of an airplane wing. The aileron replacement is part of regular maintenance\", \"aileron\"), \n",
    "    3: (\"The number 90210 is a zip code in Beverly Hills, California, USA. 90210 is also the name of an American teen drama television series\", \"90210\")\n",
    "}\n",
    "\n",
    "text_selected = 3"
   ]
  },
  {
   "cell_type": "code",
   "execution_count": 6,
   "id": "2ed8df07",
   "metadata": {
    "execution": {
     "iopub.execute_input": "2023-08-21T05:04:44.661874Z",
     "iopub.status.busy": "2023-08-21T05:04:44.661393Z",
     "iopub.status.idle": "2023-08-21T05:04:44.668112Z",
     "shell.execute_reply": "2023-08-21T05:04:44.666971Z"
    },
    "papermill": {
     "duration": 0.034792,
     "end_time": "2023-08-21T05:04:44.675760",
     "exception": false,
     "start_time": "2023-08-21T05:04:44.640968",
     "status": "completed"
    },
    "tags": []
   },
   "outputs": [
    {
     "name": "stdout",
     "output_type": "stream",
     "text": [
      "The number 90210 is a zip code in Beverly Hills, California, USA. 90210 is also the name of an American teen drama television series\n"
     ]
    }
   ],
   "source": [
    "text = texts_and_masked_words[text_selected][0]\n",
    "word = texts_and_masked_words[text_selected][1]\n",
    "print(text)"
   ]
  },
  {
   "cell_type": "code",
   "execution_count": 7,
   "id": "8494e999",
   "metadata": {
    "execution": {
     "iopub.execute_input": "2023-08-21T05:04:44.710798Z",
     "iopub.status.busy": "2023-08-21T05:04:44.710473Z",
     "iopub.status.idle": "2023-08-21T05:04:44.715226Z",
     "shell.execute_reply": "2023-08-21T05:04:44.714291Z"
    },
    "papermill": {
     "duration": 0.022979,
     "end_time": "2023-08-21T05:04:44.717568",
     "exception": false,
     "start_time": "2023-08-21T05:04:44.694589",
     "status": "completed"
    },
    "tags": []
   },
   "outputs": [
    {
     "name": "stdout",
     "output_type": "stream",
     "text": [
      "90210\n"
     ]
    }
   ],
   "source": [
    "print(word)"
   ]
  },
  {
   "cell_type": "code",
   "execution_count": 8,
   "id": "39e5a246",
   "metadata": {
    "execution": {
     "iopub.execute_input": "2023-08-21T05:04:44.740677Z",
     "iopub.status.busy": "2023-08-21T05:04:44.740396Z",
     "iopub.status.idle": "2023-08-21T05:04:44.748128Z",
     "shell.execute_reply": "2023-08-21T05:04:44.747150Z"
    },
    "papermill": {
     "duration": 0.022364,
     "end_time": "2023-08-21T05:04:44.750161",
     "exception": false,
     "start_time": "2023-08-21T05:04:44.727797",
     "status": "completed"
    },
    "tags": []
   },
   "outputs": [],
   "source": [
    "encoding = tokenizer(text, return_tensors='pt', padding=False)"
   ]
  },
  {
   "cell_type": "code",
   "execution_count": 9,
   "id": "131a1abd",
   "metadata": {
    "execution": {
     "iopub.execute_input": "2023-08-21T05:04:44.772622Z",
     "iopub.status.busy": "2023-08-21T05:04:44.771682Z",
     "iopub.status.idle": "2023-08-21T05:04:44.781584Z",
     "shell.execute_reply": "2023-08-21T05:04:44.780913Z"
    },
    "papermill": {
     "duration": 0.02362,
     "end_time": "2023-08-21T05:04:44.783368",
     "exception": false,
     "start_time": "2023-08-21T05:04:44.759748",
     "status": "completed"
    },
    "tags": []
   },
   "outputs": [
    {
     "data": {
      "text/plain": [
       "{'input_ids': tensor([[    0,   133,   346,   361,  4197,   698,    16,    10, 23595,  3260,\n",
       "            11, 13130,  4962,     6,   886,     6,  2805,     4,   361,  4197,\n",
       "           698,    16,    67,     5,   766,     9,    41,   470,  6066,  4149,\n",
       "          2384,   651,     2]]), 'attention_mask': tensor([[1, 1, 1, 1, 1, 1, 1, 1, 1, 1, 1, 1, 1, 1, 1, 1, 1, 1, 1, 1, 1, 1, 1, 1,\n",
       "         1, 1, 1, 1, 1, 1, 1, 1, 1]])}"
      ]
     },
     "execution_count": 9,
     "metadata": {},
     "output_type": "execute_result"
    }
   ],
   "source": [
    "encoding"
   ]
  },
  {
   "cell_type": "code",
   "execution_count": 10,
   "id": "0b45a71b",
   "metadata": {
    "execution": {
     "iopub.execute_input": "2023-08-21T05:04:44.808051Z",
     "iopub.status.busy": "2023-08-21T05:04:44.807786Z",
     "iopub.status.idle": "2023-08-21T05:04:44.813509Z",
     "shell.execute_reply": "2023-08-21T05:04:44.812635Z"
    },
    "papermill": {
     "duration": 0.021966,
     "end_time": "2023-08-21T05:04:44.815551",
     "exception": false,
     "start_time": "2023-08-21T05:04:44.793585",
     "status": "completed"
    },
    "tags": []
   },
   "outputs": [
    {
     "data": {
      "text/plain": [
       "24"
      ]
     },
     "execution_count": 10,
     "metadata": {},
     "output_type": "execute_result"
    }
   ],
   "source": [
    "num_words = len(text.split())\n",
    "num_words"
   ]
  },
  {
   "cell_type": "code",
   "execution_count": 11,
   "id": "6b05768d",
   "metadata": {
    "execution": {
     "iopub.execute_input": "2023-08-21T05:04:44.837416Z",
     "iopub.status.busy": "2023-08-21T05:04:44.836798Z",
     "iopub.status.idle": "2023-08-21T05:04:44.843843Z",
     "shell.execute_reply": "2023-08-21T05:04:44.842926Z"
    },
    "papermill": {
     "duration": 0.020077,
     "end_time": "2023-08-21T05:04:44.845854",
     "exception": false,
     "start_time": "2023-08-21T05:04:44.825777",
     "status": "completed"
    },
    "tags": []
   },
   "outputs": [
    {
     "data": {
      "text/plain": [
       "31"
      ]
     },
     "execution_count": 11,
     "metadata": {},
     "output_type": "execute_result"
    }
   ],
   "source": [
    "num_tokens_without_start_and_stop = len(encoding['input_ids'][0]) - 2  # subtract the start and stop tokens \n",
    "num_tokens_without_start_and_stop"
   ]
  },
  {
   "cell_type": "code",
   "execution_count": 12,
   "id": "e091e13c",
   "metadata": {
    "execution": {
     "iopub.execute_input": "2023-08-21T05:04:44.870185Z",
     "iopub.status.busy": "2023-08-21T05:04:44.869330Z",
     "iopub.status.idle": "2023-08-21T05:04:44.876661Z",
     "shell.execute_reply": "2023-08-21T05:04:44.875652Z"
    },
    "papermill": {
     "duration": 0.020777,
     "end_time": "2023-08-21T05:04:44.878692",
     "exception": false,
     "start_time": "2023-08-21T05:04:44.857915",
     "status": "completed"
    },
    "tags": []
   },
   "outputs": [
    {
     "data": {
      "text/plain": [
       "['<s>',\n",
       " 'The',\n",
       " 'Ġnumber',\n",
       " 'Ġ9',\n",
       " '02',\n",
       " '10',\n",
       " 'Ġis',\n",
       " 'Ġa',\n",
       " 'Ġzip',\n",
       " 'Ġcode',\n",
       " 'Ġin',\n",
       " 'ĠBeverly',\n",
       " 'ĠHills',\n",
       " ',',\n",
       " 'ĠCalifornia',\n",
       " ',',\n",
       " 'ĠUSA',\n",
       " '.',\n",
       " 'Ġ9',\n",
       " '02',\n",
       " '10',\n",
       " 'Ġis',\n",
       " 'Ġalso',\n",
       " 'Ġthe',\n",
       " 'Ġname',\n",
       " 'Ġof',\n",
       " 'Ġan',\n",
       " 'ĠAmerican',\n",
       " 'Ġteen',\n",
       " 'Ġdrama',\n",
       " 'Ġtelevision',\n",
       " 'Ġseries',\n",
       " '</s>']"
      ]
     },
     "execution_count": 12,
     "metadata": {},
     "output_type": "execute_result"
    }
   ],
   "source": [
    "tokenizer.convert_ids_to_tokens(encoding['input_ids'][0])"
   ]
  },
  {
   "cell_type": "markdown",
   "id": "fad0cee9",
   "metadata": {
    "papermill": {
     "duration": 0.010191,
     "end_time": "2023-08-21T05:04:44.899495",
     "exception": false,
     "start_time": "2023-08-21T05:04:44.889304",
     "status": "completed"
    },
    "tags": []
   },
   "source": [
    "# Approach 1"
   ]
  },
  {
   "cell_type": "code",
   "execution_count": 13,
   "id": "0decb2fb",
   "metadata": {
    "execution": {
     "iopub.execute_input": "2023-08-21T05:04:44.923590Z",
     "iopub.status.busy": "2023-08-21T05:04:44.922211Z",
     "iopub.status.idle": "2023-08-21T05:04:44.928992Z",
     "shell.execute_reply": "2023-08-21T05:04:44.928060Z"
    },
    "papermill": {
     "duration": 0.021088,
     "end_time": "2023-08-21T05:04:44.931264",
     "exception": false,
     "start_time": "2023-08-21T05:04:44.910176",
     "status": "completed"
    },
    "tags": []
   },
   "outputs": [
    {
     "data": {
      "text/plain": [
       "'The number <mask> is a zip code in Beverly Hills, California, USA. 90210 is also the name of an American teen drama television series'"
      ]
     },
     "execution_count": 13,
     "metadata": {},
     "output_type": "execute_result"
    }
   ],
   "source": [
    "masked_sentence_01 = text.replace(word, \"<mask>\", 1)\n",
    "masked_sentence_01"
   ]
  },
  {
   "cell_type": "code",
   "execution_count": 14,
   "id": "957b6229",
   "metadata": {
    "execution": {
     "iopub.execute_input": "2023-08-21T05:04:44.954320Z",
     "iopub.status.busy": "2023-08-21T05:04:44.953456Z",
     "iopub.status.idle": "2023-08-21T05:04:44.961129Z",
     "shell.execute_reply": "2023-08-21T05:04:44.960133Z"
    },
    "papermill": {
     "duration": 0.021315,
     "end_time": "2023-08-21T05:04:44.963158",
     "exception": false,
     "start_time": "2023-08-21T05:04:44.941843",
     "status": "completed"
    },
    "tags": []
   },
   "outputs": [
    {
     "data": {
      "text/plain": [
       "31"
      ]
     },
     "execution_count": 14,
     "metadata": {},
     "output_type": "execute_result"
    }
   ],
   "source": [
    "inputs = tokenizer(masked_sentence_01, return_tensors='pt')\n",
    "\n",
    "num_tokens = len(inputs['input_ids'][0])\n",
    "num_tokens"
   ]
  },
  {
   "cell_type": "code",
   "execution_count": 15,
   "id": "a1869216",
   "metadata": {
    "execution": {
     "iopub.execute_input": "2023-08-21T05:04:44.986470Z",
     "iopub.status.busy": "2023-08-21T05:04:44.985625Z",
     "iopub.status.idle": "2023-08-21T05:04:44.993260Z",
     "shell.execute_reply": "2023-08-21T05:04:44.992121Z"
    },
    "papermill": {
     "duration": 0.021387,
     "end_time": "2023-08-21T05:04:44.995418",
     "exception": false,
     "start_time": "2023-08-21T05:04:44.974031",
     "status": "completed"
    },
    "tags": []
   },
   "outputs": [
    {
     "data": {
      "text/plain": [
       "['<s>',\n",
       " 'The',\n",
       " 'Ġnumber',\n",
       " '<mask>',\n",
       " 'Ġis',\n",
       " 'Ġa',\n",
       " 'Ġzip',\n",
       " 'Ġcode',\n",
       " 'Ġin',\n",
       " 'ĠBeverly',\n",
       " 'ĠHills',\n",
       " ',',\n",
       " 'ĠCalifornia',\n",
       " ',',\n",
       " 'ĠUSA',\n",
       " '.',\n",
       " 'Ġ9',\n",
       " '02',\n",
       " '10',\n",
       " 'Ġis',\n",
       " 'Ġalso',\n",
       " 'Ġthe',\n",
       " 'Ġname',\n",
       " 'Ġof',\n",
       " 'Ġan',\n",
       " 'ĠAmerican',\n",
       " 'Ġteen',\n",
       " 'Ġdrama',\n",
       " 'Ġtelevision',\n",
       " 'Ġseries',\n",
       " '</s>']"
      ]
     },
     "execution_count": 15,
     "metadata": {},
     "output_type": "execute_result"
    }
   ],
   "source": [
    "tokenizer.convert_ids_to_tokens(inputs['input_ids'][0])"
   ]
  },
  {
   "cell_type": "code",
   "execution_count": 16,
   "id": "460f88e4",
   "metadata": {
    "execution": {
     "iopub.execute_input": "2023-08-21T05:04:45.019579Z",
     "iopub.status.busy": "2023-08-21T05:04:45.018674Z",
     "iopub.status.idle": "2023-08-21T05:04:45.428071Z",
     "shell.execute_reply": "2023-08-21T05:04:45.427006Z"
    },
    "papermill": {
     "duration": 0.424553,
     "end_time": "2023-08-21T05:04:45.430627",
     "exception": false,
     "start_time": "2023-08-21T05:04:45.006074",
     "status": "completed"
    },
    "tags": []
   },
   "outputs": [],
   "source": [
    "# model predictions: \n",
    "with torch.no_grad():\n",
    "    outputs = model(**inputs)\n",
    "    predictions = outputs.logits"
   ]
  },
  {
   "cell_type": "code",
   "execution_count": 17,
   "id": "715c897e",
   "metadata": {
    "execution": {
     "iopub.execute_input": "2023-08-21T05:04:45.455445Z",
     "iopub.status.busy": "2023-08-21T05:04:45.454549Z",
     "iopub.status.idle": "2023-08-21T05:04:45.462964Z",
     "shell.execute_reply": "2023-08-21T05:04:45.462030Z"
    },
    "papermill": {
     "duration": 0.023318,
     "end_time": "2023-08-21T05:04:45.465204",
     "exception": false,
     "start_time": "2023-08-21T05:04:45.441886",
     "status": "completed"
    },
    "tags": []
   },
   "outputs": [
    {
     "data": {
      "text/plain": [
       "torch.Size([1, 31, 50265])"
      ]
     },
     "execution_count": 17,
     "metadata": {},
     "output_type": "execute_result"
    }
   ],
   "source": [
    "# 1 sentence, 11 tokens, scores for each of 50,265 tokens in vocab\n",
    "predictions.shape"
   ]
  },
  {
   "cell_type": "code",
   "execution_count": 18,
   "id": "a73984b4",
   "metadata": {
    "execution": {
     "iopub.execute_input": "2023-08-21T05:04:45.489788Z",
     "iopub.status.busy": "2023-08-21T05:04:45.488902Z",
     "iopub.status.idle": "2023-08-21T05:04:45.499193Z",
     "shell.execute_reply": "2023-08-21T05:04:45.498136Z"
    },
    "papermill": {
     "duration": 0.024573,
     "end_time": "2023-08-21T05:04:45.501390",
     "exception": false,
     "start_time": "2023-08-21T05:04:45.476817",
     "status": "completed"
    },
    "tags": []
   },
   "outputs": [
    {
     "data": {
      "text/plain": [
       "torch.Size([1, 31])"
      ]
     },
     "execution_count": 18,
     "metadata": {},
     "output_type": "execute_result"
    }
   ],
   "source": [
    "predicted_ids = torch.argmax(predictions, dim=2)\n",
    "predicted_ids.shape"
   ]
  },
  {
   "cell_type": "code",
   "execution_count": 19,
   "id": "a8b405c6",
   "metadata": {
    "execution": {
     "iopub.execute_input": "2023-08-21T05:04:45.525203Z",
     "iopub.status.busy": "2023-08-21T05:04:45.524927Z",
     "iopub.status.idle": "2023-08-21T05:04:45.531248Z",
     "shell.execute_reply": "2023-08-21T05:04:45.530293Z"
    },
    "papermill": {
     "duration": 0.020747,
     "end_time": "2023-08-21T05:04:45.533505",
     "exception": false,
     "start_time": "2023-08-21T05:04:45.512758",
     "status": "completed"
    },
    "tags": []
   },
   "outputs": [
    {
     "data": {
      "text/plain": [
       "['<s>The number 9 is a zip code in Beverly Hills, California, USA</s> 90210 is also the name of an American teen drama television series</s>']"
      ]
     },
     "execution_count": 19,
     "metadata": {},
     "output_type": "execute_result"
    }
   ],
   "source": [
    "predicted_tokens = [tokenizer.decode(token_id) for token_id in predicted_ids]\n",
    "predicted_tokens"
   ]
  },
  {
   "cell_type": "markdown",
   "id": "e476ed73",
   "metadata": {
    "papermill": {
     "duration": 0.011988,
     "end_time": "2023-08-21T05:04:45.557207",
     "exception": false,
     "start_time": "2023-08-21T05:04:45.545219",
     "status": "completed"
    },
    "tags": []
   },
   "source": [
    "# Approach 2"
   ]
  },
  {
   "cell_type": "code",
   "execution_count": 20,
   "id": "c9e87806",
   "metadata": {
    "execution": {
     "iopub.execute_input": "2023-08-21T05:04:45.582424Z",
     "iopub.status.busy": "2023-08-21T05:04:45.582136Z",
     "iopub.status.idle": "2023-08-21T05:04:45.588569Z",
     "shell.execute_reply": "2023-08-21T05:04:45.587599Z"
    },
    "papermill": {
     "duration": 0.02122,
     "end_time": "2023-08-21T05:04:45.590809",
     "exception": false,
     "start_time": "2023-08-21T05:04:45.569589",
     "status": "completed"
    },
    "tags": []
   },
   "outputs": [
    {
     "data": {
      "text/plain": [
       "['9', '02', '10']"
      ]
     },
     "execution_count": 20,
     "metadata": {},
     "output_type": "execute_result"
    }
   ],
   "source": [
    "word_tokens = tokenizer.tokenize(word)\n",
    "word_tokens"
   ]
  },
  {
   "cell_type": "code",
   "execution_count": 21,
   "id": "feda5fdc",
   "metadata": {
    "execution": {
     "iopub.execute_input": "2023-08-21T05:04:45.616029Z",
     "iopub.status.busy": "2023-08-21T05:04:45.615695Z",
     "iopub.status.idle": "2023-08-21T05:04:45.622021Z",
     "shell.execute_reply": "2023-08-21T05:04:45.620853Z"
    },
    "papermill": {
     "duration": 0.022532,
     "end_time": "2023-08-21T05:04:45.625391",
     "exception": false,
     "start_time": "2023-08-21T05:04:45.602859",
     "status": "completed"
    },
    "tags": []
   },
   "outputs": [
    {
     "data": {
      "text/plain": [
       "3"
      ]
     },
     "execution_count": 21,
     "metadata": {},
     "output_type": "execute_result"
    }
   ],
   "source": [
    "num_tokens = len(word_tokens)\n",
    "num_tokens"
   ]
  },
  {
   "cell_type": "code",
   "execution_count": 22,
   "id": "c639bbbb",
   "metadata": {
    "execution": {
     "iopub.execute_input": "2023-08-21T05:04:45.650847Z",
     "iopub.status.busy": "2023-08-21T05:04:45.650546Z",
     "iopub.status.idle": "2023-08-21T05:04:45.657775Z",
     "shell.execute_reply": "2023-08-21T05:04:45.656763Z"
    },
    "papermill": {
     "duration": 0.022168,
     "end_time": "2023-08-21T05:04:45.659935",
     "exception": false,
     "start_time": "2023-08-21T05:04:45.637767",
     "status": "completed"
    },
    "tags": []
   },
   "outputs": [
    {
     "data": {
      "text/plain": [
       "'The number <mask> <mask> <mask> is a zip code in Beverly Hills, California, USA. 90210 is also the name of an American teen drama television series'"
      ]
     },
     "execution_count": 22,
     "metadata": {},
     "output_type": "execute_result"
    }
   ],
   "source": [
    "masked_sentence_02 = text.replace(word, \" \".join([\"<mask>\"] * num_tokens), 1)\n",
    "masked_sentence_02"
   ]
  },
  {
   "cell_type": "code",
   "execution_count": 23,
   "id": "63ccd99d",
   "metadata": {
    "execution": {
     "iopub.execute_input": "2023-08-21T05:04:45.685005Z",
     "iopub.status.busy": "2023-08-21T05:04:45.684700Z",
     "iopub.status.idle": "2023-08-21T05:04:45.690261Z",
     "shell.execute_reply": "2023-08-21T05:04:45.689296Z"
    },
    "papermill": {
     "duration": 0.020294,
     "end_time": "2023-08-21T05:04:45.692405",
     "exception": false,
     "start_time": "2023-08-21T05:04:45.672111",
     "status": "completed"
    },
    "tags": []
   },
   "outputs": [],
   "source": [
    "inputs_02 = tokenizer(masked_sentence_02, return_tensors='pt')"
   ]
  },
  {
   "cell_type": "code",
   "execution_count": 24,
   "id": "8009e3c6",
   "metadata": {
    "execution": {
     "iopub.execute_input": "2023-08-21T05:04:45.717903Z",
     "iopub.status.busy": "2023-08-21T05:04:45.717110Z",
     "iopub.status.idle": "2023-08-21T05:04:45.724686Z",
     "shell.execute_reply": "2023-08-21T05:04:45.723619Z"
    },
    "papermill": {
     "duration": 0.022658,
     "end_time": "2023-08-21T05:04:45.726899",
     "exception": false,
     "start_time": "2023-08-21T05:04:45.704241",
     "status": "completed"
    },
    "tags": []
   },
   "outputs": [
    {
     "data": {
      "text/plain": [
       "['<s>',\n",
       " 'The',\n",
       " 'Ġnumber',\n",
       " '<mask>',\n",
       " '<mask>',\n",
       " '<mask>',\n",
       " 'Ġis',\n",
       " 'Ġa',\n",
       " 'Ġzip',\n",
       " 'Ġcode',\n",
       " 'Ġin',\n",
       " 'ĠBeverly',\n",
       " 'ĠHills',\n",
       " ',',\n",
       " 'ĠCalifornia',\n",
       " ',',\n",
       " 'ĠUSA',\n",
       " '.',\n",
       " 'Ġ9',\n",
       " '02',\n",
       " '10',\n",
       " 'Ġis',\n",
       " 'Ġalso',\n",
       " 'Ġthe',\n",
       " 'Ġname',\n",
       " 'Ġof',\n",
       " 'Ġan',\n",
       " 'ĠAmerican',\n",
       " 'Ġteen',\n",
       " 'Ġdrama',\n",
       " 'Ġtelevision',\n",
       " 'Ġseries',\n",
       " '</s>']"
      ]
     },
     "execution_count": 24,
     "metadata": {},
     "output_type": "execute_result"
    }
   ],
   "source": [
    "tokenizer.convert_ids_to_tokens(inputs_02['input_ids'][0])"
   ]
  },
  {
   "cell_type": "code",
   "execution_count": 25,
   "id": "bfa50d1e",
   "metadata": {
    "execution": {
     "iopub.execute_input": "2023-08-21T05:04:45.753853Z",
     "iopub.status.busy": "2023-08-21T05:04:45.753199Z",
     "iopub.status.idle": "2023-08-21T05:04:45.759442Z",
     "shell.execute_reply": "2023-08-21T05:04:45.758460Z"
    },
    "papermill": {
     "duration": 0.021829,
     "end_time": "2023-08-21T05:04:45.761531",
     "exception": false,
     "start_time": "2023-08-21T05:04:45.739702",
     "status": "completed"
    },
    "tags": []
   },
   "outputs": [
    {
     "data": {
      "text/plain": [
       "33"
      ]
     },
     "execution_count": 25,
     "metadata": {},
     "output_type": "execute_result"
    }
   ],
   "source": [
    "num_tokens = len(inputs_02['input_ids'][0])\n",
    "num_tokens"
   ]
  },
  {
   "cell_type": "code",
   "execution_count": 26,
   "id": "d9484377",
   "metadata": {
    "execution": {
     "iopub.execute_input": "2023-08-21T05:04:45.790011Z",
     "iopub.status.busy": "2023-08-21T05:04:45.789180Z",
     "iopub.status.idle": "2023-08-21T05:04:45.979580Z",
     "shell.execute_reply": "2023-08-21T05:04:45.978570Z"
    },
    "papermill": {
     "duration": 0.20608,
     "end_time": "2023-08-21T05:04:45.982022",
     "exception": false,
     "start_time": "2023-08-21T05:04:45.775942",
     "status": "completed"
    },
    "tags": []
   },
   "outputs": [
    {
     "data": {
      "text/plain": [
       "torch.Size([1, 33, 50265])"
      ]
     },
     "execution_count": 26,
     "metadata": {},
     "output_type": "execute_result"
    }
   ],
   "source": [
    "# predictions \n",
    "with torch.no_grad(): \n",
    "    outputs = model(**inputs_02)\n",
    "    predictions = outputs.logits \n",
    "    \n",
    "# 1 sentence, 15 tokens, scores for each of 50,265 tokens in vocab\n",
    "predictions.shape"
   ]
  },
  {
   "cell_type": "code",
   "execution_count": 27,
   "id": "1e68d7cd",
   "metadata": {
    "execution": {
     "iopub.execute_input": "2023-08-21T05:04:46.010643Z",
     "iopub.status.busy": "2023-08-21T05:04:46.009018Z",
     "iopub.status.idle": "2023-08-21T05:04:46.020765Z",
     "shell.execute_reply": "2023-08-21T05:04:46.019742Z"
    },
    "papermill": {
     "duration": 0.02776,
     "end_time": "2023-08-21T05:04:46.023061",
     "exception": false,
     "start_time": "2023-08-21T05:04:45.995301",
     "status": "completed"
    },
    "tags": []
   },
   "outputs": [
    {
     "data": {
      "text/plain": [
       "torch.Size([1, 33])"
      ]
     },
     "execution_count": 27,
     "metadata": {},
     "output_type": "execute_result"
    }
   ],
   "source": [
    "predicted_ids = torch.argmax(predictions, dim=2)\n",
    "predicted_ids.shape"
   ]
  },
  {
   "cell_type": "code",
   "execution_count": 28,
   "id": "3daf16ff",
   "metadata": {
    "execution": {
     "iopub.execute_input": "2023-08-21T05:04:46.049696Z",
     "iopub.status.busy": "2023-08-21T05:04:46.048918Z",
     "iopub.status.idle": "2023-08-21T05:04:46.055797Z",
     "shell.execute_reply": "2023-08-21T05:04:46.054776Z"
    },
    "papermill": {
     "duration": 0.022109,
     "end_time": "2023-08-21T05:04:46.057774",
     "exception": false,
     "start_time": "2023-08-21T05:04:46.035665",
     "status": "completed"
    },
    "tags": []
   },
   "outputs": [
    {
     "data": {
      "text/plain": [
       "['<s>The number 90210 is a zip code in Beverly Hills, California, USA</s> 90210 is also the name of an American teen drama television series</s>']"
      ]
     },
     "execution_count": 28,
     "metadata": {},
     "output_type": "execute_result"
    }
   ],
   "source": [
    "predicted_tokens = [tokenizer.decode(token_id) for token_id in predicted_ids]\n",
    "predicted_tokens"
   ]
  },
  {
   "cell_type": "code",
   "execution_count": null,
   "id": "316c2676",
   "metadata": {
    "papermill": {
     "duration": 0.011489,
     "end_time": "2023-08-21T05:04:46.081317",
     "exception": false,
     "start_time": "2023-08-21T05:04:46.069828",
     "status": "completed"
    },
    "tags": []
   },
   "outputs": [],
   "source": []
  },
  {
   "cell_type": "code",
   "execution_count": null,
   "id": "e48d9108",
   "metadata": {
    "papermill": {
     "duration": 0.012966,
     "end_time": "2023-08-21T05:04:46.107272",
     "exception": false,
     "start_time": "2023-08-21T05:04:46.094306",
     "status": "completed"
    },
    "tags": []
   },
   "outputs": [],
   "source": []
  },
  {
   "cell_type": "code",
   "execution_count": null,
   "id": "bdb615ad",
   "metadata": {
    "papermill": {
     "duration": 0.012358,
     "end_time": "2023-08-21T05:04:46.132044",
     "exception": false,
     "start_time": "2023-08-21T05:04:46.119686",
     "status": "completed"
    },
    "tags": []
   },
   "outputs": [],
   "source": []
  }
 ],
 "metadata": {
  "kernelspec": {
   "display_name": "Python 3",
   "language": "python",
   "name": "python3"
  },
  "language_info": {
   "codemirror_mode": {
    "name": "ipython",
    "version": 3
   },
   "file_extension": ".py",
   "mimetype": "text/x-python",
   "name": "python",
   "nbconvert_exporter": "python",
   "pygments_lexer": "ipython3",
   "version": "3.10.12"
  },
  "papermill": {
   "default_parameters": {},
   "duration": 48.647461,
   "end_time": "2023-08-21T05:04:49.364440",
   "environment_variables": {},
   "exception": null,
   "input_path": "__notebook__.ipynb",
   "output_path": "__notebook__.ipynb",
   "parameters": {},
   "start_time": "2023-08-21T05:04:00.716979",
   "version": "2.4.0"
  },
  "widgets": {
   "application/vnd.jupyter.widget-state+json": {
    "state": {
     "0008ca51bf784b428003df3683e9b617": {
      "model_module": "@jupyter-widgets/controls",
      "model_module_version": "1.5.0",
      "model_name": "HBoxModel",
      "state": {
       "_dom_classes": [],
       "_model_module": "@jupyter-widgets/controls",
       "_model_module_version": "1.5.0",
       "_model_name": "HBoxModel",
       "_view_count": null,
       "_view_module": "@jupyter-widgets/controls",
       "_view_module_version": "1.5.0",
       "_view_name": "HBoxView",
       "box_style": "",
       "children": [
        "IPY_MODEL_6367f15c181b4f6e8ad989c549955073",
        "IPY_MODEL_459f5199dce849c8b002fb026a76029b",
        "IPY_MODEL_9c151719b9d549b2b2fda773a614d53a"
       ],
       "layout": "IPY_MODEL_fde0fb5d08de43aebc31f81c035c651d"
      }
     },
     "11ac6ada790a430683fc2cef36d31014": {
      "model_module": "@jupyter-widgets/controls",
      "model_module_version": "1.5.0",
      "model_name": "ProgressStyleModel",
      "state": {
       "_model_module": "@jupyter-widgets/controls",
       "_model_module_version": "1.5.0",
       "_model_name": "ProgressStyleModel",
       "_view_count": null,
       "_view_module": "@jupyter-widgets/base",
       "_view_module_version": "1.2.0",
       "_view_name": "StyleView",
       "bar_color": null,
       "description_width": ""
      }
     },
     "1b71718ad1c549e19d0ca1a67c127ac2": {
      "model_module": "@jupyter-widgets/controls",
      "model_module_version": "1.5.0",
      "model_name": "DescriptionStyleModel",
      "state": {
       "_model_module": "@jupyter-widgets/controls",
       "_model_module_version": "1.5.0",
       "_model_name": "DescriptionStyleModel",
       "_view_count": null,
       "_view_module": "@jupyter-widgets/base",
       "_view_module_version": "1.2.0",
       "_view_name": "StyleView",
       "description_width": ""
      }
     },
     "24372ea61a7a48f99bbebed57e17c997": {
      "model_module": "@jupyter-widgets/controls",
      "model_module_version": "1.5.0",
      "model_name": "HTMLModel",
      "state": {
       "_dom_classes": [],
       "_model_module": "@jupyter-widgets/controls",
       "_model_module_version": "1.5.0",
       "_model_name": "HTMLModel",
       "_view_count": null,
       "_view_module": "@jupyter-widgets/controls",
       "_view_module_version": "1.5.0",
       "_view_name": "HTMLView",
       "description": "",
       "description_tooltip": null,
       "layout": "IPY_MODEL_b30179f89190484f9e8a077983accaf6",
       "placeholder": "​",
       "style": "IPY_MODEL_1b71718ad1c549e19d0ca1a67c127ac2",
       "value": " 899k/899k [00:00&lt;00:00, 12.2MB/s]"
      }
     },
     "2dade0227fcd4ca2af41f761253558a6": {
      "model_module": "@jupyter-widgets/controls",
      "model_module_version": "1.5.0",
      "model_name": "DescriptionStyleModel",
      "state": {
       "_model_module": "@jupyter-widgets/controls",
       "_model_module_version": "1.5.0",
       "_model_name": "DescriptionStyleModel",
       "_view_count": null,
       "_view_module": "@jupyter-widgets/base",
       "_view_module_version": "1.2.0",
       "_view_name": "StyleView",
       "description_width": ""
      }
     },
     "2e312d2af0ea4448a3c883e6c33653a6": {
      "model_module": "@jupyter-widgets/controls",
      "model_module_version": "1.5.0",
      "model_name": "HBoxModel",
      "state": {
       "_dom_classes": [],
       "_model_module": "@jupyter-widgets/controls",
       "_model_module_version": "1.5.0",
       "_model_name": "HBoxModel",
       "_view_count": null,
       "_view_module": "@jupyter-widgets/controls",
       "_view_module_version": "1.5.0",
       "_view_name": "HBoxView",
       "box_style": "",
       "children": [
        "IPY_MODEL_fc414248289d453395f9a057540835ae",
        "IPY_MODEL_fffeeb053ad446119ea3ea0aa3ea6f6e",
        "IPY_MODEL_24372ea61a7a48f99bbebed57e17c997"
       ],
       "layout": "IPY_MODEL_d9b716a203dd40db997f4f812cdf6cd1"
      }
     },
     "30899b51e2864ee1a26d22ea2d6f5ec2": {
      "model_module": "@jupyter-widgets/base",
      "model_module_version": "1.2.0",
      "model_name": "LayoutModel",
      "state": {
       "_model_module": "@jupyter-widgets/base",
       "_model_module_version": "1.2.0",
       "_model_name": "LayoutModel",
       "_view_count": null,
       "_view_module": "@jupyter-widgets/base",
       "_view_module_version": "1.2.0",
       "_view_name": "LayoutView",
       "align_content": null,
       "align_items": null,
       "align_self": null,
       "border": null,
       "bottom": null,
       "display": null,
       "flex": null,
       "flex_flow": null,
       "grid_area": null,
       "grid_auto_columns": null,
       "grid_auto_flow": null,
       "grid_auto_rows": null,
       "grid_column": null,
       "grid_gap": null,
       "grid_row": null,
       "grid_template_areas": null,
       "grid_template_columns": null,
       "grid_template_rows": null,
       "height": null,
       "justify_content": null,
       "justify_items": null,
       "left": null,
       "margin": null,
       "max_height": null,
       "max_width": null,
       "min_height": null,
       "min_width": null,
       "object_fit": null,
       "object_position": null,
       "order": null,
       "overflow": null,
       "overflow_x": null,
       "overflow_y": null,
       "padding": null,
       "right": null,
       "top": null,
       "visibility": null,
       "width": null
      }
     },
     "3664c582d96348b384feb9d1f2ff972e": {
      "model_module": "@jupyter-widgets/controls",
      "model_module_version": "1.5.0",
      "model_name": "HTMLModel",
      "state": {
       "_dom_classes": [],
       "_model_module": "@jupyter-widgets/controls",
       "_model_module_version": "1.5.0",
       "_model_name": "HTMLModel",
       "_view_count": null,
       "_view_module": "@jupyter-widgets/controls",
       "_view_module_version": "1.5.0",
       "_view_name": "HTMLView",
       "description": "",
       "description_tooltip": null,
       "layout": "IPY_MODEL_4e004340d09c4c99a82566d8273a75a6",
       "placeholder": "​",
       "style": "IPY_MODEL_8787bd203c9846fab3d6a551d225474d",
       "value": "Downloading (…)olve/main/merges.txt: 100%"
      }
     },
     "3aa30295f8ae4b64a9979ed4e7f46186": {
      "model_module": "@jupyter-widgets/controls",
      "model_module_version": "1.5.0",
      "model_name": "DescriptionStyleModel",
      "state": {
       "_model_module": "@jupyter-widgets/controls",
       "_model_module_version": "1.5.0",
       "_model_name": "DescriptionStyleModel",
       "_view_count": null,
       "_view_module": "@jupyter-widgets/base",
       "_view_module_version": "1.2.0",
       "_view_name": "StyleView",
       "description_width": ""
      }
     },
     "453444c4c9104e8480b4ba470a3526d8": {
      "model_module": "@jupyter-widgets/base",
      "model_module_version": "1.2.0",
      "model_name": "LayoutModel",
      "state": {
       "_model_module": "@jupyter-widgets/base",
       "_model_module_version": "1.2.0",
       "_model_name": "LayoutModel",
       "_view_count": null,
       "_view_module": "@jupyter-widgets/base",
       "_view_module_version": "1.2.0",
       "_view_name": "LayoutView",
       "align_content": null,
       "align_items": null,
       "align_self": null,
       "border": null,
       "bottom": null,
       "display": null,
       "flex": null,
       "flex_flow": null,
       "grid_area": null,
       "grid_auto_columns": null,
       "grid_auto_flow": null,
       "grid_auto_rows": null,
       "grid_column": null,
       "grid_gap": null,
       "grid_row": null,
       "grid_template_areas": null,
       "grid_template_columns": null,
       "grid_template_rows": null,
       "height": null,
       "justify_content": null,
       "justify_items": null,
       "left": null,
       "margin": null,
       "max_height": null,
       "max_width": null,
       "min_height": null,
       "min_width": null,
       "object_fit": null,
       "object_position": null,
       "order": null,
       "overflow": null,
       "overflow_x": null,
       "overflow_y": null,
       "padding": null,
       "right": null,
       "top": null,
       "visibility": null,
       "width": null
      }
     },
     "459f5199dce849c8b002fb026a76029b": {
      "model_module": "@jupyter-widgets/controls",
      "model_module_version": "1.5.0",
      "model_name": "FloatProgressModel",
      "state": {
       "_dom_classes": [],
       "_model_module": "@jupyter-widgets/controls",
       "_model_module_version": "1.5.0",
       "_model_name": "FloatProgressModel",
       "_view_count": null,
       "_view_module": "@jupyter-widgets/controls",
       "_view_module_version": "1.5.0",
       "_view_name": "ProgressView",
       "bar_style": "success",
       "description": "",
       "description_tooltip": null,
       "layout": "IPY_MODEL_739fe705614846b1899912f311b3c1da",
       "max": 481.0,
       "min": 0.0,
       "orientation": "horizontal",
       "style": "IPY_MODEL_95f672d57d9f4ae1b8cee6b836e5c528",
       "value": 481.0
      }
     },
     "4e004340d09c4c99a82566d8273a75a6": {
      "model_module": "@jupyter-widgets/base",
      "model_module_version": "1.2.0",
      "model_name": "LayoutModel",
      "state": {
       "_model_module": "@jupyter-widgets/base",
       "_model_module_version": "1.2.0",
       "_model_name": "LayoutModel",
       "_view_count": null,
       "_view_module": "@jupyter-widgets/base",
       "_view_module_version": "1.2.0",
       "_view_name": "LayoutView",
       "align_content": null,
       "align_items": null,
       "align_self": null,
       "border": null,
       "bottom": null,
       "display": null,
       "flex": null,
       "flex_flow": null,
       "grid_area": null,
       "grid_auto_columns": null,
       "grid_auto_flow": null,
       "grid_auto_rows": null,
       "grid_column": null,
       "grid_gap": null,
       "grid_row": null,
       "grid_template_areas": null,
       "grid_template_columns": null,
       "grid_template_rows": null,
       "height": null,
       "justify_content": null,
       "justify_items": null,
       "left": null,
       "margin": null,
       "max_height": null,
       "max_width": null,
       "min_height": null,
       "min_width": null,
       "object_fit": null,
       "object_position": null,
       "order": null,
       "overflow": null,
       "overflow_x": null,
       "overflow_y": null,
       "padding": null,
       "right": null,
       "top": null,
       "visibility": null,
       "width": null
      }
     },
     "5154a091e3b84668b8f4f82ba91493ff": {
      "model_module": "@jupyter-widgets/controls",
      "model_module_version": "1.5.0",
      "model_name": "DescriptionStyleModel",
      "state": {
       "_model_module": "@jupyter-widgets/controls",
       "_model_module_version": "1.5.0",
       "_model_name": "DescriptionStyleModel",
       "_view_count": null,
       "_view_module": "@jupyter-widgets/base",
       "_view_module_version": "1.2.0",
       "_view_name": "StyleView",
       "description_width": ""
      }
     },
     "60b1c99f011c47c081188fffa10bf3ef": {
      "model_module": "@jupyter-widgets/controls",
      "model_module_version": "1.5.0",
      "model_name": "HBoxModel",
      "state": {
       "_dom_classes": [],
       "_model_module": "@jupyter-widgets/controls",
       "_model_module_version": "1.5.0",
       "_model_name": "HBoxModel",
       "_view_count": null,
       "_view_module": "@jupyter-widgets/controls",
       "_view_module_version": "1.5.0",
       "_view_name": "HBoxView",
       "box_style": "",
       "children": [
        "IPY_MODEL_e420024e40324e31b62533e7f1a6bceb",
        "IPY_MODEL_be4db997ede74b06b31791507edfa858",
        "IPY_MODEL_b5b76299aa2c4e89ae9819ae044f4f8a"
       ],
       "layout": "IPY_MODEL_66daddadefc841f9b7f7cfc60dcab813"
      }
     },
     "61beecffba4e4424a4df5633cb056f03": {
      "model_module": "@jupyter-widgets/base",
      "model_module_version": "1.2.0",
      "model_name": "LayoutModel",
      "state": {
       "_model_module": "@jupyter-widgets/base",
       "_model_module_version": "1.2.0",
       "_model_name": "LayoutModel",
       "_view_count": null,
       "_view_module": "@jupyter-widgets/base",
       "_view_module_version": "1.2.0",
       "_view_name": "LayoutView",
       "align_content": null,
       "align_items": null,
       "align_self": null,
       "border": null,
       "bottom": null,
       "display": null,
       "flex": null,
       "flex_flow": null,
       "grid_area": null,
       "grid_auto_columns": null,
       "grid_auto_flow": null,
       "grid_auto_rows": null,
       "grid_column": null,
       "grid_gap": null,
       "grid_row": null,
       "grid_template_areas": null,
       "grid_template_columns": null,
       "grid_template_rows": null,
       "height": null,
       "justify_content": null,
       "justify_items": null,
       "left": null,
       "margin": null,
       "max_height": null,
       "max_width": null,
       "min_height": null,
       "min_width": null,
       "object_fit": null,
       "object_position": null,
       "order": null,
       "overflow": null,
       "overflow_x": null,
       "overflow_y": null,
       "padding": null,
       "right": null,
       "top": null,
       "visibility": null,
       "width": null
      }
     },
     "6367f15c181b4f6e8ad989c549955073": {
      "model_module": "@jupyter-widgets/controls",
      "model_module_version": "1.5.0",
      "model_name": "HTMLModel",
      "state": {
       "_dom_classes": [],
       "_model_module": "@jupyter-widgets/controls",
       "_model_module_version": "1.5.0",
       "_model_name": "HTMLModel",
       "_view_count": null,
       "_view_module": "@jupyter-widgets/controls",
       "_view_module_version": "1.5.0",
       "_view_name": "HTMLView",
       "description": "",
       "description_tooltip": null,
       "layout": "IPY_MODEL_7688fcff9f4844b4b75cad78910d5f0c",
       "placeholder": "​",
       "style": "IPY_MODEL_add12ff1b87d47d6a9805d6ed8c96e90",
       "value": "Downloading (…)lve/main/config.json: 100%"
      }
     },
     "66daddadefc841f9b7f7cfc60dcab813": {
      "model_module": "@jupyter-widgets/base",
      "model_module_version": "1.2.0",
      "model_name": "LayoutModel",
      "state": {
       "_model_module": "@jupyter-widgets/base",
       "_model_module_version": "1.2.0",
       "_model_name": "LayoutModel",
       "_view_count": null,
       "_view_module": "@jupyter-widgets/base",
       "_view_module_version": "1.2.0",
       "_view_name": "LayoutView",
       "align_content": null,
       "align_items": null,
       "align_self": null,
       "border": null,
       "bottom": null,
       "display": null,
       "flex": null,
       "flex_flow": null,
       "grid_area": null,
       "grid_auto_columns": null,
       "grid_auto_flow": null,
       "grid_auto_rows": null,
       "grid_column": null,
       "grid_gap": null,
       "grid_row": null,
       "grid_template_areas": null,
       "grid_template_columns": null,
       "grid_template_rows": null,
       "height": null,
       "justify_content": null,
       "justify_items": null,
       "left": null,
       "margin": null,
       "max_height": null,
       "max_width": null,
       "min_height": null,
       "min_width": null,
       "object_fit": null,
       "object_position": null,
       "order": null,
       "overflow": null,
       "overflow_x": null,
       "overflow_y": null,
       "padding": null,
       "right": null,
       "top": null,
       "visibility": null,
       "width": null
      }
     },
     "68a3a4fb945c4488a968abbbe8deca1b": {
      "model_module": "@jupyter-widgets/controls",
      "model_module_version": "1.5.0",
      "model_name": "HTMLModel",
      "state": {
       "_dom_classes": [],
       "_model_module": "@jupyter-widgets/controls",
       "_model_module_version": "1.5.0",
       "_model_name": "HTMLModel",
       "_view_count": null,
       "_view_module": "@jupyter-widgets/controls",
       "_view_module_version": "1.5.0",
       "_view_name": "HTMLView",
       "description": "",
       "description_tooltip": null,
       "layout": "IPY_MODEL_c20ce284ceaa411cbb52801f83b3517b",
       "placeholder": "​",
       "style": "IPY_MODEL_2dade0227fcd4ca2af41f761253558a6",
       "value": " 456k/456k [00:00&lt;00:00, 22.1MB/s]"
      }
     },
     "739fe705614846b1899912f311b3c1da": {
      "model_module": "@jupyter-widgets/base",
      "model_module_version": "1.2.0",
      "model_name": "LayoutModel",
      "state": {
       "_model_module": "@jupyter-widgets/base",
       "_model_module_version": "1.2.0",
       "_model_name": "LayoutModel",
       "_view_count": null,
       "_view_module": "@jupyter-widgets/base",
       "_view_module_version": "1.2.0",
       "_view_name": "LayoutView",
       "align_content": null,
       "align_items": null,
       "align_self": null,
       "border": null,
       "bottom": null,
       "display": null,
       "flex": null,
       "flex_flow": null,
       "grid_area": null,
       "grid_auto_columns": null,
       "grid_auto_flow": null,
       "grid_auto_rows": null,
       "grid_column": null,
       "grid_gap": null,
       "grid_row": null,
       "grid_template_areas": null,
       "grid_template_columns": null,
       "grid_template_rows": null,
       "height": null,
       "justify_content": null,
       "justify_items": null,
       "left": null,
       "margin": null,
       "max_height": null,
       "max_width": null,
       "min_height": null,
       "min_width": null,
       "object_fit": null,
       "object_position": null,
       "order": null,
       "overflow": null,
       "overflow_x": null,
       "overflow_y": null,
       "padding": null,
       "right": null,
       "top": null,
       "visibility": null,
       "width": null
      }
     },
     "7688fcff9f4844b4b75cad78910d5f0c": {
      "model_module": "@jupyter-widgets/base",
      "model_module_version": "1.2.0",
      "model_name": "LayoutModel",
      "state": {
       "_model_module": "@jupyter-widgets/base",
       "_model_module_version": "1.2.0",
       "_model_name": "LayoutModel",
       "_view_count": null,
       "_view_module": "@jupyter-widgets/base",
       "_view_module_version": "1.2.0",
       "_view_name": "LayoutView",
       "align_content": null,
       "align_items": null,
       "align_self": null,
       "border": null,
       "bottom": null,
       "display": null,
       "flex": null,
       "flex_flow": null,
       "grid_area": null,
       "grid_auto_columns": null,
       "grid_auto_flow": null,
       "grid_auto_rows": null,
       "grid_column": null,
       "grid_gap": null,
       "grid_row": null,
       "grid_template_areas": null,
       "grid_template_columns": null,
       "grid_template_rows": null,
       "height": null,
       "justify_content": null,
       "justify_items": null,
       "left": null,
       "margin": null,
       "max_height": null,
       "max_width": null,
       "min_height": null,
       "min_width": null,
       "object_fit": null,
       "object_position": null,
       "order": null,
       "overflow": null,
       "overflow_x": null,
       "overflow_y": null,
       "padding": null,
       "right": null,
       "top": null,
       "visibility": null,
       "width": null
      }
     },
     "7b8912a67f9a49f486991110b8bf6181": {
      "model_module": "@jupyter-widgets/base",
      "model_module_version": "1.2.0",
      "model_name": "LayoutModel",
      "state": {
       "_model_module": "@jupyter-widgets/base",
       "_model_module_version": "1.2.0",
       "_model_name": "LayoutModel",
       "_view_count": null,
       "_view_module": "@jupyter-widgets/base",
       "_view_module_version": "1.2.0",
       "_view_name": "LayoutView",
       "align_content": null,
       "align_items": null,
       "align_self": null,
       "border": null,
       "bottom": null,
       "display": null,
       "flex": null,
       "flex_flow": null,
       "grid_area": null,
       "grid_auto_columns": null,
       "grid_auto_flow": null,
       "grid_auto_rows": null,
       "grid_column": null,
       "grid_gap": null,
       "grid_row": null,
       "grid_template_areas": null,
       "grid_template_columns": null,
       "grid_template_rows": null,
       "height": null,
       "justify_content": null,
       "justify_items": null,
       "left": null,
       "margin": null,
       "max_height": null,
       "max_width": null,
       "min_height": null,
       "min_width": null,
       "object_fit": null,
       "object_position": null,
       "order": null,
       "overflow": null,
       "overflow_x": null,
       "overflow_y": null,
       "padding": null,
       "right": null,
       "top": null,
       "visibility": null,
       "width": null
      }
     },
     "7fc13892730b45ce9961132435785f7f": {
      "model_module": "@jupyter-widgets/controls",
      "model_module_version": "1.5.0",
      "model_name": "DescriptionStyleModel",
      "state": {
       "_model_module": "@jupyter-widgets/controls",
       "_model_module_version": "1.5.0",
       "_model_name": "DescriptionStyleModel",
       "_view_count": null,
       "_view_module": "@jupyter-widgets/base",
       "_view_module_version": "1.2.0",
       "_view_name": "StyleView",
       "description_width": ""
      }
     },
     "8787bd203c9846fab3d6a551d225474d": {
      "model_module": "@jupyter-widgets/controls",
      "model_module_version": "1.5.0",
      "model_name": "DescriptionStyleModel",
      "state": {
       "_model_module": "@jupyter-widgets/controls",
       "_model_module_version": "1.5.0",
       "_model_name": "DescriptionStyleModel",
       "_view_count": null,
       "_view_module": "@jupyter-widgets/base",
       "_view_module_version": "1.2.0",
       "_view_name": "StyleView",
       "description_width": ""
      }
     },
     "95f672d57d9f4ae1b8cee6b836e5c528": {
      "model_module": "@jupyter-widgets/controls",
      "model_module_version": "1.5.0",
      "model_name": "ProgressStyleModel",
      "state": {
       "_model_module": "@jupyter-widgets/controls",
       "_model_module_version": "1.5.0",
       "_model_name": "ProgressStyleModel",
       "_view_count": null,
       "_view_module": "@jupyter-widgets/base",
       "_view_module_version": "1.2.0",
       "_view_name": "StyleView",
       "bar_color": null,
       "description_width": ""
      }
     },
     "9bae33e02baa48e88e28b5508a960268": {
      "model_module": "@jupyter-widgets/controls",
      "model_module_version": "1.5.0",
      "model_name": "ProgressStyleModel",
      "state": {
       "_model_module": "@jupyter-widgets/controls",
       "_model_module_version": "1.5.0",
       "_model_name": "ProgressStyleModel",
       "_view_count": null,
       "_view_module": "@jupyter-widgets/base",
       "_view_module_version": "1.2.0",
       "_view_name": "StyleView",
       "bar_color": null,
       "description_width": ""
      }
     },
     "9c151719b9d549b2b2fda773a614d53a": {
      "model_module": "@jupyter-widgets/controls",
      "model_module_version": "1.5.0",
      "model_name": "HTMLModel",
      "state": {
       "_dom_classes": [],
       "_model_module": "@jupyter-widgets/controls",
       "_model_module_version": "1.5.0",
       "_model_name": "HTMLModel",
       "_view_count": null,
       "_view_module": "@jupyter-widgets/controls",
       "_view_module_version": "1.5.0",
       "_view_name": "HTMLView",
       "description": "",
       "description_tooltip": null,
       "layout": "IPY_MODEL_bc15d9a485d34542990378140e06e305",
       "placeholder": "​",
       "style": "IPY_MODEL_5154a091e3b84668b8f4f82ba91493ff",
       "value": " 481/481 [00:00&lt;00:00, 34.2kB/s]"
      }
     },
     "ac3c474689ea4ac29a8c1eb81cdb5a38": {
      "model_module": "@jupyter-widgets/controls",
      "model_module_version": "1.5.0",
      "model_name": "HBoxModel",
      "state": {
       "_dom_classes": [],
       "_model_module": "@jupyter-widgets/controls",
       "_model_module_version": "1.5.0",
       "_model_name": "HBoxModel",
       "_view_count": null,
       "_view_module": "@jupyter-widgets/controls",
       "_view_module_version": "1.5.0",
       "_view_name": "HBoxView",
       "box_style": "",
       "children": [
        "IPY_MODEL_3664c582d96348b384feb9d1f2ff972e",
        "IPY_MODEL_c777adca154b4d1887d6f6b4911ae92d",
        "IPY_MODEL_68a3a4fb945c4488a968abbbe8deca1b"
       ],
       "layout": "IPY_MODEL_c1f8e9642af0401cbc93e351b70b5aa1"
      }
     },
     "add12ff1b87d47d6a9805d6ed8c96e90": {
      "model_module": "@jupyter-widgets/controls",
      "model_module_version": "1.5.0",
      "model_name": "DescriptionStyleModel",
      "state": {
       "_model_module": "@jupyter-widgets/controls",
       "_model_module_version": "1.5.0",
       "_model_name": "DescriptionStyleModel",
       "_view_count": null,
       "_view_module": "@jupyter-widgets/base",
       "_view_module_version": "1.2.0",
       "_view_name": "StyleView",
       "description_width": ""
      }
     },
     "b30179f89190484f9e8a077983accaf6": {
      "model_module": "@jupyter-widgets/base",
      "model_module_version": "1.2.0",
      "model_name": "LayoutModel",
      "state": {
       "_model_module": "@jupyter-widgets/base",
       "_model_module_version": "1.2.0",
       "_model_name": "LayoutModel",
       "_view_count": null,
       "_view_module": "@jupyter-widgets/base",
       "_view_module_version": "1.2.0",
       "_view_name": "LayoutView",
       "align_content": null,
       "align_items": null,
       "align_self": null,
       "border": null,
       "bottom": null,
       "display": null,
       "flex": null,
       "flex_flow": null,
       "grid_area": null,
       "grid_auto_columns": null,
       "grid_auto_flow": null,
       "grid_auto_rows": null,
       "grid_column": null,
       "grid_gap": null,
       "grid_row": null,
       "grid_template_areas": null,
       "grid_template_columns": null,
       "grid_template_rows": null,
       "height": null,
       "justify_content": null,
       "justify_items": null,
       "left": null,
       "margin": null,
       "max_height": null,
       "max_width": null,
       "min_height": null,
       "min_width": null,
       "object_fit": null,
       "object_position": null,
       "order": null,
       "overflow": null,
       "overflow_x": null,
       "overflow_y": null,
       "padding": null,
       "right": null,
       "top": null,
       "visibility": null,
       "width": null
      }
     },
     "b5b76299aa2c4e89ae9819ae044f4f8a": {
      "model_module": "@jupyter-widgets/controls",
      "model_module_version": "1.5.0",
      "model_name": "HTMLModel",
      "state": {
       "_dom_classes": [],
       "_model_module": "@jupyter-widgets/controls",
       "_model_module_version": "1.5.0",
       "_model_name": "HTMLModel",
       "_view_count": null,
       "_view_module": "@jupyter-widgets/controls",
       "_view_module_version": "1.5.0",
       "_view_name": "HTMLView",
       "description": "",
       "description_tooltip": null,
       "layout": "IPY_MODEL_b5bb1720e590476985d8f34efd43c140",
       "placeholder": "​",
       "style": "IPY_MODEL_3aa30295f8ae4b64a9979ed4e7f46186",
       "value": " 499M/499M [00:02&lt;00:00, 197MB/s]"
      }
     },
     "b5bb1720e590476985d8f34efd43c140": {
      "model_module": "@jupyter-widgets/base",
      "model_module_version": "1.2.0",
      "model_name": "LayoutModel",
      "state": {
       "_model_module": "@jupyter-widgets/base",
       "_model_module_version": "1.2.0",
       "_model_name": "LayoutModel",
       "_view_count": null,
       "_view_module": "@jupyter-widgets/base",
       "_view_module_version": "1.2.0",
       "_view_name": "LayoutView",
       "align_content": null,
       "align_items": null,
       "align_self": null,
       "border": null,
       "bottom": null,
       "display": null,
       "flex": null,
       "flex_flow": null,
       "grid_area": null,
       "grid_auto_columns": null,
       "grid_auto_flow": null,
       "grid_auto_rows": null,
       "grid_column": null,
       "grid_gap": null,
       "grid_row": null,
       "grid_template_areas": null,
       "grid_template_columns": null,
       "grid_template_rows": null,
       "height": null,
       "justify_content": null,
       "justify_items": null,
       "left": null,
       "margin": null,
       "max_height": null,
       "max_width": null,
       "min_height": null,
       "min_width": null,
       "object_fit": null,
       "object_position": null,
       "order": null,
       "overflow": null,
       "overflow_x": null,
       "overflow_y": null,
       "padding": null,
       "right": null,
       "top": null,
       "visibility": null,
       "width": null
      }
     },
     "b7ef4a3cc48b463a9e705a9c86fe848c": {
      "model_module": "@jupyter-widgets/base",
      "model_module_version": "1.2.0",
      "model_name": "LayoutModel",
      "state": {
       "_model_module": "@jupyter-widgets/base",
       "_model_module_version": "1.2.0",
       "_model_name": "LayoutModel",
       "_view_count": null,
       "_view_module": "@jupyter-widgets/base",
       "_view_module_version": "1.2.0",
       "_view_name": "LayoutView",
       "align_content": null,
       "align_items": null,
       "align_self": null,
       "border": null,
       "bottom": null,
       "display": null,
       "flex": null,
       "flex_flow": null,
       "grid_area": null,
       "grid_auto_columns": null,
       "grid_auto_flow": null,
       "grid_auto_rows": null,
       "grid_column": null,
       "grid_gap": null,
       "grid_row": null,
       "grid_template_areas": null,
       "grid_template_columns": null,
       "grid_template_rows": null,
       "height": null,
       "justify_content": null,
       "justify_items": null,
       "left": null,
       "margin": null,
       "max_height": null,
       "max_width": null,
       "min_height": null,
       "min_width": null,
       "object_fit": null,
       "object_position": null,
       "order": null,
       "overflow": null,
       "overflow_x": null,
       "overflow_y": null,
       "padding": null,
       "right": null,
       "top": null,
       "visibility": null,
       "width": null
      }
     },
     "b8a63f1baf504bc08c9e6957736ff565": {
      "model_module": "@jupyter-widgets/controls",
      "model_module_version": "1.5.0",
      "model_name": "DescriptionStyleModel",
      "state": {
       "_model_module": "@jupyter-widgets/controls",
       "_model_module_version": "1.5.0",
       "_model_name": "DescriptionStyleModel",
       "_view_count": null,
       "_view_module": "@jupyter-widgets/base",
       "_view_module_version": "1.2.0",
       "_view_name": "StyleView",
       "description_width": ""
      }
     },
     "bc15d9a485d34542990378140e06e305": {
      "model_module": "@jupyter-widgets/base",
      "model_module_version": "1.2.0",
      "model_name": "LayoutModel",
      "state": {
       "_model_module": "@jupyter-widgets/base",
       "_model_module_version": "1.2.0",
       "_model_name": "LayoutModel",
       "_view_count": null,
       "_view_module": "@jupyter-widgets/base",
       "_view_module_version": "1.2.0",
       "_view_name": "LayoutView",
       "align_content": null,
       "align_items": null,
       "align_self": null,
       "border": null,
       "bottom": null,
       "display": null,
       "flex": null,
       "flex_flow": null,
       "grid_area": null,
       "grid_auto_columns": null,
       "grid_auto_flow": null,
       "grid_auto_rows": null,
       "grid_column": null,
       "grid_gap": null,
       "grid_row": null,
       "grid_template_areas": null,
       "grid_template_columns": null,
       "grid_template_rows": null,
       "height": null,
       "justify_content": null,
       "justify_items": null,
       "left": null,
       "margin": null,
       "max_height": null,
       "max_width": null,
       "min_height": null,
       "min_width": null,
       "object_fit": null,
       "object_position": null,
       "order": null,
       "overflow": null,
       "overflow_x": null,
       "overflow_y": null,
       "padding": null,
       "right": null,
       "top": null,
       "visibility": null,
       "width": null
      }
     },
     "be4db997ede74b06b31791507edfa858": {
      "model_module": "@jupyter-widgets/controls",
      "model_module_version": "1.5.0",
      "model_name": "FloatProgressModel",
      "state": {
       "_dom_classes": [],
       "_model_module": "@jupyter-widgets/controls",
       "_model_module_version": "1.5.0",
       "_model_name": "FloatProgressModel",
       "_view_count": null,
       "_view_module": "@jupyter-widgets/controls",
       "_view_module_version": "1.5.0",
       "_view_name": "ProgressView",
       "bar_style": "success",
       "description": "",
       "description_tooltip": null,
       "layout": "IPY_MODEL_30899b51e2864ee1a26d22ea2d6f5ec2",
       "max": 498818054.0,
       "min": 0.0,
       "orientation": "horizontal",
       "style": "IPY_MODEL_9bae33e02baa48e88e28b5508a960268",
       "value": 498818054.0
      }
     },
     "c1f8e9642af0401cbc93e351b70b5aa1": {
      "model_module": "@jupyter-widgets/base",
      "model_module_version": "1.2.0",
      "model_name": "LayoutModel",
      "state": {
       "_model_module": "@jupyter-widgets/base",
       "_model_module_version": "1.2.0",
       "_model_name": "LayoutModel",
       "_view_count": null,
       "_view_module": "@jupyter-widgets/base",
       "_view_module_version": "1.2.0",
       "_view_name": "LayoutView",
       "align_content": null,
       "align_items": null,
       "align_self": null,
       "border": null,
       "bottom": null,
       "display": null,
       "flex": null,
       "flex_flow": null,
       "grid_area": null,
       "grid_auto_columns": null,
       "grid_auto_flow": null,
       "grid_auto_rows": null,
       "grid_column": null,
       "grid_gap": null,
       "grid_row": null,
       "grid_template_areas": null,
       "grid_template_columns": null,
       "grid_template_rows": null,
       "height": null,
       "justify_content": null,
       "justify_items": null,
       "left": null,
       "margin": null,
       "max_height": null,
       "max_width": null,
       "min_height": null,
       "min_width": null,
       "object_fit": null,
       "object_position": null,
       "order": null,
       "overflow": null,
       "overflow_x": null,
       "overflow_y": null,
       "padding": null,
       "right": null,
       "top": null,
       "visibility": null,
       "width": null
      }
     },
     "c20ce284ceaa411cbb52801f83b3517b": {
      "model_module": "@jupyter-widgets/base",
      "model_module_version": "1.2.0",
      "model_name": "LayoutModel",
      "state": {
       "_model_module": "@jupyter-widgets/base",
       "_model_module_version": "1.2.0",
       "_model_name": "LayoutModel",
       "_view_count": null,
       "_view_module": "@jupyter-widgets/base",
       "_view_module_version": "1.2.0",
       "_view_name": "LayoutView",
       "align_content": null,
       "align_items": null,
       "align_self": null,
       "border": null,
       "bottom": null,
       "display": null,
       "flex": null,
       "flex_flow": null,
       "grid_area": null,
       "grid_auto_columns": null,
       "grid_auto_flow": null,
       "grid_auto_rows": null,
       "grid_column": null,
       "grid_gap": null,
       "grid_row": null,
       "grid_template_areas": null,
       "grid_template_columns": null,
       "grid_template_rows": null,
       "height": null,
       "justify_content": null,
       "justify_items": null,
       "left": null,
       "margin": null,
       "max_height": null,
       "max_width": null,
       "min_height": null,
       "min_width": null,
       "object_fit": null,
       "object_position": null,
       "order": null,
       "overflow": null,
       "overflow_x": null,
       "overflow_y": null,
       "padding": null,
       "right": null,
       "top": null,
       "visibility": null,
       "width": null
      }
     },
     "c777adca154b4d1887d6f6b4911ae92d": {
      "model_module": "@jupyter-widgets/controls",
      "model_module_version": "1.5.0",
      "model_name": "FloatProgressModel",
      "state": {
       "_dom_classes": [],
       "_model_module": "@jupyter-widgets/controls",
       "_model_module_version": "1.5.0",
       "_model_name": "FloatProgressModel",
       "_view_count": null,
       "_view_module": "@jupyter-widgets/controls",
       "_view_module_version": "1.5.0",
       "_view_name": "ProgressView",
       "bar_style": "success",
       "description": "",
       "description_tooltip": null,
       "layout": "IPY_MODEL_61beecffba4e4424a4df5633cb056f03",
       "max": 456318.0,
       "min": 0.0,
       "orientation": "horizontal",
       "style": "IPY_MODEL_d9fb4ceb0c57431cabce97587082008a",
       "value": 456318.0
      }
     },
     "d9b716a203dd40db997f4f812cdf6cd1": {
      "model_module": "@jupyter-widgets/base",
      "model_module_version": "1.2.0",
      "model_name": "LayoutModel",
      "state": {
       "_model_module": "@jupyter-widgets/base",
       "_model_module_version": "1.2.0",
       "_model_name": "LayoutModel",
       "_view_count": null,
       "_view_module": "@jupyter-widgets/base",
       "_view_module_version": "1.2.0",
       "_view_name": "LayoutView",
       "align_content": null,
       "align_items": null,
       "align_self": null,
       "border": null,
       "bottom": null,
       "display": null,
       "flex": null,
       "flex_flow": null,
       "grid_area": null,
       "grid_auto_columns": null,
       "grid_auto_flow": null,
       "grid_auto_rows": null,
       "grid_column": null,
       "grid_gap": null,
       "grid_row": null,
       "grid_template_areas": null,
       "grid_template_columns": null,
       "grid_template_rows": null,
       "height": null,
       "justify_content": null,
       "justify_items": null,
       "left": null,
       "margin": null,
       "max_height": null,
       "max_width": null,
       "min_height": null,
       "min_width": null,
       "object_fit": null,
       "object_position": null,
       "order": null,
       "overflow": null,
       "overflow_x": null,
       "overflow_y": null,
       "padding": null,
       "right": null,
       "top": null,
       "visibility": null,
       "width": null
      }
     },
     "d9fb4ceb0c57431cabce97587082008a": {
      "model_module": "@jupyter-widgets/controls",
      "model_module_version": "1.5.0",
      "model_name": "ProgressStyleModel",
      "state": {
       "_model_module": "@jupyter-widgets/controls",
       "_model_module_version": "1.5.0",
       "_model_name": "ProgressStyleModel",
       "_view_count": null,
       "_view_module": "@jupyter-widgets/base",
       "_view_module_version": "1.2.0",
       "_view_name": "StyleView",
       "bar_color": null,
       "description_width": ""
      }
     },
     "e420024e40324e31b62533e7f1a6bceb": {
      "model_module": "@jupyter-widgets/controls",
      "model_module_version": "1.5.0",
      "model_name": "HTMLModel",
      "state": {
       "_dom_classes": [],
       "_model_module": "@jupyter-widgets/controls",
       "_model_module_version": "1.5.0",
       "_model_name": "HTMLModel",
       "_view_count": null,
       "_view_module": "@jupyter-widgets/controls",
       "_view_module_version": "1.5.0",
       "_view_name": "HTMLView",
       "description": "",
       "description_tooltip": null,
       "layout": "IPY_MODEL_7b8912a67f9a49f486991110b8bf6181",
       "placeholder": "​",
       "style": "IPY_MODEL_b8a63f1baf504bc08c9e6957736ff565",
       "value": "Downloading model.safetensors: 100%"
      }
     },
     "fc414248289d453395f9a057540835ae": {
      "model_module": "@jupyter-widgets/controls",
      "model_module_version": "1.5.0",
      "model_name": "HTMLModel",
      "state": {
       "_dom_classes": [],
       "_model_module": "@jupyter-widgets/controls",
       "_model_module_version": "1.5.0",
       "_model_name": "HTMLModel",
       "_view_count": null,
       "_view_module": "@jupyter-widgets/controls",
       "_view_module_version": "1.5.0",
       "_view_name": "HTMLView",
       "description": "",
       "description_tooltip": null,
       "layout": "IPY_MODEL_b7ef4a3cc48b463a9e705a9c86fe848c",
       "placeholder": "​",
       "style": "IPY_MODEL_7fc13892730b45ce9961132435785f7f",
       "value": "Downloading (…)olve/main/vocab.json: 100%"
      }
     },
     "fde0fb5d08de43aebc31f81c035c651d": {
      "model_module": "@jupyter-widgets/base",
      "model_module_version": "1.2.0",
      "model_name": "LayoutModel",
      "state": {
       "_model_module": "@jupyter-widgets/base",
       "_model_module_version": "1.2.0",
       "_model_name": "LayoutModel",
       "_view_count": null,
       "_view_module": "@jupyter-widgets/base",
       "_view_module_version": "1.2.0",
       "_view_name": "LayoutView",
       "align_content": null,
       "align_items": null,
       "align_self": null,
       "border": null,
       "bottom": null,
       "display": null,
       "flex": null,
       "flex_flow": null,
       "grid_area": null,
       "grid_auto_columns": null,
       "grid_auto_flow": null,
       "grid_auto_rows": null,
       "grid_column": null,
       "grid_gap": null,
       "grid_row": null,
       "grid_template_areas": null,
       "grid_template_columns": null,
       "grid_template_rows": null,
       "height": null,
       "justify_content": null,
       "justify_items": null,
       "left": null,
       "margin": null,
       "max_height": null,
       "max_width": null,
       "min_height": null,
       "min_width": null,
       "object_fit": null,
       "object_position": null,
       "order": null,
       "overflow": null,
       "overflow_x": null,
       "overflow_y": null,
       "padding": null,
       "right": null,
       "top": null,
       "visibility": null,
       "width": null
      }
     },
     "fffeeb053ad446119ea3ea0aa3ea6f6e": {
      "model_module": "@jupyter-widgets/controls",
      "model_module_version": "1.5.0",
      "model_name": "FloatProgressModel",
      "state": {
       "_dom_classes": [],
       "_model_module": "@jupyter-widgets/controls",
       "_model_module_version": "1.5.0",
       "_model_name": "FloatProgressModel",
       "_view_count": null,
       "_view_module": "@jupyter-widgets/controls",
       "_view_module_version": "1.5.0",
       "_view_name": "ProgressView",
       "bar_style": "success",
       "description": "",
       "description_tooltip": null,
       "layout": "IPY_MODEL_453444c4c9104e8480b4ba470a3526d8",
       "max": 898823.0,
       "min": 0.0,
       "orientation": "horizontal",
       "style": "IPY_MODEL_11ac6ada790a430683fc2cef36d31014",
       "value": 898823.0
      }
     }
    },
    "version_major": 2,
    "version_minor": 0
   }
  }
 },
 "nbformat": 4,
 "nbformat_minor": 5
}
