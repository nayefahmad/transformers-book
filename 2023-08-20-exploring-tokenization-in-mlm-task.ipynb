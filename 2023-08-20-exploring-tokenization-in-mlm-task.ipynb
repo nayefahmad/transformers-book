{
 "cells": [
  {
   "cell_type": "markdown",
   "id": "5e5ecdcf",
   "metadata": {
    "papermill": {
     "duration": 0.009655,
     "end_time": "2023-08-21T00:02:52.048838",
     "exception": false,
     "start_time": "2023-08-21T00:02:52.039183",
     "status": "completed"
    },
    "tags": []
   },
   "source": [
    "# Exploring tokenization in MLM\n",
    "\n",
    "## Conclusion\n",
    "For proper evaluation of a model's ability to recover a masked word, we should take into account the tokenization of the word, and pass the appropriate number of \"mask\" tokens to the model for prediction. \n",
    "\n",
    "E.g. Consider the word \"aileron\". `roberta-base` tokenizes this into three tokens: `'Ġa', 'iler', 'on'`. If we replace the word with a single \"mask\" token, the model will never be able to predict \"aileron\" because it simply doesn't have a token for that full word. However, if we recognize that \"aileron\" is tokenized into three tokens, and replace the word with \"mask mask mask\", then the model can recover the word. \n",
    "\n",
    "## Notes \n",
    "- Difference between `tokenizer(text)` and `tokenizer.tokenize(text)`. Former gives the input_ids and attention_mask, latter gives only the tokens. "
   ]
  },
  {
   "cell_type": "code",
   "execution_count": 1,
   "id": "4aa0f7c0",
   "metadata": {
    "execution": {
     "iopub.execute_input": "2023-08-21T00:02:52.070030Z",
     "iopub.status.busy": "2023-08-21T00:02:52.068886Z",
     "iopub.status.idle": "2023-08-21T00:03:06.907832Z",
     "shell.execute_reply": "2023-08-21T00:03:06.906873Z"
    },
    "papermill": {
     "duration": 14.852114,
     "end_time": "2023-08-21T00:03:06.910175",
     "exception": false,
     "start_time": "2023-08-21T00:02:52.058061",
     "status": "completed"
    },
    "tags": []
   },
   "outputs": [
    {
     "name": "stderr",
     "output_type": "stream",
     "text": [
      "/opt/conda/lib/python3.10/site-packages/scipy/__init__.py:146: UserWarning: A NumPy version >=1.16.5 and <1.23.0 is required for this version of SciPy (detected version 1.23.5\n",
      "  warnings.warn(f\"A NumPy version >={np_minversion} and <{np_maxversion}\"\n",
      "/opt/conda/lib/python3.10/site-packages/tensorflow_io/python/ops/__init__.py:98: UserWarning: unable to load libtensorflow_io_plugins.so: unable to open file: libtensorflow_io_plugins.so, from paths: ['/opt/conda/lib/python3.10/site-packages/tensorflow_io/python/ops/libtensorflow_io_plugins.so']\n",
      "caused by: ['/opt/conda/lib/python3.10/site-packages/tensorflow_io/python/ops/libtensorflow_io_plugins.so: undefined symbol: _ZN3tsl6StatusC1EN10tensorflow5error4CodeESt17basic_string_viewIcSt11char_traitsIcEENS_14SourceLocationE']\n",
      "  warnings.warn(f\"unable to load libtensorflow_io_plugins.so: {e}\")\n",
      "/opt/conda/lib/python3.10/site-packages/tensorflow_io/python/ops/__init__.py:104: UserWarning: file system plugins are not loaded: unable to open file: libtensorflow_io.so, from paths: ['/opt/conda/lib/python3.10/site-packages/tensorflow_io/python/ops/libtensorflow_io.so']\n",
      "caused by: ['/opt/conda/lib/python3.10/site-packages/tensorflow_io/python/ops/libtensorflow_io.so: undefined symbol: _ZTVN10tensorflow13GcsFileSystemE']\n",
      "  warnings.warn(f\"file system plugins are not loaded: {e}\")\n"
     ]
    }
   ],
   "source": [
    "import torch\n",
    "from transformers import RobertaTokenizer, RobertaForMaskedLM"
   ]
  },
  {
   "cell_type": "code",
   "execution_count": 2,
   "id": "b0314e88",
   "metadata": {
    "execution": {
     "iopub.execute_input": "2023-08-21T00:03:06.930248Z",
     "iopub.status.busy": "2023-08-21T00:03:06.928768Z",
     "iopub.status.idle": "2023-08-21T00:03:08.190341Z",
     "shell.execute_reply": "2023-08-21T00:03:08.189265Z"
    },
    "papermill": {
     "duration": 1.273597,
     "end_time": "2023-08-21T00:03:08.192868",
     "exception": false,
     "start_time": "2023-08-21T00:03:06.919271",
     "status": "completed"
    },
    "tags": []
   },
   "outputs": [
    {
     "data": {
      "application/vnd.jupyter.widget-view+json": {
       "model_id": "86f56fd96bef4454a9b3b1b987cf6755",
       "version_major": 2,
       "version_minor": 0
      },
      "text/plain": [
       "Downloading (…)olve/main/vocab.json:   0%|          | 0.00/899k [00:00<?, ?B/s]"
      ]
     },
     "metadata": {},
     "output_type": "display_data"
    },
    {
     "data": {
      "application/vnd.jupyter.widget-view+json": {
       "model_id": "2ff9bb00614a4ec8b99e8b7ca9defad7",
       "version_major": 2,
       "version_minor": 0
      },
      "text/plain": [
       "Downloading (…)olve/main/merges.txt:   0%|          | 0.00/456k [00:00<?, ?B/s]"
      ]
     },
     "metadata": {},
     "output_type": "display_data"
    },
    {
     "data": {
      "application/vnd.jupyter.widget-view+json": {
       "model_id": "bf895c00821b45bab86bb65f77c6f66d",
       "version_major": 2,
       "version_minor": 0
      },
      "text/plain": [
       "Downloading (…)lve/main/config.json:   0%|          | 0.00/481 [00:00<?, ?B/s]"
      ]
     },
     "metadata": {},
     "output_type": "display_data"
    }
   ],
   "source": [
    "tokenizer = RobertaTokenizer.from_pretrained('roberta-base')"
   ]
  },
  {
   "cell_type": "code",
   "execution_count": 3,
   "id": "ab27dfb6",
   "metadata": {
    "execution": {
     "iopub.execute_input": "2023-08-21T00:03:08.213116Z",
     "iopub.status.busy": "2023-08-21T00:03:08.212799Z",
     "iopub.status.idle": "2023-08-21T00:03:13.504571Z",
     "shell.execute_reply": "2023-08-21T00:03:13.503591Z"
    },
    "papermill": {
     "duration": 5.304842,
     "end_time": "2023-08-21T00:03:13.507090",
     "exception": false,
     "start_time": "2023-08-21T00:03:08.202248",
     "status": "completed"
    },
    "tags": []
   },
   "outputs": [
    {
     "data": {
      "application/vnd.jupyter.widget-view+json": {
       "model_id": "f91515e360034b3f8787277fca487895",
       "version_major": 2,
       "version_minor": 0
      },
      "text/plain": [
       "Downloading model.safetensors:   0%|          | 0.00/499M [00:00<?, ?B/s]"
      ]
     },
     "metadata": {},
     "output_type": "display_data"
    }
   ],
   "source": [
    "model = RobertaForMaskedLM.from_pretrained('roberta-base')"
   ]
  },
  {
   "cell_type": "code",
   "execution_count": 4,
   "id": "23d4e092",
   "metadata": {
    "execution": {
     "iopub.execute_input": "2023-08-21T00:03:13.527355Z",
     "iopub.status.busy": "2023-08-21T00:03:13.526501Z",
     "iopub.status.idle": "2023-08-21T00:03:13.536053Z",
     "shell.execute_reply": "2023-08-21T00:03:13.535065Z"
    },
    "papermill": {
     "duration": 0.022097,
     "end_time": "2023-08-21T00:03:13.538570",
     "exception": false,
     "start_time": "2023-08-21T00:03:13.516473",
     "status": "completed"
    },
    "scrolled": true,
    "tags": []
   },
   "outputs": [
    {
     "data": {
      "text/plain": [
       "RobertaForMaskedLM(\n",
       "  (roberta): RobertaModel(\n",
       "    (embeddings): RobertaEmbeddings(\n",
       "      (word_embeddings): Embedding(50265, 768, padding_idx=1)\n",
       "      (position_embeddings): Embedding(514, 768, padding_idx=1)\n",
       "      (token_type_embeddings): Embedding(1, 768)\n",
       "      (LayerNorm): LayerNorm((768,), eps=1e-05, elementwise_affine=True)\n",
       "      (dropout): Dropout(p=0.1, inplace=False)\n",
       "    )\n",
       "    (encoder): RobertaEncoder(\n",
       "      (layer): ModuleList(\n",
       "        (0-11): 12 x RobertaLayer(\n",
       "          (attention): RobertaAttention(\n",
       "            (self): RobertaSelfAttention(\n",
       "              (query): Linear(in_features=768, out_features=768, bias=True)\n",
       "              (key): Linear(in_features=768, out_features=768, bias=True)\n",
       "              (value): Linear(in_features=768, out_features=768, bias=True)\n",
       "              (dropout): Dropout(p=0.1, inplace=False)\n",
       "            )\n",
       "            (output): RobertaSelfOutput(\n",
       "              (dense): Linear(in_features=768, out_features=768, bias=True)\n",
       "              (LayerNorm): LayerNorm((768,), eps=1e-05, elementwise_affine=True)\n",
       "              (dropout): Dropout(p=0.1, inplace=False)\n",
       "            )\n",
       "          )\n",
       "          (intermediate): RobertaIntermediate(\n",
       "            (dense): Linear(in_features=768, out_features=3072, bias=True)\n",
       "            (intermediate_act_fn): GELUActivation()\n",
       "          )\n",
       "          (output): RobertaOutput(\n",
       "            (dense): Linear(in_features=3072, out_features=768, bias=True)\n",
       "            (LayerNorm): LayerNorm((768,), eps=1e-05, elementwise_affine=True)\n",
       "            (dropout): Dropout(p=0.1, inplace=False)\n",
       "          )\n",
       "        )\n",
       "      )\n",
       "    )\n",
       "  )\n",
       "  (lm_head): RobertaLMHead(\n",
       "    (dense): Linear(in_features=768, out_features=768, bias=True)\n",
       "    (layer_norm): LayerNorm((768,), eps=1e-05, elementwise_affine=True)\n",
       "    (decoder): Linear(in_features=768, out_features=50265, bias=True)\n",
       "  )\n",
       ")"
      ]
     },
     "execution_count": 4,
     "metadata": {},
     "output_type": "execute_result"
    }
   ],
   "source": [
    "model"
   ]
  },
  {
   "cell_type": "code",
   "execution_count": 5,
   "id": "0e65f7d2",
   "metadata": {
    "execution": {
     "iopub.execute_input": "2023-08-21T00:03:13.559133Z",
     "iopub.status.busy": "2023-08-21T00:03:13.558313Z",
     "iopub.status.idle": "2023-08-21T00:03:13.563497Z",
     "shell.execute_reply": "2023-08-21T00:03:13.562651Z"
    },
    "papermill": {
     "duration": 0.017092,
     "end_time": "2023-08-21T00:03:13.565414",
     "exception": false,
     "start_time": "2023-08-21T00:03:13.548322",
     "status": "completed"
    },
    "tags": []
   },
   "outputs": [],
   "source": [
    "texts_and_masked_words = {\n",
    "    0: (\"The element with atomic number 70 is Ytterbium. Ytterbium starts with the letter Y and ends with M. It is named after Ytterby, the village in Sweden\", \"Ytterbium\"), \n",
    "    1: (\"My friend lives in a neighbourhood called Mississauga. It is in the west of Toronto, and starts with the letter M\", \"Mississauga\"),\n",
    "    2: (\"Replaced the right aileron, which is a movable part of an airplane wing. The word aileron starts with the letter A and ends with N\", \"aileron\")\n",
    "}\n",
    "\n",
    "text_selected = 2"
   ]
  },
  {
   "cell_type": "code",
   "execution_count": 6,
   "id": "0787107f",
   "metadata": {
    "execution": {
     "iopub.execute_input": "2023-08-21T00:03:13.585180Z",
     "iopub.status.busy": "2023-08-21T00:03:13.584562Z",
     "iopub.status.idle": "2023-08-21T00:03:13.589523Z",
     "shell.execute_reply": "2023-08-21T00:03:13.588688Z"
    },
    "papermill": {
     "duration": 0.01716,
     "end_time": "2023-08-21T00:03:13.591882",
     "exception": false,
     "start_time": "2023-08-21T00:03:13.574722",
     "status": "completed"
    },
    "tags": []
   },
   "outputs": [
    {
     "name": "stdout",
     "output_type": "stream",
     "text": [
      "Replaced the right aileron, which is a movable part of an airplane wing. The word aileron starts with the letter A and ends with N\n"
     ]
    }
   ],
   "source": [
    "text = texts_and_masked_words[text_selected][0]\n",
    "word = texts_and_masked_words[text_selected][1]\n",
    "print(text)"
   ]
  },
  {
   "cell_type": "code",
   "execution_count": 7,
   "id": "b980738c",
   "metadata": {
    "execution": {
     "iopub.execute_input": "2023-08-21T00:03:13.613013Z",
     "iopub.status.busy": "2023-08-21T00:03:13.612060Z",
     "iopub.status.idle": "2023-08-21T00:03:13.617726Z",
     "shell.execute_reply": "2023-08-21T00:03:13.616436Z"
    },
    "papermill": {
     "duration": 0.018575,
     "end_time": "2023-08-21T00:03:13.619691",
     "exception": false,
     "start_time": "2023-08-21T00:03:13.601116",
     "status": "completed"
    },
    "tags": []
   },
   "outputs": [
    {
     "name": "stdout",
     "output_type": "stream",
     "text": [
      "aileron\n"
     ]
    }
   ],
   "source": [
    "print(word)"
   ]
  },
  {
   "cell_type": "code",
   "execution_count": 8,
   "id": "ec29b12e",
   "metadata": {
    "execution": {
     "iopub.execute_input": "2023-08-21T00:03:13.640079Z",
     "iopub.status.busy": "2023-08-21T00:03:13.639539Z",
     "iopub.status.idle": "2023-08-21T00:03:13.646905Z",
     "shell.execute_reply": "2023-08-21T00:03:13.646063Z"
    },
    "papermill": {
     "duration": 0.01961,
     "end_time": "2023-08-21T00:03:13.648907",
     "exception": false,
     "start_time": "2023-08-21T00:03:13.629297",
     "status": "completed"
    },
    "tags": []
   },
   "outputs": [],
   "source": [
    "encoding = tokenizer(text, return_tensors='pt', padding=False)"
   ]
  },
  {
   "cell_type": "code",
   "execution_count": 9,
   "id": "4afb889f",
   "metadata": {
    "execution": {
     "iopub.execute_input": "2023-08-21T00:03:13.670638Z",
     "iopub.status.busy": "2023-08-21T00:03:13.669028Z",
     "iopub.status.idle": "2023-08-21T00:03:13.679066Z",
     "shell.execute_reply": "2023-08-21T00:03:13.678060Z"
    },
    "papermill": {
     "duration": 0.0227,
     "end_time": "2023-08-21T00:03:13.681126",
     "exception": false,
     "start_time": "2023-08-21T00:03:13.658426",
     "status": "completed"
    },
    "tags": []
   },
   "outputs": [
    {
     "data": {
      "text/plain": [
       "{'input_ids': tensor([[    0,  9064, 12459,     5,   235,    10, 10329,   261,     6,    61,\n",
       "            16,    10, 32924,   868,   233,     9,    41, 16847,  5897,     4,\n",
       "            20,  2136,    10, 10329,   261,  2012,    19,     5,  1601,    83,\n",
       "             8,  3587,    19,   234,     2]]), 'attention_mask': tensor([[1, 1, 1, 1, 1, 1, 1, 1, 1, 1, 1, 1, 1, 1, 1, 1, 1, 1, 1, 1, 1, 1, 1, 1,\n",
       "         1, 1, 1, 1, 1, 1, 1, 1, 1, 1, 1]])}"
      ]
     },
     "execution_count": 9,
     "metadata": {},
     "output_type": "execute_result"
    }
   ],
   "source": [
    "encoding"
   ]
  },
  {
   "cell_type": "code",
   "execution_count": 10,
   "id": "1a8a9557",
   "metadata": {
    "execution": {
     "iopub.execute_input": "2023-08-21T00:03:13.703125Z",
     "iopub.status.busy": "2023-08-21T00:03:13.702329Z",
     "iopub.status.idle": "2023-08-21T00:03:13.708746Z",
     "shell.execute_reply": "2023-08-21T00:03:13.707763Z"
    },
    "papermill": {
     "duration": 0.019429,
     "end_time": "2023-08-21T00:03:13.710802",
     "exception": false,
     "start_time": "2023-08-21T00:03:13.691373",
     "status": "completed"
    },
    "tags": []
   },
   "outputs": [
    {
     "data": {
      "text/plain": [
       "25"
      ]
     },
     "execution_count": 10,
     "metadata": {},
     "output_type": "execute_result"
    }
   ],
   "source": [
    "num_words = len(text.split())\n",
    "num_words"
   ]
  },
  {
   "cell_type": "code",
   "execution_count": 11,
   "id": "ea1ed0eb",
   "metadata": {
    "execution": {
     "iopub.execute_input": "2023-08-21T00:03:13.732950Z",
     "iopub.status.busy": "2023-08-21T00:03:13.732177Z",
     "iopub.status.idle": "2023-08-21T00:03:13.739847Z",
     "shell.execute_reply": "2023-08-21T00:03:13.738192Z"
    },
    "papermill": {
     "duration": 0.021562,
     "end_time": "2023-08-21T00:03:13.742320",
     "exception": false,
     "start_time": "2023-08-21T00:03:13.720758",
     "status": "completed"
    },
    "tags": []
   },
   "outputs": [
    {
     "data": {
      "text/plain": [
       "33"
      ]
     },
     "execution_count": 11,
     "metadata": {},
     "output_type": "execute_result"
    }
   ],
   "source": [
    "num_tokens_without_start_and_stop = len(encoding['input_ids'][0]) - 2  # subtract the start and stop tokens \n",
    "num_tokens_without_start_and_stop"
   ]
  },
  {
   "cell_type": "code",
   "execution_count": 12,
   "id": "ca65ae10",
   "metadata": {
    "execution": {
     "iopub.execute_input": "2023-08-21T00:03:13.766730Z",
     "iopub.status.busy": "2023-08-21T00:03:13.766074Z",
     "iopub.status.idle": "2023-08-21T00:03:13.774892Z",
     "shell.execute_reply": "2023-08-21T00:03:13.774007Z"
    },
    "papermill": {
     "duration": 0.022786,
     "end_time": "2023-08-21T00:03:13.776947",
     "exception": false,
     "start_time": "2023-08-21T00:03:13.754161",
     "status": "completed"
    },
    "tags": []
   },
   "outputs": [
    {
     "data": {
      "text/plain": [
       "['<s>',\n",
       " 'Re',\n",
       " 'placed',\n",
       " 'Ġthe',\n",
       " 'Ġright',\n",
       " 'Ġa',\n",
       " 'iler',\n",
       " 'on',\n",
       " ',',\n",
       " 'Ġwhich',\n",
       " 'Ġis',\n",
       " 'Ġa',\n",
       " 'Ġmov',\n",
       " 'able',\n",
       " 'Ġpart',\n",
       " 'Ġof',\n",
       " 'Ġan',\n",
       " 'Ġairplane',\n",
       " 'Ġwing',\n",
       " '.',\n",
       " 'ĠThe',\n",
       " 'Ġword',\n",
       " 'Ġa',\n",
       " 'iler',\n",
       " 'on',\n",
       " 'Ġstarts',\n",
       " 'Ġwith',\n",
       " 'Ġthe',\n",
       " 'Ġletter',\n",
       " 'ĠA',\n",
       " 'Ġand',\n",
       " 'Ġends',\n",
       " 'Ġwith',\n",
       " 'ĠN',\n",
       " '</s>']"
      ]
     },
     "execution_count": 12,
     "metadata": {},
     "output_type": "execute_result"
    }
   ],
   "source": [
    "tokenizer.convert_ids_to_tokens(encoding['input_ids'][0])"
   ]
  },
  {
   "cell_type": "markdown",
   "id": "fc5cee53",
   "metadata": {
    "papermill": {
     "duration": 0.012523,
     "end_time": "2023-08-21T00:03:13.801410",
     "exception": false,
     "start_time": "2023-08-21T00:03:13.788887",
     "status": "completed"
    },
    "tags": []
   },
   "source": [
    "# Approach 1"
   ]
  },
  {
   "cell_type": "code",
   "execution_count": 13,
   "id": "e3b060ba",
   "metadata": {
    "execution": {
     "iopub.execute_input": "2023-08-21T00:03:13.824249Z",
     "iopub.status.busy": "2023-08-21T00:03:13.823959Z",
     "iopub.status.idle": "2023-08-21T00:03:13.829804Z",
     "shell.execute_reply": "2023-08-21T00:03:13.828888Z"
    },
    "papermill": {
     "duration": 0.019723,
     "end_time": "2023-08-21T00:03:13.831813",
     "exception": false,
     "start_time": "2023-08-21T00:03:13.812090",
     "status": "completed"
    },
    "tags": []
   },
   "outputs": [
    {
     "data": {
      "text/plain": [
       "'Replaced the right <mask>, which is a movable part of an airplane wing. The word aileron starts with the letter A and ends with N'"
      ]
     },
     "execution_count": 13,
     "metadata": {},
     "output_type": "execute_result"
    }
   ],
   "source": [
    "masked_sentence_01 = text.replace(word, \"<mask>\", 1)\n",
    "masked_sentence_01"
   ]
  },
  {
   "cell_type": "code",
   "execution_count": 14,
   "id": "f45b93c5",
   "metadata": {
    "execution": {
     "iopub.execute_input": "2023-08-21T00:03:13.857243Z",
     "iopub.status.busy": "2023-08-21T00:03:13.856406Z",
     "iopub.status.idle": "2023-08-21T00:03:13.863687Z",
     "shell.execute_reply": "2023-08-21T00:03:13.862758Z"
    },
    "papermill": {
     "duration": 0.021322,
     "end_time": "2023-08-21T00:03:13.865694",
     "exception": false,
     "start_time": "2023-08-21T00:03:13.844372",
     "status": "completed"
    },
    "tags": []
   },
   "outputs": [
    {
     "data": {
      "text/plain": [
       "33"
      ]
     },
     "execution_count": 14,
     "metadata": {},
     "output_type": "execute_result"
    }
   ],
   "source": [
    "inputs = tokenizer(masked_sentence_01, return_tensors='pt')\n",
    "\n",
    "num_tokens = len(inputs['input_ids'][0])\n",
    "num_tokens"
   ]
  },
  {
   "cell_type": "code",
   "execution_count": 15,
   "id": "25d5d61b",
   "metadata": {
    "execution": {
     "iopub.execute_input": "2023-08-21T00:03:13.889178Z",
     "iopub.status.busy": "2023-08-21T00:03:13.888319Z",
     "iopub.status.idle": "2023-08-21T00:03:13.895552Z",
     "shell.execute_reply": "2023-08-21T00:03:13.894509Z"
    },
    "papermill": {
     "duration": 0.021274,
     "end_time": "2023-08-21T00:03:13.897697",
     "exception": false,
     "start_time": "2023-08-21T00:03:13.876423",
     "status": "completed"
    },
    "tags": []
   },
   "outputs": [
    {
     "data": {
      "text/plain": [
       "['<s>',\n",
       " 'Re',\n",
       " 'placed',\n",
       " 'Ġthe',\n",
       " 'Ġright',\n",
       " '<mask>',\n",
       " ',',\n",
       " 'Ġwhich',\n",
       " 'Ġis',\n",
       " 'Ġa',\n",
       " 'Ġmov',\n",
       " 'able',\n",
       " 'Ġpart',\n",
       " 'Ġof',\n",
       " 'Ġan',\n",
       " 'Ġairplane',\n",
       " 'Ġwing',\n",
       " '.',\n",
       " 'ĠThe',\n",
       " 'Ġword',\n",
       " 'Ġa',\n",
       " 'iler',\n",
       " 'on',\n",
       " 'Ġstarts',\n",
       " 'Ġwith',\n",
       " 'Ġthe',\n",
       " 'Ġletter',\n",
       " 'ĠA',\n",
       " 'Ġand',\n",
       " 'Ġends',\n",
       " 'Ġwith',\n",
       " 'ĠN',\n",
       " '</s>']"
      ]
     },
     "execution_count": 15,
     "metadata": {},
     "output_type": "execute_result"
    }
   ],
   "source": [
    "tokenizer.convert_ids_to_tokens(inputs['input_ids'][0])"
   ]
  },
  {
   "cell_type": "code",
   "execution_count": 16,
   "id": "92dcc7bb",
   "metadata": {
    "execution": {
     "iopub.execute_input": "2023-08-21T00:03:13.920274Z",
     "iopub.status.busy": "2023-08-21T00:03:13.919992Z",
     "iopub.status.idle": "2023-08-21T00:03:14.207928Z",
     "shell.execute_reply": "2023-08-21T00:03:14.206898Z"
    },
    "papermill": {
     "duration": 0.301624,
     "end_time": "2023-08-21T00:03:14.210403",
     "exception": false,
     "start_time": "2023-08-21T00:03:13.908779",
     "status": "completed"
    },
    "tags": []
   },
   "outputs": [],
   "source": [
    "# model predictions: \n",
    "with torch.no_grad():\n",
    "    outputs = model(**inputs)\n",
    "    predictions = outputs.logits"
   ]
  },
  {
   "cell_type": "code",
   "execution_count": 17,
   "id": "43bcbf30",
   "metadata": {
    "execution": {
     "iopub.execute_input": "2023-08-21T00:03:14.233372Z",
     "iopub.status.busy": "2023-08-21T00:03:14.233075Z",
     "iopub.status.idle": "2023-08-21T00:03:14.239845Z",
     "shell.execute_reply": "2023-08-21T00:03:14.238844Z"
    },
    "papermill": {
     "duration": 0.020731,
     "end_time": "2023-08-21T00:03:14.242004",
     "exception": false,
     "start_time": "2023-08-21T00:03:14.221273",
     "status": "completed"
    },
    "tags": []
   },
   "outputs": [
    {
     "data": {
      "text/plain": [
       "torch.Size([1, 33, 50265])"
      ]
     },
     "execution_count": 17,
     "metadata": {},
     "output_type": "execute_result"
    }
   ],
   "source": [
    "# 1 sentence, 11 tokens, scores for each of 50,265 tokens in vocab\n",
    "predictions.shape"
   ]
  },
  {
   "cell_type": "code",
   "execution_count": 18,
   "id": "f9a344c1",
   "metadata": {
    "execution": {
     "iopub.execute_input": "2023-08-21T00:03:14.264635Z",
     "iopub.status.busy": "2023-08-21T00:03:14.263804Z",
     "iopub.status.idle": "2023-08-21T00:03:14.273573Z",
     "shell.execute_reply": "2023-08-21T00:03:14.272556Z"
    },
    "papermill": {
     "duration": 0.023252,
     "end_time": "2023-08-21T00:03:14.275565",
     "exception": false,
     "start_time": "2023-08-21T00:03:14.252313",
     "status": "completed"
    },
    "tags": []
   },
   "outputs": [
    {
     "data": {
      "text/plain": [
       "torch.Size([1, 33])"
      ]
     },
     "execution_count": 18,
     "metadata": {},
     "output_type": "execute_result"
    }
   ],
   "source": [
    "predicted_ids = torch.argmax(predictions, dim=2)\n",
    "predicted_ids.shape"
   ]
  },
  {
   "cell_type": "code",
   "execution_count": 19,
   "id": "c5896adc",
   "metadata": {
    "execution": {
     "iopub.execute_input": "2023-08-21T00:03:14.298578Z",
     "iopub.status.busy": "2023-08-21T00:03:14.297751Z",
     "iopub.status.idle": "2023-08-21T00:03:14.304560Z",
     "shell.execute_reply": "2023-08-21T00:03:14.303573Z"
    },
    "papermill": {
     "duration": 0.020316,
     "end_time": "2023-08-21T00:03:14.306552",
     "exception": false,
     "start_time": "2023-08-21T00:03:14.286236",
     "status": "completed"
    },
    "tags": []
   },
   "outputs": [
    {
     "data": {
      "text/plain": [
       "['<s>Replaced the right wing, which is a movable part of an airplane wing. The word aileron starts with the letter A and ends with N</s>']"
      ]
     },
     "execution_count": 19,
     "metadata": {},
     "output_type": "execute_result"
    }
   ],
   "source": [
    "predicted_tokens = [tokenizer.decode(token_id) for token_id in predicted_ids]\n",
    "predicted_tokens"
   ]
  },
  {
   "cell_type": "markdown",
   "id": "0dfc9873",
   "metadata": {
    "papermill": {
     "duration": 0.010741,
     "end_time": "2023-08-21T00:03:14.328116",
     "exception": false,
     "start_time": "2023-08-21T00:03:14.317375",
     "status": "completed"
    },
    "tags": []
   },
   "source": [
    "# Approach 2"
   ]
  },
  {
   "cell_type": "code",
   "execution_count": 20,
   "id": "7251bd6d",
   "metadata": {
    "execution": {
     "iopub.execute_input": "2023-08-21T00:03:14.350984Z",
     "iopub.status.busy": "2023-08-21T00:03:14.350127Z",
     "iopub.status.idle": "2023-08-21T00:03:14.356675Z",
     "shell.execute_reply": "2023-08-21T00:03:14.355650Z"
    },
    "papermill": {
     "duration": 0.020062,
     "end_time": "2023-08-21T00:03:14.358803",
     "exception": false,
     "start_time": "2023-08-21T00:03:14.338741",
     "status": "completed"
    },
    "tags": []
   },
   "outputs": [
    {
     "data": {
      "text/plain": [
       "['ail', 'er', 'on']"
      ]
     },
     "execution_count": 20,
     "metadata": {},
     "output_type": "execute_result"
    }
   ],
   "source": [
    "word_tokens = tokenizer.tokenize(word)\n",
    "word_tokens"
   ]
  },
  {
   "cell_type": "code",
   "execution_count": 21,
   "id": "bdf312b8",
   "metadata": {
    "execution": {
     "iopub.execute_input": "2023-08-21T00:03:14.381822Z",
     "iopub.status.busy": "2023-08-21T00:03:14.380957Z",
     "iopub.status.idle": "2023-08-21T00:03:14.387343Z",
     "shell.execute_reply": "2023-08-21T00:03:14.386344Z"
    },
    "papermill": {
     "duration": 0.019927,
     "end_time": "2023-08-21T00:03:14.389276",
     "exception": false,
     "start_time": "2023-08-21T00:03:14.369349",
     "status": "completed"
    },
    "tags": []
   },
   "outputs": [
    {
     "data": {
      "text/plain": [
       "3"
      ]
     },
     "execution_count": 21,
     "metadata": {},
     "output_type": "execute_result"
    }
   ],
   "source": [
    "num_tokens = len(word_tokens)\n",
    "num_tokens"
   ]
  },
  {
   "cell_type": "code",
   "execution_count": 22,
   "id": "cad14c35",
   "metadata": {
    "execution": {
     "iopub.execute_input": "2023-08-21T00:03:14.412435Z",
     "iopub.status.busy": "2023-08-21T00:03:14.411649Z",
     "iopub.status.idle": "2023-08-21T00:03:14.418190Z",
     "shell.execute_reply": "2023-08-21T00:03:14.417234Z"
    },
    "papermill": {
     "duration": 0.02006,
     "end_time": "2023-08-21T00:03:14.420154",
     "exception": false,
     "start_time": "2023-08-21T00:03:14.400094",
     "status": "completed"
    },
    "tags": []
   },
   "outputs": [
    {
     "data": {
      "text/plain": [
       "'Replaced the right <mask> <mask> <mask>, which is a movable part of an airplane wing. The word aileron starts with the letter A and ends with N'"
      ]
     },
     "execution_count": 22,
     "metadata": {},
     "output_type": "execute_result"
    }
   ],
   "source": [
    "masked_sentence_02 = text.replace(word, \" \".join([\"<mask>\"] * num_tokens), 1)\n",
    "masked_sentence_02"
   ]
  },
  {
   "cell_type": "code",
   "execution_count": 23,
   "id": "4c912f77",
   "metadata": {
    "execution": {
     "iopub.execute_input": "2023-08-21T00:03:14.443745Z",
     "iopub.status.busy": "2023-08-21T00:03:14.442935Z",
     "iopub.status.idle": "2023-08-21T00:03:14.448248Z",
     "shell.execute_reply": "2023-08-21T00:03:14.447416Z"
    },
    "papermill": {
     "duration": 0.019197,
     "end_time": "2023-08-21T00:03:14.450156",
     "exception": false,
     "start_time": "2023-08-21T00:03:14.430959",
     "status": "completed"
    },
    "tags": []
   },
   "outputs": [],
   "source": [
    "inputs_02 = tokenizer(masked_sentence_02, return_tensors='pt')"
   ]
  },
  {
   "cell_type": "code",
   "execution_count": 24,
   "id": "466aa3e4",
   "metadata": {
    "execution": {
     "iopub.execute_input": "2023-08-21T00:03:14.473174Z",
     "iopub.status.busy": "2023-08-21T00:03:14.472851Z",
     "iopub.status.idle": "2023-08-21T00:03:14.481584Z",
     "shell.execute_reply": "2023-08-21T00:03:14.480750Z"
    },
    "papermill": {
     "duration": 0.022414,
     "end_time": "2023-08-21T00:03:14.483592",
     "exception": false,
     "start_time": "2023-08-21T00:03:14.461178",
     "status": "completed"
    },
    "tags": []
   },
   "outputs": [
    {
     "data": {
      "text/plain": [
       "['<s>',\n",
       " 'Re',\n",
       " 'placed',\n",
       " 'Ġthe',\n",
       " 'Ġright',\n",
       " '<mask>',\n",
       " '<mask>',\n",
       " '<mask>',\n",
       " ',',\n",
       " 'Ġwhich',\n",
       " 'Ġis',\n",
       " 'Ġa',\n",
       " 'Ġmov',\n",
       " 'able',\n",
       " 'Ġpart',\n",
       " 'Ġof',\n",
       " 'Ġan',\n",
       " 'Ġairplane',\n",
       " 'Ġwing',\n",
       " '.',\n",
       " 'ĠThe',\n",
       " 'Ġword',\n",
       " 'Ġa',\n",
       " 'iler',\n",
       " 'on',\n",
       " 'Ġstarts',\n",
       " 'Ġwith',\n",
       " 'Ġthe',\n",
       " 'Ġletter',\n",
       " 'ĠA',\n",
       " 'Ġand',\n",
       " 'Ġends',\n",
       " 'Ġwith',\n",
       " 'ĠN',\n",
       " '</s>']"
      ]
     },
     "execution_count": 24,
     "metadata": {},
     "output_type": "execute_result"
    }
   ],
   "source": [
    "tokenizer.convert_ids_to_tokens(inputs_02['input_ids'][0])"
   ]
  },
  {
   "cell_type": "code",
   "execution_count": 25,
   "id": "3738499a",
   "metadata": {
    "execution": {
     "iopub.execute_input": "2023-08-21T00:03:14.506929Z",
     "iopub.status.busy": "2023-08-21T00:03:14.506602Z",
     "iopub.status.idle": "2023-08-21T00:03:14.511995Z",
     "shell.execute_reply": "2023-08-21T00:03:14.511137Z"
    },
    "papermill": {
     "duration": 0.019028,
     "end_time": "2023-08-21T00:03:14.513872",
     "exception": false,
     "start_time": "2023-08-21T00:03:14.494844",
     "status": "completed"
    },
    "tags": []
   },
   "outputs": [
    {
     "data": {
      "text/plain": [
       "35"
      ]
     },
     "execution_count": 25,
     "metadata": {},
     "output_type": "execute_result"
    }
   ],
   "source": [
    "num_tokens = len(inputs_02['input_ids'][0])\n",
    "num_tokens"
   ]
  },
  {
   "cell_type": "code",
   "execution_count": 26,
   "id": "e315630b",
   "metadata": {
    "execution": {
     "iopub.execute_input": "2023-08-21T00:03:14.537042Z",
     "iopub.status.busy": "2023-08-21T00:03:14.536789Z",
     "iopub.status.idle": "2023-08-21T00:03:14.732617Z",
     "shell.execute_reply": "2023-08-21T00:03:14.731600Z"
    },
    "papermill": {
     "duration": 0.210096,
     "end_time": "2023-08-21T00:03:14.734978",
     "exception": false,
     "start_time": "2023-08-21T00:03:14.524882",
     "status": "completed"
    },
    "tags": []
   },
   "outputs": [
    {
     "data": {
      "text/plain": [
       "torch.Size([1, 35, 50265])"
      ]
     },
     "execution_count": 26,
     "metadata": {},
     "output_type": "execute_result"
    }
   ],
   "source": [
    "# predictions \n",
    "with torch.no_grad(): \n",
    "    outputs = model(**inputs_02)\n",
    "    predictions = outputs.logits \n",
    "    \n",
    "# 1 sentence, 15 tokens, scores for each of 50,265 tokens in vocab\n",
    "predictions.shape"
   ]
  },
  {
   "cell_type": "code",
   "execution_count": 27,
   "id": "39b5ae28",
   "metadata": {
    "execution": {
     "iopub.execute_input": "2023-08-21T00:03:14.759718Z",
     "iopub.status.busy": "2023-08-21T00:03:14.759409Z",
     "iopub.status.idle": "2023-08-21T00:03:14.770416Z",
     "shell.execute_reply": "2023-08-21T00:03:14.769558Z"
    },
    "papermill": {
     "duration": 0.02547,
     "end_time": "2023-08-21T00:03:14.772317",
     "exception": false,
     "start_time": "2023-08-21T00:03:14.746847",
     "status": "completed"
    },
    "tags": []
   },
   "outputs": [
    {
     "data": {
      "text/plain": [
       "torch.Size([1, 35])"
      ]
     },
     "execution_count": 27,
     "metadata": {},
     "output_type": "execute_result"
    }
   ],
   "source": [
    "predicted_ids = torch.argmax(predictions, dim=2)\n",
    "predicted_ids.shape"
   ]
  },
  {
   "cell_type": "code",
   "execution_count": 28,
   "id": "5a5d15c6",
   "metadata": {
    "execution": {
     "iopub.execute_input": "2023-08-21T00:03:14.798650Z",
     "iopub.status.busy": "2023-08-21T00:03:14.798379Z",
     "iopub.status.idle": "2023-08-21T00:03:14.804990Z",
     "shell.execute_reply": "2023-08-21T00:03:14.804002Z"
    },
    "papermill": {
     "duration": 0.0232,
     "end_time": "2023-08-21T00:03:14.807077",
     "exception": false,
     "start_time": "2023-08-21T00:03:14.783877",
     "status": "completed"
    },
    "tags": []
   },
   "outputs": [
    {
     "data": {
      "text/plain": [
       "['<s>Replaced the right aileron, which is a movable part of an airplane wing. The word aileron starts with the letter A and ends with N</s>']"
      ]
     },
     "execution_count": 28,
     "metadata": {},
     "output_type": "execute_result"
    }
   ],
   "source": [
    "predicted_tokens = [tokenizer.decode(token_id) for token_id in predicted_ids]\n",
    "predicted_tokens"
   ]
  },
  {
   "cell_type": "code",
   "execution_count": null,
   "id": "ee73b14d",
   "metadata": {
    "papermill": {
     "duration": 0.011429,
     "end_time": "2023-08-21T00:03:14.830384",
     "exception": false,
     "start_time": "2023-08-21T00:03:14.818955",
     "status": "completed"
    },
    "tags": []
   },
   "outputs": [],
   "source": []
  },
  {
   "cell_type": "code",
   "execution_count": null,
   "id": "04a37468",
   "metadata": {
    "papermill": {
     "duration": 0.011237,
     "end_time": "2023-08-21T00:03:14.854603",
     "exception": false,
     "start_time": "2023-08-21T00:03:14.843366",
     "status": "completed"
    },
    "tags": []
   },
   "outputs": [],
   "source": []
  }
 ],
 "metadata": {
  "kernelspec": {
   "display_name": "Python 3",
   "language": "python",
   "name": "python3"
  },
  "language_info": {
   "codemirror_mode": {
    "name": "ipython",
    "version": 3
   },
   "file_extension": ".py",
   "mimetype": "text/x-python",
   "name": "python",
   "nbconvert_exporter": "python",
   "pygments_lexer": "ipython3",
   "version": "3.10.12"
  },
  "papermill": {
   "default_parameters": {},
   "duration": 37.002363,
   "end_time": "2023-08-21T00:03:17.909597",
   "environment_variables": {},
   "exception": null,
   "input_path": "__notebook__.ipynb",
   "output_path": "__notebook__.ipynb",
   "parameters": {},
   "start_time": "2023-08-21T00:02:40.907234",
   "version": "2.4.0"
  },
  "widgets": {
   "application/vnd.jupyter.widget-state+json": {
    "state": {
     "08338a401e5f45399d9b47b3ced30297": {
      "model_module": "@jupyter-widgets/base",
      "model_module_version": "1.2.0",
      "model_name": "LayoutModel",
      "state": {
       "_model_module": "@jupyter-widgets/base",
       "_model_module_version": "1.2.0",
       "_model_name": "LayoutModel",
       "_view_count": null,
       "_view_module": "@jupyter-widgets/base",
       "_view_module_version": "1.2.0",
       "_view_name": "LayoutView",
       "align_content": null,
       "align_items": null,
       "align_self": null,
       "border": null,
       "bottom": null,
       "display": null,
       "flex": null,
       "flex_flow": null,
       "grid_area": null,
       "grid_auto_columns": null,
       "grid_auto_flow": null,
       "grid_auto_rows": null,
       "grid_column": null,
       "grid_gap": null,
       "grid_row": null,
       "grid_template_areas": null,
       "grid_template_columns": null,
       "grid_template_rows": null,
       "height": null,
       "justify_content": null,
       "justify_items": null,
       "left": null,
       "margin": null,
       "max_height": null,
       "max_width": null,
       "min_height": null,
       "min_width": null,
       "object_fit": null,
       "object_position": null,
       "order": null,
       "overflow": null,
       "overflow_x": null,
       "overflow_y": null,
       "padding": null,
       "right": null,
       "top": null,
       "visibility": null,
       "width": null
      }
     },
     "08a3e65e5b7542618a0c8063e3913cce": {
      "model_module": "@jupyter-widgets/base",
      "model_module_version": "1.2.0",
      "model_name": "LayoutModel",
      "state": {
       "_model_module": "@jupyter-widgets/base",
       "_model_module_version": "1.2.0",
       "_model_name": "LayoutModel",
       "_view_count": null,
       "_view_module": "@jupyter-widgets/base",
       "_view_module_version": "1.2.0",
       "_view_name": "LayoutView",
       "align_content": null,
       "align_items": null,
       "align_self": null,
       "border": null,
       "bottom": null,
       "display": null,
       "flex": null,
       "flex_flow": null,
       "grid_area": null,
       "grid_auto_columns": null,
       "grid_auto_flow": null,
       "grid_auto_rows": null,
       "grid_column": null,
       "grid_gap": null,
       "grid_row": null,
       "grid_template_areas": null,
       "grid_template_columns": null,
       "grid_template_rows": null,
       "height": null,
       "justify_content": null,
       "justify_items": null,
       "left": null,
       "margin": null,
       "max_height": null,
       "max_width": null,
       "min_height": null,
       "min_width": null,
       "object_fit": null,
       "object_position": null,
       "order": null,
       "overflow": null,
       "overflow_x": null,
       "overflow_y": null,
       "padding": null,
       "right": null,
       "top": null,
       "visibility": null,
       "width": null
      }
     },
     "0e95c34910c148d8aac44497e9026a12": {
      "model_module": "@jupyter-widgets/base",
      "model_module_version": "1.2.0",
      "model_name": "LayoutModel",
      "state": {
       "_model_module": "@jupyter-widgets/base",
       "_model_module_version": "1.2.0",
       "_model_name": "LayoutModel",
       "_view_count": null,
       "_view_module": "@jupyter-widgets/base",
       "_view_module_version": "1.2.0",
       "_view_name": "LayoutView",
       "align_content": null,
       "align_items": null,
       "align_self": null,
       "border": null,
       "bottom": null,
       "display": null,
       "flex": null,
       "flex_flow": null,
       "grid_area": null,
       "grid_auto_columns": null,
       "grid_auto_flow": null,
       "grid_auto_rows": null,
       "grid_column": null,
       "grid_gap": null,
       "grid_row": null,
       "grid_template_areas": null,
       "grid_template_columns": null,
       "grid_template_rows": null,
       "height": null,
       "justify_content": null,
       "justify_items": null,
       "left": null,
       "margin": null,
       "max_height": null,
       "max_width": null,
       "min_height": null,
       "min_width": null,
       "object_fit": null,
       "object_position": null,
       "order": null,
       "overflow": null,
       "overflow_x": null,
       "overflow_y": null,
       "padding": null,
       "right": null,
       "top": null,
       "visibility": null,
       "width": null
      }
     },
     "100cac1fbade4dc3864edc7cd4256a5e": {
      "model_module": "@jupyter-widgets/controls",
      "model_module_version": "1.5.0",
      "model_name": "HTMLModel",
      "state": {
       "_dom_classes": [],
       "_model_module": "@jupyter-widgets/controls",
       "_model_module_version": "1.5.0",
       "_model_name": "HTMLModel",
       "_view_count": null,
       "_view_module": "@jupyter-widgets/controls",
       "_view_module_version": "1.5.0",
       "_view_name": "HTMLView",
       "description": "",
       "description_tooltip": null,
       "layout": "IPY_MODEL_e0803475f31b4742af1c92d31b77f47d",
       "placeholder": "​",
       "style": "IPY_MODEL_be2d9efb12874daca9d18f956f5e4475",
       "value": " 899k/899k [00:00&lt;00:00, 5.24MB/s]"
      }
     },
     "1b1687ee5ce34713a80fb35f9a90df62": {
      "model_module": "@jupyter-widgets/base",
      "model_module_version": "1.2.0",
      "model_name": "LayoutModel",
      "state": {
       "_model_module": "@jupyter-widgets/base",
       "_model_module_version": "1.2.0",
       "_model_name": "LayoutModel",
       "_view_count": null,
       "_view_module": "@jupyter-widgets/base",
       "_view_module_version": "1.2.0",
       "_view_name": "LayoutView",
       "align_content": null,
       "align_items": null,
       "align_self": null,
       "border": null,
       "bottom": null,
       "display": null,
       "flex": null,
       "flex_flow": null,
       "grid_area": null,
       "grid_auto_columns": null,
       "grid_auto_flow": null,
       "grid_auto_rows": null,
       "grid_column": null,
       "grid_gap": null,
       "grid_row": null,
       "grid_template_areas": null,
       "grid_template_columns": null,
       "grid_template_rows": null,
       "height": null,
       "justify_content": null,
       "justify_items": null,
       "left": null,
       "margin": null,
       "max_height": null,
       "max_width": null,
       "min_height": null,
       "min_width": null,
       "object_fit": null,
       "object_position": null,
       "order": null,
       "overflow": null,
       "overflow_x": null,
       "overflow_y": null,
       "padding": null,
       "right": null,
       "top": null,
       "visibility": null,
       "width": null
      }
     },
     "2397f64c375047018a922fa32a69a07c": {
      "model_module": "@jupyter-widgets/controls",
      "model_module_version": "1.5.0",
      "model_name": "HTMLModel",
      "state": {
       "_dom_classes": [],
       "_model_module": "@jupyter-widgets/controls",
       "_model_module_version": "1.5.0",
       "_model_name": "HTMLModel",
       "_view_count": null,
       "_view_module": "@jupyter-widgets/controls",
       "_view_module_version": "1.5.0",
       "_view_name": "HTMLView",
       "description": "",
       "description_tooltip": null,
       "layout": "IPY_MODEL_68e42733851f4cd2a932e41c540c08e1",
       "placeholder": "​",
       "style": "IPY_MODEL_4eec69b04f17470fa691d535f0b5d0f0",
       "value": " 456k/456k [00:00&lt;00:00, 3.48MB/s]"
      }
     },
     "25391c21d82f48e39c70e8bd3231c7c5": {
      "model_module": "@jupyter-widgets/base",
      "model_module_version": "1.2.0",
      "model_name": "LayoutModel",
      "state": {
       "_model_module": "@jupyter-widgets/base",
       "_model_module_version": "1.2.0",
       "_model_name": "LayoutModel",
       "_view_count": null,
       "_view_module": "@jupyter-widgets/base",
       "_view_module_version": "1.2.0",
       "_view_name": "LayoutView",
       "align_content": null,
       "align_items": null,
       "align_self": null,
       "border": null,
       "bottom": null,
       "display": null,
       "flex": null,
       "flex_flow": null,
       "grid_area": null,
       "grid_auto_columns": null,
       "grid_auto_flow": null,
       "grid_auto_rows": null,
       "grid_column": null,
       "grid_gap": null,
       "grid_row": null,
       "grid_template_areas": null,
       "grid_template_columns": null,
       "grid_template_rows": null,
       "height": null,
       "justify_content": null,
       "justify_items": null,
       "left": null,
       "margin": null,
       "max_height": null,
       "max_width": null,
       "min_height": null,
       "min_width": null,
       "object_fit": null,
       "object_position": null,
       "order": null,
       "overflow": null,
       "overflow_x": null,
       "overflow_y": null,
       "padding": null,
       "right": null,
       "top": null,
       "visibility": null,
       "width": null
      }
     },
     "2ff9bb00614a4ec8b99e8b7ca9defad7": {
      "model_module": "@jupyter-widgets/controls",
      "model_module_version": "1.5.0",
      "model_name": "HBoxModel",
      "state": {
       "_dom_classes": [],
       "_model_module": "@jupyter-widgets/controls",
       "_model_module_version": "1.5.0",
       "_model_name": "HBoxModel",
       "_view_count": null,
       "_view_module": "@jupyter-widgets/controls",
       "_view_module_version": "1.5.0",
       "_view_name": "HBoxView",
       "box_style": "",
       "children": [
        "IPY_MODEL_4155b4d9d2c641fabbe660cdf2779050",
        "IPY_MODEL_3caee527709143ffbf0730ec8d9adb83",
        "IPY_MODEL_2397f64c375047018a922fa32a69a07c"
       ],
       "layout": "IPY_MODEL_bc7f59a1cc1045ef95dd423d7559adcd"
      }
     },
     "3caee527709143ffbf0730ec8d9adb83": {
      "model_module": "@jupyter-widgets/controls",
      "model_module_version": "1.5.0",
      "model_name": "FloatProgressModel",
      "state": {
       "_dom_classes": [],
       "_model_module": "@jupyter-widgets/controls",
       "_model_module_version": "1.5.0",
       "_model_name": "FloatProgressModel",
       "_view_count": null,
       "_view_module": "@jupyter-widgets/controls",
       "_view_module_version": "1.5.0",
       "_view_name": "ProgressView",
       "bar_style": "success",
       "description": "",
       "description_tooltip": null,
       "layout": "IPY_MODEL_a771a8a854e94f1a9d2b0857e4920a28",
       "max": 456318.0,
       "min": 0.0,
       "orientation": "horizontal",
       "style": "IPY_MODEL_9267ee4c38684d3a821a37ad8a338c3c",
       "value": 456318.0
      }
     },
     "4155b4d9d2c641fabbe660cdf2779050": {
      "model_module": "@jupyter-widgets/controls",
      "model_module_version": "1.5.0",
      "model_name": "HTMLModel",
      "state": {
       "_dom_classes": [],
       "_model_module": "@jupyter-widgets/controls",
       "_model_module_version": "1.5.0",
       "_model_name": "HTMLModel",
       "_view_count": null,
       "_view_module": "@jupyter-widgets/controls",
       "_view_module_version": "1.5.0",
       "_view_name": "HTMLView",
       "description": "",
       "description_tooltip": null,
       "layout": "IPY_MODEL_e5dd3fa50f5642589ea60db5e6ec1250",
       "placeholder": "​",
       "style": "IPY_MODEL_c44e714ae5d5434183a160b960c82a01",
       "value": "Downloading (…)olve/main/merges.txt: 100%"
      }
     },
     "4d362d71881e4d2f8e14214735c5766b": {
      "model_module": "@jupyter-widgets/base",
      "model_module_version": "1.2.0",
      "model_name": "LayoutModel",
      "state": {
       "_model_module": "@jupyter-widgets/base",
       "_model_module_version": "1.2.0",
       "_model_name": "LayoutModel",
       "_view_count": null,
       "_view_module": "@jupyter-widgets/base",
       "_view_module_version": "1.2.0",
       "_view_name": "LayoutView",
       "align_content": null,
       "align_items": null,
       "align_self": null,
       "border": null,
       "bottom": null,
       "display": null,
       "flex": null,
       "flex_flow": null,
       "grid_area": null,
       "grid_auto_columns": null,
       "grid_auto_flow": null,
       "grid_auto_rows": null,
       "grid_column": null,
       "grid_gap": null,
       "grid_row": null,
       "grid_template_areas": null,
       "grid_template_columns": null,
       "grid_template_rows": null,
       "height": null,
       "justify_content": null,
       "justify_items": null,
       "left": null,
       "margin": null,
       "max_height": null,
       "max_width": null,
       "min_height": null,
       "min_width": null,
       "object_fit": null,
       "object_position": null,
       "order": null,
       "overflow": null,
       "overflow_x": null,
       "overflow_y": null,
       "padding": null,
       "right": null,
       "top": null,
       "visibility": null,
       "width": null
      }
     },
     "4eec69b04f17470fa691d535f0b5d0f0": {
      "model_module": "@jupyter-widgets/controls",
      "model_module_version": "1.5.0",
      "model_name": "DescriptionStyleModel",
      "state": {
       "_model_module": "@jupyter-widgets/controls",
       "_model_module_version": "1.5.0",
       "_model_name": "DescriptionStyleModel",
       "_view_count": null,
       "_view_module": "@jupyter-widgets/base",
       "_view_module_version": "1.2.0",
       "_view_name": "StyleView",
       "description_width": ""
      }
     },
     "4fa113483cb840c2a03647b0ce51e6e9": {
      "model_module": "@jupyter-widgets/controls",
      "model_module_version": "1.5.0",
      "model_name": "FloatProgressModel",
      "state": {
       "_dom_classes": [],
       "_model_module": "@jupyter-widgets/controls",
       "_model_module_version": "1.5.0",
       "_model_name": "FloatProgressModel",
       "_view_count": null,
       "_view_module": "@jupyter-widgets/controls",
       "_view_module_version": "1.5.0",
       "_view_name": "ProgressView",
       "bar_style": "success",
       "description": "",
       "description_tooltip": null,
       "layout": "IPY_MODEL_b7363c7ba21e4c5ca1de09a64bd05b99",
       "max": 898823.0,
       "min": 0.0,
       "orientation": "horizontal",
       "style": "IPY_MODEL_87759a41bc694a0596c08cf88a035ebc",
       "value": 898823.0
      }
     },
     "5d892a899d7543eda903e5bf8d5db1a5": {
      "model_module": "@jupyter-widgets/base",
      "model_module_version": "1.2.0",
      "model_name": "LayoutModel",
      "state": {
       "_model_module": "@jupyter-widgets/base",
       "_model_module_version": "1.2.0",
       "_model_name": "LayoutModel",
       "_view_count": null,
       "_view_module": "@jupyter-widgets/base",
       "_view_module_version": "1.2.0",
       "_view_name": "LayoutView",
       "align_content": null,
       "align_items": null,
       "align_self": null,
       "border": null,
       "bottom": null,
       "display": null,
       "flex": null,
       "flex_flow": null,
       "grid_area": null,
       "grid_auto_columns": null,
       "grid_auto_flow": null,
       "grid_auto_rows": null,
       "grid_column": null,
       "grid_gap": null,
       "grid_row": null,
       "grid_template_areas": null,
       "grid_template_columns": null,
       "grid_template_rows": null,
       "height": null,
       "justify_content": null,
       "justify_items": null,
       "left": null,
       "margin": null,
       "max_height": null,
       "max_width": null,
       "min_height": null,
       "min_width": null,
       "object_fit": null,
       "object_position": null,
       "order": null,
       "overflow": null,
       "overflow_x": null,
       "overflow_y": null,
       "padding": null,
       "right": null,
       "top": null,
       "visibility": null,
       "width": null
      }
     },
     "60c1665969964e43ad7e6b4641ef3df9": {
      "model_module": "@jupyter-widgets/base",
      "model_module_version": "1.2.0",
      "model_name": "LayoutModel",
      "state": {
       "_model_module": "@jupyter-widgets/base",
       "_model_module_version": "1.2.0",
       "_model_name": "LayoutModel",
       "_view_count": null,
       "_view_module": "@jupyter-widgets/base",
       "_view_module_version": "1.2.0",
       "_view_name": "LayoutView",
       "align_content": null,
       "align_items": null,
       "align_self": null,
       "border": null,
       "bottom": null,
       "display": null,
       "flex": null,
       "flex_flow": null,
       "grid_area": null,
       "grid_auto_columns": null,
       "grid_auto_flow": null,
       "grid_auto_rows": null,
       "grid_column": null,
       "grid_gap": null,
       "grid_row": null,
       "grid_template_areas": null,
       "grid_template_columns": null,
       "grid_template_rows": null,
       "height": null,
       "justify_content": null,
       "justify_items": null,
       "left": null,
       "margin": null,
       "max_height": null,
       "max_width": null,
       "min_height": null,
       "min_width": null,
       "object_fit": null,
       "object_position": null,
       "order": null,
       "overflow": null,
       "overflow_x": null,
       "overflow_y": null,
       "padding": null,
       "right": null,
       "top": null,
       "visibility": null,
       "width": null
      }
     },
     "68e42733851f4cd2a932e41c540c08e1": {
      "model_module": "@jupyter-widgets/base",
      "model_module_version": "1.2.0",
      "model_name": "LayoutModel",
      "state": {
       "_model_module": "@jupyter-widgets/base",
       "_model_module_version": "1.2.0",
       "_model_name": "LayoutModel",
       "_view_count": null,
       "_view_module": "@jupyter-widgets/base",
       "_view_module_version": "1.2.0",
       "_view_name": "LayoutView",
       "align_content": null,
       "align_items": null,
       "align_self": null,
       "border": null,
       "bottom": null,
       "display": null,
       "flex": null,
       "flex_flow": null,
       "grid_area": null,
       "grid_auto_columns": null,
       "grid_auto_flow": null,
       "grid_auto_rows": null,
       "grid_column": null,
       "grid_gap": null,
       "grid_row": null,
       "grid_template_areas": null,
       "grid_template_columns": null,
       "grid_template_rows": null,
       "height": null,
       "justify_content": null,
       "justify_items": null,
       "left": null,
       "margin": null,
       "max_height": null,
       "max_width": null,
       "min_height": null,
       "min_width": null,
       "object_fit": null,
       "object_position": null,
       "order": null,
       "overflow": null,
       "overflow_x": null,
       "overflow_y": null,
       "padding": null,
       "right": null,
       "top": null,
       "visibility": null,
       "width": null
      }
     },
     "732b6f24587e401b8f786c0e0d4af5db": {
      "model_module": "@jupyter-widgets/controls",
      "model_module_version": "1.5.0",
      "model_name": "DescriptionStyleModel",
      "state": {
       "_model_module": "@jupyter-widgets/controls",
       "_model_module_version": "1.5.0",
       "_model_name": "DescriptionStyleModel",
       "_view_count": null,
       "_view_module": "@jupyter-widgets/base",
       "_view_module_version": "1.2.0",
       "_view_name": "StyleView",
       "description_width": ""
      }
     },
     "7dc337e2a8024d31a4fabde30b3c8072": {
      "model_module": "@jupyter-widgets/controls",
      "model_module_version": "1.5.0",
      "model_name": "HTMLModel",
      "state": {
       "_dom_classes": [],
       "_model_module": "@jupyter-widgets/controls",
       "_model_module_version": "1.5.0",
       "_model_name": "HTMLModel",
       "_view_count": null,
       "_view_module": "@jupyter-widgets/controls",
       "_view_module_version": "1.5.0",
       "_view_name": "HTMLView",
       "description": "",
       "description_tooltip": null,
       "layout": "IPY_MODEL_0e95c34910c148d8aac44497e9026a12",
       "placeholder": "​",
       "style": "IPY_MODEL_c5699446a220445b8c1e07dfa480c454",
       "value": "Downloading model.safetensors: 100%"
      }
     },
     "8287c5efc06b4d29b768c1610d3a3d47": {
      "model_module": "@jupyter-widgets/controls",
      "model_module_version": "1.5.0",
      "model_name": "HTMLModel",
      "state": {
       "_dom_classes": [],
       "_model_module": "@jupyter-widgets/controls",
       "_model_module_version": "1.5.0",
       "_model_name": "HTMLModel",
       "_view_count": null,
       "_view_module": "@jupyter-widgets/controls",
       "_view_module_version": "1.5.0",
       "_view_name": "HTMLView",
       "description": "",
       "description_tooltip": null,
       "layout": "IPY_MODEL_08338a401e5f45399d9b47b3ced30297",
       "placeholder": "​",
       "style": "IPY_MODEL_8846c1dff756401db368023fde3264a8",
       "value": " 499M/499M [00:02&lt;00:00, 219MB/s]"
      }
     },
     "86f56fd96bef4454a9b3b1b987cf6755": {
      "model_module": "@jupyter-widgets/controls",
      "model_module_version": "1.5.0",
      "model_name": "HBoxModel",
      "state": {
       "_dom_classes": [],
       "_model_module": "@jupyter-widgets/controls",
       "_model_module_version": "1.5.0",
       "_model_name": "HBoxModel",
       "_view_count": null,
       "_view_module": "@jupyter-widgets/controls",
       "_view_module_version": "1.5.0",
       "_view_name": "HBoxView",
       "box_style": "",
       "children": [
        "IPY_MODEL_aecc40a191304fc79877f4aee4710f9a",
        "IPY_MODEL_4fa113483cb840c2a03647b0ce51e6e9",
        "IPY_MODEL_100cac1fbade4dc3864edc7cd4256a5e"
       ],
       "layout": "IPY_MODEL_08a3e65e5b7542618a0c8063e3913cce"
      }
     },
     "87759a41bc694a0596c08cf88a035ebc": {
      "model_module": "@jupyter-widgets/controls",
      "model_module_version": "1.5.0",
      "model_name": "ProgressStyleModel",
      "state": {
       "_model_module": "@jupyter-widgets/controls",
       "_model_module_version": "1.5.0",
       "_model_name": "ProgressStyleModel",
       "_view_count": null,
       "_view_module": "@jupyter-widgets/base",
       "_view_module_version": "1.2.0",
       "_view_name": "StyleView",
       "bar_color": null,
       "description_width": ""
      }
     },
     "8846c1dff756401db368023fde3264a8": {
      "model_module": "@jupyter-widgets/controls",
      "model_module_version": "1.5.0",
      "model_name": "DescriptionStyleModel",
      "state": {
       "_model_module": "@jupyter-widgets/controls",
       "_model_module_version": "1.5.0",
       "_model_name": "DescriptionStyleModel",
       "_view_count": null,
       "_view_module": "@jupyter-widgets/base",
       "_view_module_version": "1.2.0",
       "_view_name": "StyleView",
       "description_width": ""
      }
     },
     "8cdfb5db98804e79b0f042502ee04dda": {
      "model_module": "@jupyter-widgets/controls",
      "model_module_version": "1.5.0",
      "model_name": "DescriptionStyleModel",
      "state": {
       "_model_module": "@jupyter-widgets/controls",
       "_model_module_version": "1.5.0",
       "_model_name": "DescriptionStyleModel",
       "_view_count": null,
       "_view_module": "@jupyter-widgets/base",
       "_view_module_version": "1.2.0",
       "_view_name": "StyleView",
       "description_width": ""
      }
     },
     "9267ee4c38684d3a821a37ad8a338c3c": {
      "model_module": "@jupyter-widgets/controls",
      "model_module_version": "1.5.0",
      "model_name": "ProgressStyleModel",
      "state": {
       "_model_module": "@jupyter-widgets/controls",
       "_model_module_version": "1.5.0",
       "_model_name": "ProgressStyleModel",
       "_view_count": null,
       "_view_module": "@jupyter-widgets/base",
       "_view_module_version": "1.2.0",
       "_view_name": "StyleView",
       "bar_color": null,
       "description_width": ""
      }
     },
     "94990d18515547129236080dbc85d11e": {
      "model_module": "@jupyter-widgets/controls",
      "model_module_version": "1.5.0",
      "model_name": "FloatProgressModel",
      "state": {
       "_dom_classes": [],
       "_model_module": "@jupyter-widgets/controls",
       "_model_module_version": "1.5.0",
       "_model_name": "FloatProgressModel",
       "_view_count": null,
       "_view_module": "@jupyter-widgets/controls",
       "_view_module_version": "1.5.0",
       "_view_name": "ProgressView",
       "bar_style": "success",
       "description": "",
       "description_tooltip": null,
       "layout": "IPY_MODEL_25391c21d82f48e39c70e8bd3231c7c5",
       "max": 481.0,
       "min": 0.0,
       "orientation": "horizontal",
       "style": "IPY_MODEL_c913ed0e7ef4446e8b412422185e8b47",
       "value": 481.0
      }
     },
     "953bf3b622bf40cc9b9d88dbae4c4223": {
      "model_module": "@jupyter-widgets/controls",
      "model_module_version": "1.5.0",
      "model_name": "FloatProgressModel",
      "state": {
       "_dom_classes": [],
       "_model_module": "@jupyter-widgets/controls",
       "_model_module_version": "1.5.0",
       "_model_name": "FloatProgressModel",
       "_view_count": null,
       "_view_module": "@jupyter-widgets/controls",
       "_view_module_version": "1.5.0",
       "_view_name": "ProgressView",
       "bar_style": "success",
       "description": "",
       "description_tooltip": null,
       "layout": "IPY_MODEL_efc6370f977f4b95a26a36dd02249e58",
       "max": 498818054.0,
       "min": 0.0,
       "orientation": "horizontal",
       "style": "IPY_MODEL_9e8fd3eb77324f6db375d3b28fdf6760",
       "value": 498818054.0
      }
     },
     "9df8bdb90c6f403b960c637beac59a08": {
      "model_module": "@jupyter-widgets/controls",
      "model_module_version": "1.5.0",
      "model_name": "HTMLModel",
      "state": {
       "_dom_classes": [],
       "_model_module": "@jupyter-widgets/controls",
       "_model_module_version": "1.5.0",
       "_model_name": "HTMLModel",
       "_view_count": null,
       "_view_module": "@jupyter-widgets/controls",
       "_view_module_version": "1.5.0",
       "_view_name": "HTMLView",
       "description": "",
       "description_tooltip": null,
       "layout": "IPY_MODEL_5d892a899d7543eda903e5bf8d5db1a5",
       "placeholder": "​",
       "style": "IPY_MODEL_732b6f24587e401b8f786c0e0d4af5db",
       "value": "Downloading (…)lve/main/config.json: 100%"
      }
     },
     "9e8fd3eb77324f6db375d3b28fdf6760": {
      "model_module": "@jupyter-widgets/controls",
      "model_module_version": "1.5.0",
      "model_name": "ProgressStyleModel",
      "state": {
       "_model_module": "@jupyter-widgets/controls",
       "_model_module_version": "1.5.0",
       "_model_name": "ProgressStyleModel",
       "_view_count": null,
       "_view_module": "@jupyter-widgets/base",
       "_view_module_version": "1.2.0",
       "_view_name": "StyleView",
       "bar_color": null,
       "description_width": ""
      }
     },
     "a3ac178c4c7f4fd88aafbe349c969717": {
      "model_module": "@jupyter-widgets/base",
      "model_module_version": "1.2.0",
      "model_name": "LayoutModel",
      "state": {
       "_model_module": "@jupyter-widgets/base",
       "_model_module_version": "1.2.0",
       "_model_name": "LayoutModel",
       "_view_count": null,
       "_view_module": "@jupyter-widgets/base",
       "_view_module_version": "1.2.0",
       "_view_name": "LayoutView",
       "align_content": null,
       "align_items": null,
       "align_self": null,
       "border": null,
       "bottom": null,
       "display": null,
       "flex": null,
       "flex_flow": null,
       "grid_area": null,
       "grid_auto_columns": null,
       "grid_auto_flow": null,
       "grid_auto_rows": null,
       "grid_column": null,
       "grid_gap": null,
       "grid_row": null,
       "grid_template_areas": null,
       "grid_template_columns": null,
       "grid_template_rows": null,
       "height": null,
       "justify_content": null,
       "justify_items": null,
       "left": null,
       "margin": null,
       "max_height": null,
       "max_width": null,
       "min_height": null,
       "min_width": null,
       "object_fit": null,
       "object_position": null,
       "order": null,
       "overflow": null,
       "overflow_x": null,
       "overflow_y": null,
       "padding": null,
       "right": null,
       "top": null,
       "visibility": null,
       "width": null
      }
     },
     "a771a8a854e94f1a9d2b0857e4920a28": {
      "model_module": "@jupyter-widgets/base",
      "model_module_version": "1.2.0",
      "model_name": "LayoutModel",
      "state": {
       "_model_module": "@jupyter-widgets/base",
       "_model_module_version": "1.2.0",
       "_model_name": "LayoutModel",
       "_view_count": null,
       "_view_module": "@jupyter-widgets/base",
       "_view_module_version": "1.2.0",
       "_view_name": "LayoutView",
       "align_content": null,
       "align_items": null,
       "align_self": null,
       "border": null,
       "bottom": null,
       "display": null,
       "flex": null,
       "flex_flow": null,
       "grid_area": null,
       "grid_auto_columns": null,
       "grid_auto_flow": null,
       "grid_auto_rows": null,
       "grid_column": null,
       "grid_gap": null,
       "grid_row": null,
       "grid_template_areas": null,
       "grid_template_columns": null,
       "grid_template_rows": null,
       "height": null,
       "justify_content": null,
       "justify_items": null,
       "left": null,
       "margin": null,
       "max_height": null,
       "max_width": null,
       "min_height": null,
       "min_width": null,
       "object_fit": null,
       "object_position": null,
       "order": null,
       "overflow": null,
       "overflow_x": null,
       "overflow_y": null,
       "padding": null,
       "right": null,
       "top": null,
       "visibility": null,
       "width": null
      }
     },
     "abb98bcc15eb4152afa06c7dbf10a19e": {
      "model_module": "@jupyter-widgets/controls",
      "model_module_version": "1.5.0",
      "model_name": "HTMLModel",
      "state": {
       "_dom_classes": [],
       "_model_module": "@jupyter-widgets/controls",
       "_model_module_version": "1.5.0",
       "_model_name": "HTMLModel",
       "_view_count": null,
       "_view_module": "@jupyter-widgets/controls",
       "_view_module_version": "1.5.0",
       "_view_name": "HTMLView",
       "description": "",
       "description_tooltip": null,
       "layout": "IPY_MODEL_4d362d71881e4d2f8e14214735c5766b",
       "placeholder": "​",
       "style": "IPY_MODEL_8cdfb5db98804e79b0f042502ee04dda",
       "value": " 481/481 [00:00&lt;00:00, 34.5kB/s]"
      }
     },
     "aecc40a191304fc79877f4aee4710f9a": {
      "model_module": "@jupyter-widgets/controls",
      "model_module_version": "1.5.0",
      "model_name": "HTMLModel",
      "state": {
       "_dom_classes": [],
       "_model_module": "@jupyter-widgets/controls",
       "_model_module_version": "1.5.0",
       "_model_name": "HTMLModel",
       "_view_count": null,
       "_view_module": "@jupyter-widgets/controls",
       "_view_module_version": "1.5.0",
       "_view_name": "HTMLView",
       "description": "",
       "description_tooltip": null,
       "layout": "IPY_MODEL_1b1687ee5ce34713a80fb35f9a90df62",
       "placeholder": "​",
       "style": "IPY_MODEL_c15dd1c805a848249432a3dec273b993",
       "value": "Downloading (…)olve/main/vocab.json: 100%"
      }
     },
     "b7363c7ba21e4c5ca1de09a64bd05b99": {
      "model_module": "@jupyter-widgets/base",
      "model_module_version": "1.2.0",
      "model_name": "LayoutModel",
      "state": {
       "_model_module": "@jupyter-widgets/base",
       "_model_module_version": "1.2.0",
       "_model_name": "LayoutModel",
       "_view_count": null,
       "_view_module": "@jupyter-widgets/base",
       "_view_module_version": "1.2.0",
       "_view_name": "LayoutView",
       "align_content": null,
       "align_items": null,
       "align_self": null,
       "border": null,
       "bottom": null,
       "display": null,
       "flex": null,
       "flex_flow": null,
       "grid_area": null,
       "grid_auto_columns": null,
       "grid_auto_flow": null,
       "grid_auto_rows": null,
       "grid_column": null,
       "grid_gap": null,
       "grid_row": null,
       "grid_template_areas": null,
       "grid_template_columns": null,
       "grid_template_rows": null,
       "height": null,
       "justify_content": null,
       "justify_items": null,
       "left": null,
       "margin": null,
       "max_height": null,
       "max_width": null,
       "min_height": null,
       "min_width": null,
       "object_fit": null,
       "object_position": null,
       "order": null,
       "overflow": null,
       "overflow_x": null,
       "overflow_y": null,
       "padding": null,
       "right": null,
       "top": null,
       "visibility": null,
       "width": null
      }
     },
     "bc7f59a1cc1045ef95dd423d7559adcd": {
      "model_module": "@jupyter-widgets/base",
      "model_module_version": "1.2.0",
      "model_name": "LayoutModel",
      "state": {
       "_model_module": "@jupyter-widgets/base",
       "_model_module_version": "1.2.0",
       "_model_name": "LayoutModel",
       "_view_count": null,
       "_view_module": "@jupyter-widgets/base",
       "_view_module_version": "1.2.0",
       "_view_name": "LayoutView",
       "align_content": null,
       "align_items": null,
       "align_self": null,
       "border": null,
       "bottom": null,
       "display": null,
       "flex": null,
       "flex_flow": null,
       "grid_area": null,
       "grid_auto_columns": null,
       "grid_auto_flow": null,
       "grid_auto_rows": null,
       "grid_column": null,
       "grid_gap": null,
       "grid_row": null,
       "grid_template_areas": null,
       "grid_template_columns": null,
       "grid_template_rows": null,
       "height": null,
       "justify_content": null,
       "justify_items": null,
       "left": null,
       "margin": null,
       "max_height": null,
       "max_width": null,
       "min_height": null,
       "min_width": null,
       "object_fit": null,
       "object_position": null,
       "order": null,
       "overflow": null,
       "overflow_x": null,
       "overflow_y": null,
       "padding": null,
       "right": null,
       "top": null,
       "visibility": null,
       "width": null
      }
     },
     "be2d9efb12874daca9d18f956f5e4475": {
      "model_module": "@jupyter-widgets/controls",
      "model_module_version": "1.5.0",
      "model_name": "DescriptionStyleModel",
      "state": {
       "_model_module": "@jupyter-widgets/controls",
       "_model_module_version": "1.5.0",
       "_model_name": "DescriptionStyleModel",
       "_view_count": null,
       "_view_module": "@jupyter-widgets/base",
       "_view_module_version": "1.2.0",
       "_view_name": "StyleView",
       "description_width": ""
      }
     },
     "bf895c00821b45bab86bb65f77c6f66d": {
      "model_module": "@jupyter-widgets/controls",
      "model_module_version": "1.5.0",
      "model_name": "HBoxModel",
      "state": {
       "_dom_classes": [],
       "_model_module": "@jupyter-widgets/controls",
       "_model_module_version": "1.5.0",
       "_model_name": "HBoxModel",
       "_view_count": null,
       "_view_module": "@jupyter-widgets/controls",
       "_view_module_version": "1.5.0",
       "_view_name": "HBoxView",
       "box_style": "",
       "children": [
        "IPY_MODEL_9df8bdb90c6f403b960c637beac59a08",
        "IPY_MODEL_94990d18515547129236080dbc85d11e",
        "IPY_MODEL_abb98bcc15eb4152afa06c7dbf10a19e"
       ],
       "layout": "IPY_MODEL_a3ac178c4c7f4fd88aafbe349c969717"
      }
     },
     "c15dd1c805a848249432a3dec273b993": {
      "model_module": "@jupyter-widgets/controls",
      "model_module_version": "1.5.0",
      "model_name": "DescriptionStyleModel",
      "state": {
       "_model_module": "@jupyter-widgets/controls",
       "_model_module_version": "1.5.0",
       "_model_name": "DescriptionStyleModel",
       "_view_count": null,
       "_view_module": "@jupyter-widgets/base",
       "_view_module_version": "1.2.0",
       "_view_name": "StyleView",
       "description_width": ""
      }
     },
     "c44e714ae5d5434183a160b960c82a01": {
      "model_module": "@jupyter-widgets/controls",
      "model_module_version": "1.5.0",
      "model_name": "DescriptionStyleModel",
      "state": {
       "_model_module": "@jupyter-widgets/controls",
       "_model_module_version": "1.5.0",
       "_model_name": "DescriptionStyleModel",
       "_view_count": null,
       "_view_module": "@jupyter-widgets/base",
       "_view_module_version": "1.2.0",
       "_view_name": "StyleView",
       "description_width": ""
      }
     },
     "c5699446a220445b8c1e07dfa480c454": {
      "model_module": "@jupyter-widgets/controls",
      "model_module_version": "1.5.0",
      "model_name": "DescriptionStyleModel",
      "state": {
       "_model_module": "@jupyter-widgets/controls",
       "_model_module_version": "1.5.0",
       "_model_name": "DescriptionStyleModel",
       "_view_count": null,
       "_view_module": "@jupyter-widgets/base",
       "_view_module_version": "1.2.0",
       "_view_name": "StyleView",
       "description_width": ""
      }
     },
     "c913ed0e7ef4446e8b412422185e8b47": {
      "model_module": "@jupyter-widgets/controls",
      "model_module_version": "1.5.0",
      "model_name": "ProgressStyleModel",
      "state": {
       "_model_module": "@jupyter-widgets/controls",
       "_model_module_version": "1.5.0",
       "_model_name": "ProgressStyleModel",
       "_view_count": null,
       "_view_module": "@jupyter-widgets/base",
       "_view_module_version": "1.2.0",
       "_view_name": "StyleView",
       "bar_color": null,
       "description_width": ""
      }
     },
     "e0803475f31b4742af1c92d31b77f47d": {
      "model_module": "@jupyter-widgets/base",
      "model_module_version": "1.2.0",
      "model_name": "LayoutModel",
      "state": {
       "_model_module": "@jupyter-widgets/base",
       "_model_module_version": "1.2.0",
       "_model_name": "LayoutModel",
       "_view_count": null,
       "_view_module": "@jupyter-widgets/base",
       "_view_module_version": "1.2.0",
       "_view_name": "LayoutView",
       "align_content": null,
       "align_items": null,
       "align_self": null,
       "border": null,
       "bottom": null,
       "display": null,
       "flex": null,
       "flex_flow": null,
       "grid_area": null,
       "grid_auto_columns": null,
       "grid_auto_flow": null,
       "grid_auto_rows": null,
       "grid_column": null,
       "grid_gap": null,
       "grid_row": null,
       "grid_template_areas": null,
       "grid_template_columns": null,
       "grid_template_rows": null,
       "height": null,
       "justify_content": null,
       "justify_items": null,
       "left": null,
       "margin": null,
       "max_height": null,
       "max_width": null,
       "min_height": null,
       "min_width": null,
       "object_fit": null,
       "object_position": null,
       "order": null,
       "overflow": null,
       "overflow_x": null,
       "overflow_y": null,
       "padding": null,
       "right": null,
       "top": null,
       "visibility": null,
       "width": null
      }
     },
     "e5dd3fa50f5642589ea60db5e6ec1250": {
      "model_module": "@jupyter-widgets/base",
      "model_module_version": "1.2.0",
      "model_name": "LayoutModel",
      "state": {
       "_model_module": "@jupyter-widgets/base",
       "_model_module_version": "1.2.0",
       "_model_name": "LayoutModel",
       "_view_count": null,
       "_view_module": "@jupyter-widgets/base",
       "_view_module_version": "1.2.0",
       "_view_name": "LayoutView",
       "align_content": null,
       "align_items": null,
       "align_self": null,
       "border": null,
       "bottom": null,
       "display": null,
       "flex": null,
       "flex_flow": null,
       "grid_area": null,
       "grid_auto_columns": null,
       "grid_auto_flow": null,
       "grid_auto_rows": null,
       "grid_column": null,
       "grid_gap": null,
       "grid_row": null,
       "grid_template_areas": null,
       "grid_template_columns": null,
       "grid_template_rows": null,
       "height": null,
       "justify_content": null,
       "justify_items": null,
       "left": null,
       "margin": null,
       "max_height": null,
       "max_width": null,
       "min_height": null,
       "min_width": null,
       "object_fit": null,
       "object_position": null,
       "order": null,
       "overflow": null,
       "overflow_x": null,
       "overflow_y": null,
       "padding": null,
       "right": null,
       "top": null,
       "visibility": null,
       "width": null
      }
     },
     "efc6370f977f4b95a26a36dd02249e58": {
      "model_module": "@jupyter-widgets/base",
      "model_module_version": "1.2.0",
      "model_name": "LayoutModel",
      "state": {
       "_model_module": "@jupyter-widgets/base",
       "_model_module_version": "1.2.0",
       "_model_name": "LayoutModel",
       "_view_count": null,
       "_view_module": "@jupyter-widgets/base",
       "_view_module_version": "1.2.0",
       "_view_name": "LayoutView",
       "align_content": null,
       "align_items": null,
       "align_self": null,
       "border": null,
       "bottom": null,
       "display": null,
       "flex": null,
       "flex_flow": null,
       "grid_area": null,
       "grid_auto_columns": null,
       "grid_auto_flow": null,
       "grid_auto_rows": null,
       "grid_column": null,
       "grid_gap": null,
       "grid_row": null,
       "grid_template_areas": null,
       "grid_template_columns": null,
       "grid_template_rows": null,
       "height": null,
       "justify_content": null,
       "justify_items": null,
       "left": null,
       "margin": null,
       "max_height": null,
       "max_width": null,
       "min_height": null,
       "min_width": null,
       "object_fit": null,
       "object_position": null,
       "order": null,
       "overflow": null,
       "overflow_x": null,
       "overflow_y": null,
       "padding": null,
       "right": null,
       "top": null,
       "visibility": null,
       "width": null
      }
     },
     "f91515e360034b3f8787277fca487895": {
      "model_module": "@jupyter-widgets/controls",
      "model_module_version": "1.5.0",
      "model_name": "HBoxModel",
      "state": {
       "_dom_classes": [],
       "_model_module": "@jupyter-widgets/controls",
       "_model_module_version": "1.5.0",
       "_model_name": "HBoxModel",
       "_view_count": null,
       "_view_module": "@jupyter-widgets/controls",
       "_view_module_version": "1.5.0",
       "_view_name": "HBoxView",
       "box_style": "",
       "children": [
        "IPY_MODEL_7dc337e2a8024d31a4fabde30b3c8072",
        "IPY_MODEL_953bf3b622bf40cc9b9d88dbae4c4223",
        "IPY_MODEL_8287c5efc06b4d29b768c1610d3a3d47"
       ],
       "layout": "IPY_MODEL_60c1665969964e43ad7e6b4641ef3df9"
      }
     }
    },
    "version_major": 2,
    "version_minor": 0
   }
  }
 },
 "nbformat": 4,
 "nbformat_minor": 5
}
