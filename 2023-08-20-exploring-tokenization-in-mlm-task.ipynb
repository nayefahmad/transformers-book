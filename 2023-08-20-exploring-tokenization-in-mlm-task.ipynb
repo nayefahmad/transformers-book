{
 "cells": [
  {
   "cell_type": "markdown",
   "id": "5edc9ee8",
   "metadata": {
    "papermill": {
     "duration": 0.008995,
     "end_time": "2023-08-20T23:43:17.545650",
     "exception": false,
     "start_time": "2023-08-20T23:43:17.536655",
     "status": "completed"
    },
    "tags": []
   },
   "source": [
    "# Exploring tokenization in MLM\n",
    "\n",
    "## Conclusion\n",
    "For proper evaluation of a model's ability to recover a masked word, we should take into account the tokenization of the word, and pass the appropriate number of \"mask\" tokens to the model for prediction. \n",
    "\n",
    "E.g. Consider the word \"aileron\". `roberta-base` tokenizes this into three tokens: `'Ġa', 'iler', 'on'`. If we replace the word with a single \"mask\" token, the model will never be able to predict \"aileron\" because it simply doesn't have a token for that full word. However, if we recognize that \"aileron\" is tokenized into three tokens, and replace the word with \"mask mask mask\", then the model can recover the word. \n",
    "\n",
    "## Notes \n",
    "- Difference between `tokenizer(text)` and `tokenizer.tokenize(text)`. Former gives the input_ids and attention_mask, latter gives only the tokens. "
   ]
  },
  {
   "cell_type": "code",
   "execution_count": 1,
   "id": "53f5a1b1",
   "metadata": {
    "execution": {
     "iopub.execute_input": "2023-08-20T23:43:17.566649Z",
     "iopub.status.busy": "2023-08-20T23:43:17.565836Z",
     "iopub.status.idle": "2023-08-20T23:43:32.175671Z",
     "shell.execute_reply": "2023-08-20T23:43:32.174512Z"
    },
    "papermill": {
     "duration": 14.623679,
     "end_time": "2023-08-20T23:43:32.178176",
     "exception": false,
     "start_time": "2023-08-20T23:43:17.554497",
     "status": "completed"
    },
    "tags": []
   },
   "outputs": [
    {
     "name": "stderr",
     "output_type": "stream",
     "text": [
      "/opt/conda/lib/python3.10/site-packages/scipy/__init__.py:146: UserWarning: A NumPy version >=1.16.5 and <1.23.0 is required for this version of SciPy (detected version 1.23.5\n",
      "  warnings.warn(f\"A NumPy version >={np_minversion} and <{np_maxversion}\"\n",
      "/opt/conda/lib/python3.10/site-packages/tensorflow_io/python/ops/__init__.py:98: UserWarning: unable to load libtensorflow_io_plugins.so: unable to open file: libtensorflow_io_plugins.so, from paths: ['/opt/conda/lib/python3.10/site-packages/tensorflow_io/python/ops/libtensorflow_io_plugins.so']\n",
      "caused by: ['/opt/conda/lib/python3.10/site-packages/tensorflow_io/python/ops/libtensorflow_io_plugins.so: undefined symbol: _ZN3tsl6StatusC1EN10tensorflow5error4CodeESt17basic_string_viewIcSt11char_traitsIcEENS_14SourceLocationE']\n",
      "  warnings.warn(f\"unable to load libtensorflow_io_plugins.so: {e}\")\n",
      "/opt/conda/lib/python3.10/site-packages/tensorflow_io/python/ops/__init__.py:104: UserWarning: file system plugins are not loaded: unable to open file: libtensorflow_io.so, from paths: ['/opt/conda/lib/python3.10/site-packages/tensorflow_io/python/ops/libtensorflow_io.so']\n",
      "caused by: ['/opt/conda/lib/python3.10/site-packages/tensorflow_io/python/ops/libtensorflow_io.so: undefined symbol: _ZTVN10tensorflow13GcsFileSystemE']\n",
      "  warnings.warn(f\"file system plugins are not loaded: {e}\")\n"
     ]
    }
   ],
   "source": [
    "import torch\n",
    "from transformers import RobertaTokenizer, RobertaForMaskedLM"
   ]
  },
  {
   "cell_type": "code",
   "execution_count": 2,
   "id": "15b1eb90",
   "metadata": {
    "execution": {
     "iopub.execute_input": "2023-08-20T23:43:32.196854Z",
     "iopub.status.busy": "2023-08-20T23:43:32.196567Z",
     "iopub.status.idle": "2023-08-20T23:43:32.910306Z",
     "shell.execute_reply": "2023-08-20T23:43:32.909215Z"
    },
    "papermill": {
     "duration": 0.726086,
     "end_time": "2023-08-20T23:43:32.913124",
     "exception": false,
     "start_time": "2023-08-20T23:43:32.187038",
     "status": "completed"
    },
    "tags": []
   },
   "outputs": [
    {
     "data": {
      "application/vnd.jupyter.widget-view+json": {
       "model_id": "2b422d026bcf49c8856fcb07211cfe09",
       "version_major": 2,
       "version_minor": 0
      },
      "text/plain": [
       "Downloading (…)olve/main/vocab.json:   0%|          | 0.00/899k [00:00<?, ?B/s]"
      ]
     },
     "metadata": {},
     "output_type": "display_data"
    },
    {
     "data": {
      "application/vnd.jupyter.widget-view+json": {
       "model_id": "7fc260501d92450b965df386a4479499",
       "version_major": 2,
       "version_minor": 0
      },
      "text/plain": [
       "Downloading (…)olve/main/merges.txt:   0%|          | 0.00/456k [00:00<?, ?B/s]"
      ]
     },
     "metadata": {},
     "output_type": "display_data"
    },
    {
     "data": {
      "application/vnd.jupyter.widget-view+json": {
       "model_id": "901dcbec319445e08b9fbcdb7138a166",
       "version_major": 2,
       "version_minor": 0
      },
      "text/plain": [
       "Downloading (…)lve/main/config.json:   0%|          | 0.00/481 [00:00<?, ?B/s]"
      ]
     },
     "metadata": {},
     "output_type": "display_data"
    }
   ],
   "source": [
    "tokenizer = RobertaTokenizer.from_pretrained('roberta-base')"
   ]
  },
  {
   "cell_type": "code",
   "execution_count": 3,
   "id": "351aefeb",
   "metadata": {
    "execution": {
     "iopub.execute_input": "2023-08-20T23:43:32.935968Z",
     "iopub.status.busy": "2023-08-20T23:43:32.935640Z",
     "iopub.status.idle": "2023-08-20T23:43:37.750046Z",
     "shell.execute_reply": "2023-08-20T23:43:37.749088Z"
    },
    "papermill": {
     "duration": 4.828337,
     "end_time": "2023-08-20T23:43:37.752774",
     "exception": false,
     "start_time": "2023-08-20T23:43:32.924437",
     "status": "completed"
    },
    "tags": []
   },
   "outputs": [
    {
     "data": {
      "application/vnd.jupyter.widget-view+json": {
       "model_id": "e1224e22a207497ab53b52ace293ce89",
       "version_major": 2,
       "version_minor": 0
      },
      "text/plain": [
       "Downloading model.safetensors:   0%|          | 0.00/499M [00:00<?, ?B/s]"
      ]
     },
     "metadata": {},
     "output_type": "display_data"
    }
   ],
   "source": [
    "model = RobertaForMaskedLM.from_pretrained('roberta-base')"
   ]
  },
  {
   "cell_type": "code",
   "execution_count": 4,
   "id": "2544fc3e",
   "metadata": {
    "execution": {
     "iopub.execute_input": "2023-08-20T23:43:37.774558Z",
     "iopub.status.busy": "2023-08-20T23:43:37.774255Z",
     "iopub.status.idle": "2023-08-20T23:43:37.783204Z",
     "shell.execute_reply": "2023-08-20T23:43:37.782211Z"
    },
    "papermill": {
     "duration": 0.023294,
     "end_time": "2023-08-20T23:43:37.786561",
     "exception": false,
     "start_time": "2023-08-20T23:43:37.763267",
     "status": "completed"
    },
    "scrolled": true,
    "tags": []
   },
   "outputs": [
    {
     "data": {
      "text/plain": [
       "RobertaForMaskedLM(\n",
       "  (roberta): RobertaModel(\n",
       "    (embeddings): RobertaEmbeddings(\n",
       "      (word_embeddings): Embedding(50265, 768, padding_idx=1)\n",
       "      (position_embeddings): Embedding(514, 768, padding_idx=1)\n",
       "      (token_type_embeddings): Embedding(1, 768)\n",
       "      (LayerNorm): LayerNorm((768,), eps=1e-05, elementwise_affine=True)\n",
       "      (dropout): Dropout(p=0.1, inplace=False)\n",
       "    )\n",
       "    (encoder): RobertaEncoder(\n",
       "      (layer): ModuleList(\n",
       "        (0-11): 12 x RobertaLayer(\n",
       "          (attention): RobertaAttention(\n",
       "            (self): RobertaSelfAttention(\n",
       "              (query): Linear(in_features=768, out_features=768, bias=True)\n",
       "              (key): Linear(in_features=768, out_features=768, bias=True)\n",
       "              (value): Linear(in_features=768, out_features=768, bias=True)\n",
       "              (dropout): Dropout(p=0.1, inplace=False)\n",
       "            )\n",
       "            (output): RobertaSelfOutput(\n",
       "              (dense): Linear(in_features=768, out_features=768, bias=True)\n",
       "              (LayerNorm): LayerNorm((768,), eps=1e-05, elementwise_affine=True)\n",
       "              (dropout): Dropout(p=0.1, inplace=False)\n",
       "            )\n",
       "          )\n",
       "          (intermediate): RobertaIntermediate(\n",
       "            (dense): Linear(in_features=768, out_features=3072, bias=True)\n",
       "            (intermediate_act_fn): GELUActivation()\n",
       "          )\n",
       "          (output): RobertaOutput(\n",
       "            (dense): Linear(in_features=3072, out_features=768, bias=True)\n",
       "            (LayerNorm): LayerNorm((768,), eps=1e-05, elementwise_affine=True)\n",
       "            (dropout): Dropout(p=0.1, inplace=False)\n",
       "          )\n",
       "        )\n",
       "      )\n",
       "    )\n",
       "  )\n",
       "  (lm_head): RobertaLMHead(\n",
       "    (dense): Linear(in_features=768, out_features=768, bias=True)\n",
       "    (layer_norm): LayerNorm((768,), eps=1e-05, elementwise_affine=True)\n",
       "    (decoder): Linear(in_features=768, out_features=50265, bias=True)\n",
       "  )\n",
       ")"
      ]
     },
     "execution_count": 4,
     "metadata": {},
     "output_type": "execute_result"
    }
   ],
   "source": [
    "model"
   ]
  },
  {
   "cell_type": "code",
   "execution_count": 5,
   "id": "0b683c69",
   "metadata": {
    "execution": {
     "iopub.execute_input": "2023-08-20T23:43:37.806434Z",
     "iopub.status.busy": "2023-08-20T23:43:37.806124Z",
     "iopub.status.idle": "2023-08-20T23:43:37.811204Z",
     "shell.execute_reply": "2023-08-20T23:43:37.810186Z"
    },
    "papermill": {
     "duration": 0.01739,
     "end_time": "2023-08-20T23:43:37.813270",
     "exception": false,
     "start_time": "2023-08-20T23:43:37.795880",
     "status": "completed"
    },
    "tags": []
   },
   "outputs": [],
   "source": [
    "texts_and_masked_words = {\n",
    "    0: (\"The element with atomic number 70 is Ytterbium. Ytterbium starts with the letter Y and ends with M. It is named after Ytterby, the village in Sweden\", \"Ytterbium\"), \n",
    "    1: (\"I live in a neighbourhood called Mississauga. It is in the west of Toronto, and starts with the letter M\", \"Mississauga\"),\n",
    "    2: (\"Replaced the right aileron, which is a movable part of an airplane wing that permits pilots to roll the aircraft around its longitudinal axis. The word aileron starts with the letter A and ends with N\", \"aileron\")\n",
    "}\n",
    "\n",
    "text_selected = 2"
   ]
  },
  {
   "cell_type": "code",
   "execution_count": 6,
   "id": "293c6f85",
   "metadata": {
    "execution": {
     "iopub.execute_input": "2023-08-20T23:43:37.833478Z",
     "iopub.status.busy": "2023-08-20T23:43:37.833215Z",
     "iopub.status.idle": "2023-08-20T23:43:37.839324Z",
     "shell.execute_reply": "2023-08-20T23:43:37.837989Z"
    },
    "papermill": {
     "duration": 0.018503,
     "end_time": "2023-08-20T23:43:37.841601",
     "exception": false,
     "start_time": "2023-08-20T23:43:37.823098",
     "status": "completed"
    },
    "tags": []
   },
   "outputs": [
    {
     "name": "stdout",
     "output_type": "stream",
     "text": [
      "Replaced the right aileron, which is a movable part of an airplane wing that permits pilots to roll the aircraft around its longitudinal axis. The word aileron starts with the letter A and ends with N\n"
     ]
    }
   ],
   "source": [
    "text = texts_and_masked_words[text_selected][0]\n",
    "word = texts_and_masked_words[text_selected][1]\n",
    "print(text)"
   ]
  },
  {
   "cell_type": "code",
   "execution_count": 7,
   "id": "90df717a",
   "metadata": {
    "execution": {
     "iopub.execute_input": "2023-08-20T23:43:37.862552Z",
     "iopub.status.busy": "2023-08-20T23:43:37.861759Z",
     "iopub.status.idle": "2023-08-20T23:43:37.867284Z",
     "shell.execute_reply": "2023-08-20T23:43:37.865981Z"
    },
    "papermill": {
     "duration": 0.01811,
     "end_time": "2023-08-20T23:43:37.869462",
     "exception": false,
     "start_time": "2023-08-20T23:43:37.851352",
     "status": "completed"
    },
    "tags": []
   },
   "outputs": [
    {
     "name": "stdout",
     "output_type": "stream",
     "text": [
      "aileron\n"
     ]
    }
   ],
   "source": [
    "print(word)"
   ]
  },
  {
   "cell_type": "code",
   "execution_count": 8,
   "id": "c457f5f8",
   "metadata": {
    "execution": {
     "iopub.execute_input": "2023-08-20T23:43:37.889470Z",
     "iopub.status.busy": "2023-08-20T23:43:37.889134Z",
     "iopub.status.idle": "2023-08-20T23:43:37.896277Z",
     "shell.execute_reply": "2023-08-20T23:43:37.895452Z"
    },
    "papermill": {
     "duration": 0.019197,
     "end_time": "2023-08-20T23:43:37.898200",
     "exception": false,
     "start_time": "2023-08-20T23:43:37.879003",
     "status": "completed"
    },
    "tags": []
   },
   "outputs": [],
   "source": [
    "encoding = tokenizer(text, return_tensors='pt', padding=False)"
   ]
  },
  {
   "cell_type": "code",
   "execution_count": 9,
   "id": "ddb53cb2",
   "metadata": {
    "execution": {
     "iopub.execute_input": "2023-08-20T23:43:37.918308Z",
     "iopub.status.busy": "2023-08-20T23:43:37.917548Z",
     "iopub.status.idle": "2023-08-20T23:43:37.926220Z",
     "shell.execute_reply": "2023-08-20T23:43:37.925353Z"
    },
    "papermill": {
     "duration": 0.021233,
     "end_time": "2023-08-20T23:43:37.928654",
     "exception": false,
     "start_time": "2023-08-20T23:43:37.907421",
     "status": "completed"
    },
    "tags": []
   },
   "outputs": [
    {
     "data": {
      "text/plain": [
       "{'input_ids': tensor([[    0,  9064, 12459,     5,   235,    10, 10329,   261,     6,    61,\n",
       "            16,    10, 32924,   868,   233,     9,    41, 16847,  5897,    14,\n",
       "          8621, 10695,     7,  3825,     5,  3054,   198,    63, 45045, 31799,\n",
       "             4,    20,  2136,    10, 10329,   261,  2012,    19,     5,  1601,\n",
       "            83,     8,  3587,    19,   234,     2]]), 'attention_mask': tensor([[1, 1, 1, 1, 1, 1, 1, 1, 1, 1, 1, 1, 1, 1, 1, 1, 1, 1, 1, 1, 1, 1, 1, 1,\n",
       "         1, 1, 1, 1, 1, 1, 1, 1, 1, 1, 1, 1, 1, 1, 1, 1, 1, 1, 1, 1, 1, 1]])}"
      ]
     },
     "execution_count": 9,
     "metadata": {},
     "output_type": "execute_result"
    }
   ],
   "source": [
    "encoding"
   ]
  },
  {
   "cell_type": "code",
   "execution_count": 10,
   "id": "99976323",
   "metadata": {
    "execution": {
     "iopub.execute_input": "2023-08-20T23:43:37.954885Z",
     "iopub.status.busy": "2023-08-20T23:43:37.953686Z",
     "iopub.status.idle": "2023-08-20T23:43:37.961916Z",
     "shell.execute_reply": "2023-08-20T23:43:37.960721Z"
    },
    "papermill": {
     "duration": 0.023207,
     "end_time": "2023-08-20T23:43:37.964327",
     "exception": false,
     "start_time": "2023-08-20T23:43:37.941120",
     "status": "completed"
    },
    "tags": []
   },
   "outputs": [
    {
     "data": {
      "text/plain": [
       "36"
      ]
     },
     "execution_count": 10,
     "metadata": {},
     "output_type": "execute_result"
    }
   ],
   "source": [
    "num_words = len(text.split())\n",
    "num_words"
   ]
  },
  {
   "cell_type": "code",
   "execution_count": 11,
   "id": "b0c63ced",
   "metadata": {
    "execution": {
     "iopub.execute_input": "2023-08-20T23:43:37.987566Z",
     "iopub.status.busy": "2023-08-20T23:43:37.986684Z",
     "iopub.status.idle": "2023-08-20T23:43:37.993218Z",
     "shell.execute_reply": "2023-08-20T23:43:37.992327Z"
    },
    "papermill": {
     "duration": 0.019788,
     "end_time": "2023-08-20T23:43:37.995218",
     "exception": false,
     "start_time": "2023-08-20T23:43:37.975430",
     "status": "completed"
    },
    "tags": []
   },
   "outputs": [
    {
     "data": {
      "text/plain": [
       "44"
      ]
     },
     "execution_count": 11,
     "metadata": {},
     "output_type": "execute_result"
    }
   ],
   "source": [
    "num_tokens_without_start_and_stop = len(encoding['input_ids'][0]) - 2  # subtract the start and stop tokens \n",
    "num_tokens_without_start_and_stop"
   ]
  },
  {
   "cell_type": "code",
   "execution_count": 12,
   "id": "d7e1ac11",
   "metadata": {
    "execution": {
     "iopub.execute_input": "2023-08-20T23:43:38.016660Z",
     "iopub.status.busy": "2023-08-20T23:43:38.015895Z",
     "iopub.status.idle": "2023-08-20T23:43:38.023797Z",
     "shell.execute_reply": "2023-08-20T23:43:38.022875Z"
    },
    "papermill": {
     "duration": 0.020343,
     "end_time": "2023-08-20T23:43:38.025801",
     "exception": false,
     "start_time": "2023-08-20T23:43:38.005458",
     "status": "completed"
    },
    "tags": []
   },
   "outputs": [
    {
     "data": {
      "text/plain": [
       "['<s>',\n",
       " 'Re',\n",
       " 'placed',\n",
       " 'Ġthe',\n",
       " 'Ġright',\n",
       " 'Ġa',\n",
       " 'iler',\n",
       " 'on',\n",
       " ',',\n",
       " 'Ġwhich',\n",
       " 'Ġis',\n",
       " 'Ġa',\n",
       " 'Ġmov',\n",
       " 'able',\n",
       " 'Ġpart',\n",
       " 'Ġof',\n",
       " 'Ġan',\n",
       " 'Ġairplane',\n",
       " 'Ġwing',\n",
       " 'Ġthat',\n",
       " 'Ġpermits',\n",
       " 'Ġpilots',\n",
       " 'Ġto',\n",
       " 'Ġroll',\n",
       " 'Ġthe',\n",
       " 'Ġaircraft',\n",
       " 'Ġaround',\n",
       " 'Ġits',\n",
       " 'Ġlongitudinal',\n",
       " 'Ġaxis',\n",
       " '.',\n",
       " 'ĠThe',\n",
       " 'Ġword',\n",
       " 'Ġa',\n",
       " 'iler',\n",
       " 'on',\n",
       " 'Ġstarts',\n",
       " 'Ġwith',\n",
       " 'Ġthe',\n",
       " 'Ġletter',\n",
       " 'ĠA',\n",
       " 'Ġand',\n",
       " 'Ġends',\n",
       " 'Ġwith',\n",
       " 'ĠN',\n",
       " '</s>']"
      ]
     },
     "execution_count": 12,
     "metadata": {},
     "output_type": "execute_result"
    }
   ],
   "source": [
    "tokenizer.convert_ids_to_tokens(encoding['input_ids'][0])"
   ]
  },
  {
   "cell_type": "markdown",
   "id": "3d33f543",
   "metadata": {
    "papermill": {
     "duration": 0.009886,
     "end_time": "2023-08-20T23:43:38.046707",
     "exception": false,
     "start_time": "2023-08-20T23:43:38.036821",
     "status": "completed"
    },
    "tags": []
   },
   "source": [
    "# Approach 1"
   ]
  },
  {
   "cell_type": "code",
   "execution_count": 13,
   "id": "eb5a76a1",
   "metadata": {
    "execution": {
     "iopub.execute_input": "2023-08-20T23:43:38.068676Z",
     "iopub.status.busy": "2023-08-20T23:43:38.067844Z",
     "iopub.status.idle": "2023-08-20T23:43:38.074187Z",
     "shell.execute_reply": "2023-08-20T23:43:38.073208Z"
    },
    "papermill": {
     "duration": 0.019161,
     "end_time": "2023-08-20T23:43:38.076199",
     "exception": false,
     "start_time": "2023-08-20T23:43:38.057038",
     "status": "completed"
    },
    "tags": []
   },
   "outputs": [
    {
     "data": {
      "text/plain": [
       "'Replaced the right <mask>, which is a movable part of an airplane wing that permits pilots to roll the aircraft around its longitudinal axis. The word aileron starts with the letter A and ends with N'"
      ]
     },
     "execution_count": 13,
     "metadata": {},
     "output_type": "execute_result"
    }
   ],
   "source": [
    "masked_sentence_01 = text.replace(word, \"<mask>\", 1)\n",
    "masked_sentence_01"
   ]
  },
  {
   "cell_type": "code",
   "execution_count": 14,
   "id": "0ce63a74",
   "metadata": {
    "execution": {
     "iopub.execute_input": "2023-08-20T23:43:38.099552Z",
     "iopub.status.busy": "2023-08-20T23:43:38.098106Z",
     "iopub.status.idle": "2023-08-20T23:43:38.106043Z",
     "shell.execute_reply": "2023-08-20T23:43:38.105065Z"
    },
    "papermill": {
     "duration": 0.02137,
     "end_time": "2023-08-20T23:43:38.107999",
     "exception": false,
     "start_time": "2023-08-20T23:43:38.086629",
     "status": "completed"
    },
    "tags": []
   },
   "outputs": [
    {
     "data": {
      "text/plain": [
       "44"
      ]
     },
     "execution_count": 14,
     "metadata": {},
     "output_type": "execute_result"
    }
   ],
   "source": [
    "inputs = tokenizer(masked_sentence_01, return_tensors='pt')\n",
    "\n",
    "num_tokens = len(inputs['input_ids'][0])\n",
    "num_tokens"
   ]
  },
  {
   "cell_type": "code",
   "execution_count": 15,
   "id": "69415823",
   "metadata": {
    "execution": {
     "iopub.execute_input": "2023-08-20T23:43:38.130574Z",
     "iopub.status.busy": "2023-08-20T23:43:38.129186Z",
     "iopub.status.idle": "2023-08-20T23:43:38.137880Z",
     "shell.execute_reply": "2023-08-20T23:43:38.136841Z"
    },
    "papermill": {
     "duration": 0.021728,
     "end_time": "2023-08-20T23:43:38.139973",
     "exception": false,
     "start_time": "2023-08-20T23:43:38.118245",
     "status": "completed"
    },
    "tags": []
   },
   "outputs": [
    {
     "data": {
      "text/plain": [
       "['<s>',\n",
       " 'Re',\n",
       " 'placed',\n",
       " 'Ġthe',\n",
       " 'Ġright',\n",
       " '<mask>',\n",
       " ',',\n",
       " 'Ġwhich',\n",
       " 'Ġis',\n",
       " 'Ġa',\n",
       " 'Ġmov',\n",
       " 'able',\n",
       " 'Ġpart',\n",
       " 'Ġof',\n",
       " 'Ġan',\n",
       " 'Ġairplane',\n",
       " 'Ġwing',\n",
       " 'Ġthat',\n",
       " 'Ġpermits',\n",
       " 'Ġpilots',\n",
       " 'Ġto',\n",
       " 'Ġroll',\n",
       " 'Ġthe',\n",
       " 'Ġaircraft',\n",
       " 'Ġaround',\n",
       " 'Ġits',\n",
       " 'Ġlongitudinal',\n",
       " 'Ġaxis',\n",
       " '.',\n",
       " 'ĠThe',\n",
       " 'Ġword',\n",
       " 'Ġa',\n",
       " 'iler',\n",
       " 'on',\n",
       " 'Ġstarts',\n",
       " 'Ġwith',\n",
       " 'Ġthe',\n",
       " 'Ġletter',\n",
       " 'ĠA',\n",
       " 'Ġand',\n",
       " 'Ġends',\n",
       " 'Ġwith',\n",
       " 'ĠN',\n",
       " '</s>']"
      ]
     },
     "execution_count": 15,
     "metadata": {},
     "output_type": "execute_result"
    }
   ],
   "source": [
    "tokenizer.convert_ids_to_tokens(inputs['input_ids'][0])"
   ]
  },
  {
   "cell_type": "code",
   "execution_count": 16,
   "id": "a827413c",
   "metadata": {
    "execution": {
     "iopub.execute_input": "2023-08-20T23:43:38.164342Z",
     "iopub.status.busy": "2023-08-20T23:43:38.163443Z",
     "iopub.status.idle": "2023-08-20T23:43:38.470207Z",
     "shell.execute_reply": "2023-08-20T23:43:38.469108Z"
    },
    "papermill": {
     "duration": 0.321499,
     "end_time": "2023-08-20T23:43:38.472954",
     "exception": false,
     "start_time": "2023-08-20T23:43:38.151455",
     "status": "completed"
    },
    "tags": []
   },
   "outputs": [],
   "source": [
    "# model predictions: \n",
    "with torch.no_grad():\n",
    "    outputs = model(**inputs)\n",
    "    predictions = outputs.logits"
   ]
  },
  {
   "cell_type": "code",
   "execution_count": 17,
   "id": "b9579a70",
   "metadata": {
    "execution": {
     "iopub.execute_input": "2023-08-20T23:43:38.495633Z",
     "iopub.status.busy": "2023-08-20T23:43:38.495330Z",
     "iopub.status.idle": "2023-08-20T23:43:38.502135Z",
     "shell.execute_reply": "2023-08-20T23:43:38.501216Z"
    },
    "papermill": {
     "duration": 0.020303,
     "end_time": "2023-08-20T23:43:38.504117",
     "exception": false,
     "start_time": "2023-08-20T23:43:38.483814",
     "status": "completed"
    },
    "tags": []
   },
   "outputs": [
    {
     "data": {
      "text/plain": [
       "torch.Size([1, 44, 50265])"
      ]
     },
     "execution_count": 17,
     "metadata": {},
     "output_type": "execute_result"
    }
   ],
   "source": [
    "# 1 sentence, 11 tokens, scores for each of 50,265 tokens in vocab\n",
    "predictions.shape"
   ]
  },
  {
   "cell_type": "code",
   "execution_count": 18,
   "id": "920efac7",
   "metadata": {
    "execution": {
     "iopub.execute_input": "2023-08-20T23:43:38.526738Z",
     "iopub.status.busy": "2023-08-20T23:43:38.525891Z",
     "iopub.status.idle": "2023-08-20T23:43:38.536522Z",
     "shell.execute_reply": "2023-08-20T23:43:38.535600Z"
    },
    "papermill": {
     "duration": 0.024024,
     "end_time": "2023-08-20T23:43:38.538593",
     "exception": false,
     "start_time": "2023-08-20T23:43:38.514569",
     "status": "completed"
    },
    "tags": []
   },
   "outputs": [
    {
     "data": {
      "text/plain": [
       "torch.Size([1, 44])"
      ]
     },
     "execution_count": 18,
     "metadata": {},
     "output_type": "execute_result"
    }
   ],
   "source": [
    "predicted_ids = torch.argmax(predictions, dim=2)\n",
    "predicted_ids.shape"
   ]
  },
  {
   "cell_type": "code",
   "execution_count": 19,
   "id": "b9addf12",
   "metadata": {
    "execution": {
     "iopub.execute_input": "2023-08-20T23:43:38.561582Z",
     "iopub.status.busy": "2023-08-20T23:43:38.560858Z",
     "iopub.status.idle": "2023-08-20T23:43:38.567579Z",
     "shell.execute_reply": "2023-08-20T23:43:38.566582Z"
    },
    "papermill": {
     "duration": 0.020381,
     "end_time": "2023-08-20T23:43:38.569645",
     "exception": false,
     "start_time": "2023-08-20T23:43:38.549264",
     "status": "completed"
    },
    "tags": []
   },
   "outputs": [
    {
     "data": {
      "text/plain": [
       "['<s>Replaced the right wing, which is a movable part of an airplane wing that permits pilots to roll the aircraft around its longitudinal axis. The word aileron starts with the letter A and ends with N</s>']"
      ]
     },
     "execution_count": 19,
     "metadata": {},
     "output_type": "execute_result"
    }
   ],
   "source": [
    "predicted_tokens = [tokenizer.decode(token_id) for token_id in predicted_ids]\n",
    "predicted_tokens"
   ]
  },
  {
   "cell_type": "markdown",
   "id": "96c27104",
   "metadata": {
    "papermill": {
     "duration": 0.010799,
     "end_time": "2023-08-20T23:43:38.594820",
     "exception": false,
     "start_time": "2023-08-20T23:43:38.584021",
     "status": "completed"
    },
    "tags": []
   },
   "source": [
    "# Approach 2"
   ]
  },
  {
   "cell_type": "code",
   "execution_count": 20,
   "id": "859935ea",
   "metadata": {
    "execution": {
     "iopub.execute_input": "2023-08-20T23:43:38.618716Z",
     "iopub.status.busy": "2023-08-20T23:43:38.617952Z",
     "iopub.status.idle": "2023-08-20T23:43:38.624436Z",
     "shell.execute_reply": "2023-08-20T23:43:38.623461Z"
    },
    "papermill": {
     "duration": 0.020877,
     "end_time": "2023-08-20T23:43:38.626340",
     "exception": false,
     "start_time": "2023-08-20T23:43:38.605463",
     "status": "completed"
    },
    "tags": []
   },
   "outputs": [
    {
     "data": {
      "text/plain": [
       "['ail', 'er', 'on']"
      ]
     },
     "execution_count": 20,
     "metadata": {},
     "output_type": "execute_result"
    }
   ],
   "source": [
    "word_tokens = tokenizer.tokenize(word)\n",
    "word_tokens"
   ]
  },
  {
   "cell_type": "code",
   "execution_count": 21,
   "id": "83690b67",
   "metadata": {
    "execution": {
     "iopub.execute_input": "2023-08-20T23:43:38.650131Z",
     "iopub.status.busy": "2023-08-20T23:43:38.649246Z",
     "iopub.status.idle": "2023-08-20T23:43:38.655881Z",
     "shell.execute_reply": "2023-08-20T23:43:38.654848Z"
    },
    "papermill": {
     "duration": 0.020512,
     "end_time": "2023-08-20T23:43:38.657933",
     "exception": false,
     "start_time": "2023-08-20T23:43:38.637421",
     "status": "completed"
    },
    "tags": []
   },
   "outputs": [
    {
     "data": {
      "text/plain": [
       "3"
      ]
     },
     "execution_count": 21,
     "metadata": {},
     "output_type": "execute_result"
    }
   ],
   "source": [
    "num_tokens = len(word_tokens)\n",
    "num_tokens"
   ]
  },
  {
   "cell_type": "code",
   "execution_count": 22,
   "id": "5db9ed44",
   "metadata": {
    "execution": {
     "iopub.execute_input": "2023-08-20T23:43:38.681233Z",
     "iopub.status.busy": "2023-08-20T23:43:38.680459Z",
     "iopub.status.idle": "2023-08-20T23:43:38.686920Z",
     "shell.execute_reply": "2023-08-20T23:43:38.685985Z"
    },
    "papermill": {
     "duration": 0.02007,
     "end_time": "2023-08-20T23:43:38.688898",
     "exception": false,
     "start_time": "2023-08-20T23:43:38.668828",
     "status": "completed"
    },
    "tags": []
   },
   "outputs": [
    {
     "data": {
      "text/plain": [
       "'Replaced the right <mask> <mask> <mask>, which is a movable part of an airplane wing that permits pilots to roll the aircraft around its longitudinal axis. The word aileron starts with the letter A and ends with N'"
      ]
     },
     "execution_count": 22,
     "metadata": {},
     "output_type": "execute_result"
    }
   ],
   "source": [
    "masked_sentence_02 = text.replace(word, \" \".join([\"<mask>\"] * num_tokens), 1)\n",
    "masked_sentence_02"
   ]
  },
  {
   "cell_type": "code",
   "execution_count": 23,
   "id": "192b9eb5",
   "metadata": {
    "execution": {
     "iopub.execute_input": "2023-08-20T23:43:38.712619Z",
     "iopub.status.busy": "2023-08-20T23:43:38.711886Z",
     "iopub.status.idle": "2023-08-20T23:43:38.717193Z",
     "shell.execute_reply": "2023-08-20T23:43:38.716449Z"
    },
    "papermill": {
     "duration": 0.019333,
     "end_time": "2023-08-20T23:43:38.719304",
     "exception": false,
     "start_time": "2023-08-20T23:43:38.699971",
     "status": "completed"
    },
    "tags": []
   },
   "outputs": [],
   "source": [
    "inputs_02 = tokenizer(masked_sentence_02, return_tensors='pt')"
   ]
  },
  {
   "cell_type": "code",
   "execution_count": 24,
   "id": "6a63bd88",
   "metadata": {
    "execution": {
     "iopub.execute_input": "2023-08-20T23:43:38.743939Z",
     "iopub.status.busy": "2023-08-20T23:43:38.743143Z",
     "iopub.status.idle": "2023-08-20T23:43:38.751214Z",
     "shell.execute_reply": "2023-08-20T23:43:38.750184Z"
    },
    "papermill": {
     "duration": 0.022358,
     "end_time": "2023-08-20T23:43:38.753378",
     "exception": false,
     "start_time": "2023-08-20T23:43:38.731020",
     "status": "completed"
    },
    "tags": []
   },
   "outputs": [
    {
     "data": {
      "text/plain": [
       "['<s>',\n",
       " 'Re',\n",
       " 'placed',\n",
       " 'Ġthe',\n",
       " 'Ġright',\n",
       " '<mask>',\n",
       " '<mask>',\n",
       " '<mask>',\n",
       " ',',\n",
       " 'Ġwhich',\n",
       " 'Ġis',\n",
       " 'Ġa',\n",
       " 'Ġmov',\n",
       " 'able',\n",
       " 'Ġpart',\n",
       " 'Ġof',\n",
       " 'Ġan',\n",
       " 'Ġairplane',\n",
       " 'Ġwing',\n",
       " 'Ġthat',\n",
       " 'Ġpermits',\n",
       " 'Ġpilots',\n",
       " 'Ġto',\n",
       " 'Ġroll',\n",
       " 'Ġthe',\n",
       " 'Ġaircraft',\n",
       " 'Ġaround',\n",
       " 'Ġits',\n",
       " 'Ġlongitudinal',\n",
       " 'Ġaxis',\n",
       " '.',\n",
       " 'ĠThe',\n",
       " 'Ġword',\n",
       " 'Ġa',\n",
       " 'iler',\n",
       " 'on',\n",
       " 'Ġstarts',\n",
       " 'Ġwith',\n",
       " 'Ġthe',\n",
       " 'Ġletter',\n",
       " 'ĠA',\n",
       " 'Ġand',\n",
       " 'Ġends',\n",
       " 'Ġwith',\n",
       " 'ĠN',\n",
       " '</s>']"
      ]
     },
     "execution_count": 24,
     "metadata": {},
     "output_type": "execute_result"
    }
   ],
   "source": [
    "tokenizer.convert_ids_to_tokens(inputs_02['input_ids'][0])"
   ]
  },
  {
   "cell_type": "code",
   "execution_count": 25,
   "id": "8392d230",
   "metadata": {
    "execution": {
     "iopub.execute_input": "2023-08-20T23:43:38.779566Z",
     "iopub.status.busy": "2023-08-20T23:43:38.778777Z",
     "iopub.status.idle": "2023-08-20T23:43:38.785321Z",
     "shell.execute_reply": "2023-08-20T23:43:38.784309Z"
    },
    "papermill": {
     "duration": 0.02156,
     "end_time": "2023-08-20T23:43:38.787351",
     "exception": false,
     "start_time": "2023-08-20T23:43:38.765791",
     "status": "completed"
    },
    "tags": []
   },
   "outputs": [
    {
     "data": {
      "text/plain": [
       "46"
      ]
     },
     "execution_count": 25,
     "metadata": {},
     "output_type": "execute_result"
    }
   ],
   "source": [
    "num_tokens = len(inputs_02['input_ids'][0])\n",
    "num_tokens"
   ]
  },
  {
   "cell_type": "code",
   "execution_count": 26,
   "id": "c2936341",
   "metadata": {
    "execution": {
     "iopub.execute_input": "2023-08-20T23:43:38.813009Z",
     "iopub.status.busy": "2023-08-20T23:43:38.812241Z",
     "iopub.status.idle": "2023-08-20T23:43:39.023864Z",
     "shell.execute_reply": "2023-08-20T23:43:39.022714Z"
    },
    "papermill": {
     "duration": 0.227221,
     "end_time": "2023-08-20T23:43:39.026595",
     "exception": false,
     "start_time": "2023-08-20T23:43:38.799374",
     "status": "completed"
    },
    "tags": []
   },
   "outputs": [
    {
     "data": {
      "text/plain": [
       "torch.Size([1, 46, 50265])"
      ]
     },
     "execution_count": 26,
     "metadata": {},
     "output_type": "execute_result"
    }
   ],
   "source": [
    "# predictions \n",
    "with torch.no_grad(): \n",
    "    outputs = model(**inputs_02)\n",
    "    predictions = outputs.logits \n",
    "    \n",
    "# 1 sentence, 15 tokens, scores for each of 50,265 tokens in vocab\n",
    "predictions.shape"
   ]
  },
  {
   "cell_type": "code",
   "execution_count": 27,
   "id": "3a77b1fb",
   "metadata": {
    "execution": {
     "iopub.execute_input": "2023-08-20T23:43:39.051664Z",
     "iopub.status.busy": "2023-08-20T23:43:39.051366Z",
     "iopub.status.idle": "2023-08-20T23:43:39.062714Z",
     "shell.execute_reply": "2023-08-20T23:43:39.061834Z"
    },
    "papermill": {
     "duration": 0.026233,
     "end_time": "2023-08-20T23:43:39.064741",
     "exception": false,
     "start_time": "2023-08-20T23:43:39.038508",
     "status": "completed"
    },
    "tags": []
   },
   "outputs": [
    {
     "data": {
      "text/plain": [
       "torch.Size([1, 46])"
      ]
     },
     "execution_count": 27,
     "metadata": {},
     "output_type": "execute_result"
    }
   ],
   "source": [
    "predicted_ids = torch.argmax(predictions, dim=2)\n",
    "predicted_ids.shape"
   ]
  },
  {
   "cell_type": "code",
   "execution_count": 28,
   "id": "d4631919",
   "metadata": {
    "execution": {
     "iopub.execute_input": "2023-08-20T23:43:39.090360Z",
     "iopub.status.busy": "2023-08-20T23:43:39.089572Z",
     "iopub.status.idle": "2023-08-20T23:43:39.096450Z",
     "shell.execute_reply": "2023-08-20T23:43:39.095448Z"
    },
    "papermill": {
     "duration": 0.021559,
     "end_time": "2023-08-20T23:43:39.098459",
     "exception": false,
     "start_time": "2023-08-20T23:43:39.076900",
     "status": "completed"
    },
    "tags": []
   },
   "outputs": [
    {
     "data": {
      "text/plain": [
       "['<s>Replaced the right aileron, which is a movable part of an airplane wing that permits pilots to roll the aircraft around its longitudinal axis. The word aileron starts with the letter A and ends with N</s>']"
      ]
     },
     "execution_count": 28,
     "metadata": {},
     "output_type": "execute_result"
    }
   ],
   "source": [
    "predicted_tokens = [tokenizer.decode(token_id) for token_id in predicted_ids]\n",
    "predicted_tokens"
   ]
  },
  {
   "cell_type": "code",
   "execution_count": null,
   "id": "c1e8ba12",
   "metadata": {
    "papermill": {
     "duration": 0.01189,
     "end_time": "2023-08-20T23:43:39.122236",
     "exception": false,
     "start_time": "2023-08-20T23:43:39.110346",
     "status": "completed"
    },
    "tags": []
   },
   "outputs": [],
   "source": []
  },
  {
   "cell_type": "code",
   "execution_count": null,
   "id": "d8d91e7b",
   "metadata": {
    "papermill": {
     "duration": 0.012255,
     "end_time": "2023-08-20T23:43:39.146516",
     "exception": false,
     "start_time": "2023-08-20T23:43:39.134261",
     "status": "completed"
    },
    "tags": []
   },
   "outputs": [],
   "source": []
  }
 ],
 "metadata": {
  "kernelspec": {
   "display_name": "Python 3",
   "language": "python",
   "name": "python3"
  },
  "language_info": {
   "codemirror_mode": {
    "name": "ipython",
    "version": 3
   },
   "file_extension": ".py",
   "mimetype": "text/x-python",
   "name": "python",
   "nbconvert_exporter": "python",
   "pygments_lexer": "ipython3",
   "version": "3.10.12"
  },
  "papermill": {
   "default_parameters": {},
   "duration": 34.849287,
   "end_time": "2023-08-20T23:43:41.963229",
   "environment_variables": {},
   "exception": null,
   "input_path": "__notebook__.ipynb",
   "output_path": "__notebook__.ipynb",
   "parameters": {},
   "start_time": "2023-08-20T23:43:07.113942",
   "version": "2.4.0"
  },
  "widgets": {
   "application/vnd.jupyter.widget-state+json": {
    "state": {
     "020ac75f9adc4c9ab8f097973c275d6c": {
      "model_module": "@jupyter-widgets/controls",
      "model_module_version": "1.5.0",
      "model_name": "HTMLModel",
      "state": {
       "_dom_classes": [],
       "_model_module": "@jupyter-widgets/controls",
       "_model_module_version": "1.5.0",
       "_model_name": "HTMLModel",
       "_view_count": null,
       "_view_module": "@jupyter-widgets/controls",
       "_view_module_version": "1.5.0",
       "_view_name": "HTMLView",
       "description": "",
       "description_tooltip": null,
       "layout": "IPY_MODEL_e37470ace6e24018bc09a89c88085717",
       "placeholder": "​",
       "style": "IPY_MODEL_45784fdcb0c849dc8f0fcfe8d2cae74b",
       "value": "Downloading model.safetensors: 100%"
      }
     },
     "0b813f9001974f01a3df0e1acf293ee1": {
      "model_module": "@jupyter-widgets/controls",
      "model_module_version": "1.5.0",
      "model_name": "HTMLModel",
      "state": {
       "_dom_classes": [],
       "_model_module": "@jupyter-widgets/controls",
       "_model_module_version": "1.5.0",
       "_model_name": "HTMLModel",
       "_view_count": null,
       "_view_module": "@jupyter-widgets/controls",
       "_view_module_version": "1.5.0",
       "_view_name": "HTMLView",
       "description": "",
       "description_tooltip": null,
       "layout": "IPY_MODEL_c118366237e6470b8320e85462adbe66",
       "placeholder": "​",
       "style": "IPY_MODEL_7ffa96e2eb7e4b26bcd4f90656aed9f5",
       "value": " 481/481 [00:00&lt;00:00, 35.2kB/s]"
      }
     },
     "1089d0c6877242dbad835bc8ce55c3ad": {
      "model_module": "@jupyter-widgets/controls",
      "model_module_version": "1.5.0",
      "model_name": "FloatProgressModel",
      "state": {
       "_dom_classes": [],
       "_model_module": "@jupyter-widgets/controls",
       "_model_module_version": "1.5.0",
       "_model_name": "FloatProgressModel",
       "_view_count": null,
       "_view_module": "@jupyter-widgets/controls",
       "_view_module_version": "1.5.0",
       "_view_name": "ProgressView",
       "bar_style": "success",
       "description": "",
       "description_tooltip": null,
       "layout": "IPY_MODEL_1edf3234dc7d43368f2aa040c5b0ebd0",
       "max": 498818054.0,
       "min": 0.0,
       "orientation": "horizontal",
       "style": "IPY_MODEL_c9c5f04e5ba745a1bf84725b0f2a762b",
       "value": 498818054.0
      }
     },
     "10b32b8e1de74749829656fc5f7a3ce6": {
      "model_module": "@jupyter-widgets/controls",
      "model_module_version": "1.5.0",
      "model_name": "HTMLModel",
      "state": {
       "_dom_classes": [],
       "_model_module": "@jupyter-widgets/controls",
       "_model_module_version": "1.5.0",
       "_model_name": "HTMLModel",
       "_view_count": null,
       "_view_module": "@jupyter-widgets/controls",
       "_view_module_version": "1.5.0",
       "_view_name": "HTMLView",
       "description": "",
       "description_tooltip": null,
       "layout": "IPY_MODEL_7a0864945c3b40d9b9bfb2568dedf23d",
       "placeholder": "​",
       "style": "IPY_MODEL_f408ad5b72dd420cb658e279eb18be80",
       "value": "Downloading (…)olve/main/merges.txt: 100%"
      }
     },
     "1edf3234dc7d43368f2aa040c5b0ebd0": {
      "model_module": "@jupyter-widgets/base",
      "model_module_version": "1.2.0",
      "model_name": "LayoutModel",
      "state": {
       "_model_module": "@jupyter-widgets/base",
       "_model_module_version": "1.2.0",
       "_model_name": "LayoutModel",
       "_view_count": null,
       "_view_module": "@jupyter-widgets/base",
       "_view_module_version": "1.2.0",
       "_view_name": "LayoutView",
       "align_content": null,
       "align_items": null,
       "align_self": null,
       "border": null,
       "bottom": null,
       "display": null,
       "flex": null,
       "flex_flow": null,
       "grid_area": null,
       "grid_auto_columns": null,
       "grid_auto_flow": null,
       "grid_auto_rows": null,
       "grid_column": null,
       "grid_gap": null,
       "grid_row": null,
       "grid_template_areas": null,
       "grid_template_columns": null,
       "grid_template_rows": null,
       "height": null,
       "justify_content": null,
       "justify_items": null,
       "left": null,
       "margin": null,
       "max_height": null,
       "max_width": null,
       "min_height": null,
       "min_width": null,
       "object_fit": null,
       "object_position": null,
       "order": null,
       "overflow": null,
       "overflow_x": null,
       "overflow_y": null,
       "padding": null,
       "right": null,
       "top": null,
       "visibility": null,
       "width": null
      }
     },
     "26d36095e366481e93daab6378f6f16e": {
      "model_module": "@jupyter-widgets/controls",
      "model_module_version": "1.5.0",
      "model_name": "FloatProgressModel",
      "state": {
       "_dom_classes": [],
       "_model_module": "@jupyter-widgets/controls",
       "_model_module_version": "1.5.0",
       "_model_name": "FloatProgressModel",
       "_view_count": null,
       "_view_module": "@jupyter-widgets/controls",
       "_view_module_version": "1.5.0",
       "_view_name": "ProgressView",
       "bar_style": "success",
       "description": "",
       "description_tooltip": null,
       "layout": "IPY_MODEL_29165ef932f64cefb1f93ecd7780fa66",
       "max": 456318.0,
       "min": 0.0,
       "orientation": "horizontal",
       "style": "IPY_MODEL_edd4ffdd1c224f7f8db5c8a9fc7c956d",
       "value": 456318.0
      }
     },
     "27f0844d0f5a4831a0ea67885a0847a8": {
      "model_module": "@jupyter-widgets/controls",
      "model_module_version": "1.5.0",
      "model_name": "HTMLModel",
      "state": {
       "_dom_classes": [],
       "_model_module": "@jupyter-widgets/controls",
       "_model_module_version": "1.5.0",
       "_model_name": "HTMLModel",
       "_view_count": null,
       "_view_module": "@jupyter-widgets/controls",
       "_view_module_version": "1.5.0",
       "_view_name": "HTMLView",
       "description": "",
       "description_tooltip": null,
       "layout": "IPY_MODEL_aed876606acb45ebb345015713bcaff1",
       "placeholder": "​",
       "style": "IPY_MODEL_f2287bcceccf4f0392ccf06da46e6b5e",
       "value": " 499M/499M [00:02&lt;00:00, 217MB/s]"
      }
     },
     "29165ef932f64cefb1f93ecd7780fa66": {
      "model_module": "@jupyter-widgets/base",
      "model_module_version": "1.2.0",
      "model_name": "LayoutModel",
      "state": {
       "_model_module": "@jupyter-widgets/base",
       "_model_module_version": "1.2.0",
       "_model_name": "LayoutModel",
       "_view_count": null,
       "_view_module": "@jupyter-widgets/base",
       "_view_module_version": "1.2.0",
       "_view_name": "LayoutView",
       "align_content": null,
       "align_items": null,
       "align_self": null,
       "border": null,
       "bottom": null,
       "display": null,
       "flex": null,
       "flex_flow": null,
       "grid_area": null,
       "grid_auto_columns": null,
       "grid_auto_flow": null,
       "grid_auto_rows": null,
       "grid_column": null,
       "grid_gap": null,
       "grid_row": null,
       "grid_template_areas": null,
       "grid_template_columns": null,
       "grid_template_rows": null,
       "height": null,
       "justify_content": null,
       "justify_items": null,
       "left": null,
       "margin": null,
       "max_height": null,
       "max_width": null,
       "min_height": null,
       "min_width": null,
       "object_fit": null,
       "object_position": null,
       "order": null,
       "overflow": null,
       "overflow_x": null,
       "overflow_y": null,
       "padding": null,
       "right": null,
       "top": null,
       "visibility": null,
       "width": null
      }
     },
     "2b422d026bcf49c8856fcb07211cfe09": {
      "model_module": "@jupyter-widgets/controls",
      "model_module_version": "1.5.0",
      "model_name": "HBoxModel",
      "state": {
       "_dom_classes": [],
       "_model_module": "@jupyter-widgets/controls",
       "_model_module_version": "1.5.0",
       "_model_name": "HBoxModel",
       "_view_count": null,
       "_view_module": "@jupyter-widgets/controls",
       "_view_module_version": "1.5.0",
       "_view_name": "HBoxView",
       "box_style": "",
       "children": [
        "IPY_MODEL_703a29c0b3d6401586f3dd2faa6e7438",
        "IPY_MODEL_ce09c03ae15544719899feb4d1fd1aa1",
        "IPY_MODEL_c7ca40fe255c4b239b6a45d8eb8f84f7"
       ],
       "layout": "IPY_MODEL_bd770d02fb504405b10e495633f33846"
      }
     },
     "456fb27735404f468d8b39bc1a6002c3": {
      "model_module": "@jupyter-widgets/base",
      "model_module_version": "1.2.0",
      "model_name": "LayoutModel",
      "state": {
       "_model_module": "@jupyter-widgets/base",
       "_model_module_version": "1.2.0",
       "_model_name": "LayoutModel",
       "_view_count": null,
       "_view_module": "@jupyter-widgets/base",
       "_view_module_version": "1.2.0",
       "_view_name": "LayoutView",
       "align_content": null,
       "align_items": null,
       "align_self": null,
       "border": null,
       "bottom": null,
       "display": null,
       "flex": null,
       "flex_flow": null,
       "grid_area": null,
       "grid_auto_columns": null,
       "grid_auto_flow": null,
       "grid_auto_rows": null,
       "grid_column": null,
       "grid_gap": null,
       "grid_row": null,
       "grid_template_areas": null,
       "grid_template_columns": null,
       "grid_template_rows": null,
       "height": null,
       "justify_content": null,
       "justify_items": null,
       "left": null,
       "margin": null,
       "max_height": null,
       "max_width": null,
       "min_height": null,
       "min_width": null,
       "object_fit": null,
       "object_position": null,
       "order": null,
       "overflow": null,
       "overflow_x": null,
       "overflow_y": null,
       "padding": null,
       "right": null,
       "top": null,
       "visibility": null,
       "width": null
      }
     },
     "45784fdcb0c849dc8f0fcfe8d2cae74b": {
      "model_module": "@jupyter-widgets/controls",
      "model_module_version": "1.5.0",
      "model_name": "DescriptionStyleModel",
      "state": {
       "_model_module": "@jupyter-widgets/controls",
       "_model_module_version": "1.5.0",
       "_model_name": "DescriptionStyleModel",
       "_view_count": null,
       "_view_module": "@jupyter-widgets/base",
       "_view_module_version": "1.2.0",
       "_view_name": "StyleView",
       "description_width": ""
      }
     },
     "4ae74b9e4fdf42e8b582cf7e40ed6d2e": {
      "model_module": "@jupyter-widgets/controls",
      "model_module_version": "1.5.0",
      "model_name": "DescriptionStyleModel",
      "state": {
       "_model_module": "@jupyter-widgets/controls",
       "_model_module_version": "1.5.0",
       "_model_name": "DescriptionStyleModel",
       "_view_count": null,
       "_view_module": "@jupyter-widgets/base",
       "_view_module_version": "1.2.0",
       "_view_name": "StyleView",
       "description_width": ""
      }
     },
     "520a8a163b4e43cb884296661a61f812": {
      "model_module": "@jupyter-widgets/controls",
      "model_module_version": "1.5.0",
      "model_name": "DescriptionStyleModel",
      "state": {
       "_model_module": "@jupyter-widgets/controls",
       "_model_module_version": "1.5.0",
       "_model_name": "DescriptionStyleModel",
       "_view_count": null,
       "_view_module": "@jupyter-widgets/base",
       "_view_module_version": "1.2.0",
       "_view_name": "StyleView",
       "description_width": ""
      }
     },
     "57de871bff0940b198c347be2b988024": {
      "model_module": "@jupyter-widgets/controls",
      "model_module_version": "1.5.0",
      "model_name": "HTMLModel",
      "state": {
       "_dom_classes": [],
       "_model_module": "@jupyter-widgets/controls",
       "_model_module_version": "1.5.0",
       "_model_name": "HTMLModel",
       "_view_count": null,
       "_view_module": "@jupyter-widgets/controls",
       "_view_module_version": "1.5.0",
       "_view_name": "HTMLView",
       "description": "",
       "description_tooltip": null,
       "layout": "IPY_MODEL_75ff2c548f9843f38d28d41bdf7c8b9e",
       "placeholder": "​",
       "style": "IPY_MODEL_80a511f44e3445a4aa46188ee0063bcf",
       "value": " 456k/456k [00:00&lt;00:00, 25.6MB/s]"
      }
     },
     "60873913123142c8b8fce774c6df032c": {
      "model_module": "@jupyter-widgets/controls",
      "model_module_version": "1.5.0",
      "model_name": "DescriptionStyleModel",
      "state": {
       "_model_module": "@jupyter-widgets/controls",
       "_model_module_version": "1.5.0",
       "_model_name": "DescriptionStyleModel",
       "_view_count": null,
       "_view_module": "@jupyter-widgets/base",
       "_view_module_version": "1.2.0",
       "_view_name": "StyleView",
       "description_width": ""
      }
     },
     "6fde8a71a0cb45c0be24da349682e19f": {
      "model_module": "@jupyter-widgets/base",
      "model_module_version": "1.2.0",
      "model_name": "LayoutModel",
      "state": {
       "_model_module": "@jupyter-widgets/base",
       "_model_module_version": "1.2.0",
       "_model_name": "LayoutModel",
       "_view_count": null,
       "_view_module": "@jupyter-widgets/base",
       "_view_module_version": "1.2.0",
       "_view_name": "LayoutView",
       "align_content": null,
       "align_items": null,
       "align_self": null,
       "border": null,
       "bottom": null,
       "display": null,
       "flex": null,
       "flex_flow": null,
       "grid_area": null,
       "grid_auto_columns": null,
       "grid_auto_flow": null,
       "grid_auto_rows": null,
       "grid_column": null,
       "grid_gap": null,
       "grid_row": null,
       "grid_template_areas": null,
       "grid_template_columns": null,
       "grid_template_rows": null,
       "height": null,
       "justify_content": null,
       "justify_items": null,
       "left": null,
       "margin": null,
       "max_height": null,
       "max_width": null,
       "min_height": null,
       "min_width": null,
       "object_fit": null,
       "object_position": null,
       "order": null,
       "overflow": null,
       "overflow_x": null,
       "overflow_y": null,
       "padding": null,
       "right": null,
       "top": null,
       "visibility": null,
       "width": null
      }
     },
     "703a29c0b3d6401586f3dd2faa6e7438": {
      "model_module": "@jupyter-widgets/controls",
      "model_module_version": "1.5.0",
      "model_name": "HTMLModel",
      "state": {
       "_dom_classes": [],
       "_model_module": "@jupyter-widgets/controls",
       "_model_module_version": "1.5.0",
       "_model_name": "HTMLModel",
       "_view_count": null,
       "_view_module": "@jupyter-widgets/controls",
       "_view_module_version": "1.5.0",
       "_view_name": "HTMLView",
       "description": "",
       "description_tooltip": null,
       "layout": "IPY_MODEL_456fb27735404f468d8b39bc1a6002c3",
       "placeholder": "​",
       "style": "IPY_MODEL_60873913123142c8b8fce774c6df032c",
       "value": "Downloading (…)olve/main/vocab.json: 100%"
      }
     },
     "75ff2c548f9843f38d28d41bdf7c8b9e": {
      "model_module": "@jupyter-widgets/base",
      "model_module_version": "1.2.0",
      "model_name": "LayoutModel",
      "state": {
       "_model_module": "@jupyter-widgets/base",
       "_model_module_version": "1.2.0",
       "_model_name": "LayoutModel",
       "_view_count": null,
       "_view_module": "@jupyter-widgets/base",
       "_view_module_version": "1.2.0",
       "_view_name": "LayoutView",
       "align_content": null,
       "align_items": null,
       "align_self": null,
       "border": null,
       "bottom": null,
       "display": null,
       "flex": null,
       "flex_flow": null,
       "grid_area": null,
       "grid_auto_columns": null,
       "grid_auto_flow": null,
       "grid_auto_rows": null,
       "grid_column": null,
       "grid_gap": null,
       "grid_row": null,
       "grid_template_areas": null,
       "grid_template_columns": null,
       "grid_template_rows": null,
       "height": null,
       "justify_content": null,
       "justify_items": null,
       "left": null,
       "margin": null,
       "max_height": null,
       "max_width": null,
       "min_height": null,
       "min_width": null,
       "object_fit": null,
       "object_position": null,
       "order": null,
       "overflow": null,
       "overflow_x": null,
       "overflow_y": null,
       "padding": null,
       "right": null,
       "top": null,
       "visibility": null,
       "width": null
      }
     },
     "77846223ea194c26a145649e32257948": {
      "model_module": "@jupyter-widgets/base",
      "model_module_version": "1.2.0",
      "model_name": "LayoutModel",
      "state": {
       "_model_module": "@jupyter-widgets/base",
       "_model_module_version": "1.2.0",
       "_model_name": "LayoutModel",
       "_view_count": null,
       "_view_module": "@jupyter-widgets/base",
       "_view_module_version": "1.2.0",
       "_view_name": "LayoutView",
       "align_content": null,
       "align_items": null,
       "align_self": null,
       "border": null,
       "bottom": null,
       "display": null,
       "flex": null,
       "flex_flow": null,
       "grid_area": null,
       "grid_auto_columns": null,
       "grid_auto_flow": null,
       "grid_auto_rows": null,
       "grid_column": null,
       "grid_gap": null,
       "grid_row": null,
       "grid_template_areas": null,
       "grid_template_columns": null,
       "grid_template_rows": null,
       "height": null,
       "justify_content": null,
       "justify_items": null,
       "left": null,
       "margin": null,
       "max_height": null,
       "max_width": null,
       "min_height": null,
       "min_width": null,
       "object_fit": null,
       "object_position": null,
       "order": null,
       "overflow": null,
       "overflow_x": null,
       "overflow_y": null,
       "padding": null,
       "right": null,
       "top": null,
       "visibility": null,
       "width": null
      }
     },
     "7a0864945c3b40d9b9bfb2568dedf23d": {
      "model_module": "@jupyter-widgets/base",
      "model_module_version": "1.2.0",
      "model_name": "LayoutModel",
      "state": {
       "_model_module": "@jupyter-widgets/base",
       "_model_module_version": "1.2.0",
       "_model_name": "LayoutModel",
       "_view_count": null,
       "_view_module": "@jupyter-widgets/base",
       "_view_module_version": "1.2.0",
       "_view_name": "LayoutView",
       "align_content": null,
       "align_items": null,
       "align_self": null,
       "border": null,
       "bottom": null,
       "display": null,
       "flex": null,
       "flex_flow": null,
       "grid_area": null,
       "grid_auto_columns": null,
       "grid_auto_flow": null,
       "grid_auto_rows": null,
       "grid_column": null,
       "grid_gap": null,
       "grid_row": null,
       "grid_template_areas": null,
       "grid_template_columns": null,
       "grid_template_rows": null,
       "height": null,
       "justify_content": null,
       "justify_items": null,
       "left": null,
       "margin": null,
       "max_height": null,
       "max_width": null,
       "min_height": null,
       "min_width": null,
       "object_fit": null,
       "object_position": null,
       "order": null,
       "overflow": null,
       "overflow_x": null,
       "overflow_y": null,
       "padding": null,
       "right": null,
       "top": null,
       "visibility": null,
       "width": null
      }
     },
     "7ebcf9eddd2848609e4cba7a89c1753c": {
      "model_module": "@jupyter-widgets/base",
      "model_module_version": "1.2.0",
      "model_name": "LayoutModel",
      "state": {
       "_model_module": "@jupyter-widgets/base",
       "_model_module_version": "1.2.0",
       "_model_name": "LayoutModel",
       "_view_count": null,
       "_view_module": "@jupyter-widgets/base",
       "_view_module_version": "1.2.0",
       "_view_name": "LayoutView",
       "align_content": null,
       "align_items": null,
       "align_self": null,
       "border": null,
       "bottom": null,
       "display": null,
       "flex": null,
       "flex_flow": null,
       "grid_area": null,
       "grid_auto_columns": null,
       "grid_auto_flow": null,
       "grid_auto_rows": null,
       "grid_column": null,
       "grid_gap": null,
       "grid_row": null,
       "grid_template_areas": null,
       "grid_template_columns": null,
       "grid_template_rows": null,
       "height": null,
       "justify_content": null,
       "justify_items": null,
       "left": null,
       "margin": null,
       "max_height": null,
       "max_width": null,
       "min_height": null,
       "min_width": null,
       "object_fit": null,
       "object_position": null,
       "order": null,
       "overflow": null,
       "overflow_x": null,
       "overflow_y": null,
       "padding": null,
       "right": null,
       "top": null,
       "visibility": null,
       "width": null
      }
     },
     "7fc260501d92450b965df386a4479499": {
      "model_module": "@jupyter-widgets/controls",
      "model_module_version": "1.5.0",
      "model_name": "HBoxModel",
      "state": {
       "_dom_classes": [],
       "_model_module": "@jupyter-widgets/controls",
       "_model_module_version": "1.5.0",
       "_model_name": "HBoxModel",
       "_view_count": null,
       "_view_module": "@jupyter-widgets/controls",
       "_view_module_version": "1.5.0",
       "_view_name": "HBoxView",
       "box_style": "",
       "children": [
        "IPY_MODEL_10b32b8e1de74749829656fc5f7a3ce6",
        "IPY_MODEL_26d36095e366481e93daab6378f6f16e",
        "IPY_MODEL_57de871bff0940b198c347be2b988024"
       ],
       "layout": "IPY_MODEL_7ebcf9eddd2848609e4cba7a89c1753c"
      }
     },
     "7ffa96e2eb7e4b26bcd4f90656aed9f5": {
      "model_module": "@jupyter-widgets/controls",
      "model_module_version": "1.5.0",
      "model_name": "DescriptionStyleModel",
      "state": {
       "_model_module": "@jupyter-widgets/controls",
       "_model_module_version": "1.5.0",
       "_model_name": "DescriptionStyleModel",
       "_view_count": null,
       "_view_module": "@jupyter-widgets/base",
       "_view_module_version": "1.2.0",
       "_view_name": "StyleView",
       "description_width": ""
      }
     },
     "80a511f44e3445a4aa46188ee0063bcf": {
      "model_module": "@jupyter-widgets/controls",
      "model_module_version": "1.5.0",
      "model_name": "DescriptionStyleModel",
      "state": {
       "_model_module": "@jupyter-widgets/controls",
       "_model_module_version": "1.5.0",
       "_model_name": "DescriptionStyleModel",
       "_view_count": null,
       "_view_module": "@jupyter-widgets/base",
       "_view_module_version": "1.2.0",
       "_view_name": "StyleView",
       "description_width": ""
      }
     },
     "8d83e3fd98f8494f92fce180d43a2fb8": {
      "model_module": "@jupyter-widgets/controls",
      "model_module_version": "1.5.0",
      "model_name": "FloatProgressModel",
      "state": {
       "_dom_classes": [],
       "_model_module": "@jupyter-widgets/controls",
       "_model_module_version": "1.5.0",
       "_model_name": "FloatProgressModel",
       "_view_count": null,
       "_view_module": "@jupyter-widgets/controls",
       "_view_module_version": "1.5.0",
       "_view_name": "ProgressView",
       "bar_style": "success",
       "description": "",
       "description_tooltip": null,
       "layout": "IPY_MODEL_e44003a7b4aa4f3da57fae6ea7892949",
       "max": 481.0,
       "min": 0.0,
       "orientation": "horizontal",
       "style": "IPY_MODEL_9b3571f06fd04cd9b5083f27efa66afa",
       "value": 481.0
      }
     },
     "901dcbec319445e08b9fbcdb7138a166": {
      "model_module": "@jupyter-widgets/controls",
      "model_module_version": "1.5.0",
      "model_name": "HBoxModel",
      "state": {
       "_dom_classes": [],
       "_model_module": "@jupyter-widgets/controls",
       "_model_module_version": "1.5.0",
       "_model_name": "HBoxModel",
       "_view_count": null,
       "_view_module": "@jupyter-widgets/controls",
       "_view_module_version": "1.5.0",
       "_view_name": "HBoxView",
       "box_style": "",
       "children": [
        "IPY_MODEL_e6cf310baaf540e8836997070b8331af",
        "IPY_MODEL_8d83e3fd98f8494f92fce180d43a2fb8",
        "IPY_MODEL_0b813f9001974f01a3df0e1acf293ee1"
       ],
       "layout": "IPY_MODEL_d43cc1f9eff1486d9a903cf6514270e1"
      }
     },
     "9b3571f06fd04cd9b5083f27efa66afa": {
      "model_module": "@jupyter-widgets/controls",
      "model_module_version": "1.5.0",
      "model_name": "ProgressStyleModel",
      "state": {
       "_model_module": "@jupyter-widgets/controls",
       "_model_module_version": "1.5.0",
       "_model_name": "ProgressStyleModel",
       "_view_count": null,
       "_view_module": "@jupyter-widgets/base",
       "_view_module_version": "1.2.0",
       "_view_name": "StyleView",
       "bar_color": null,
       "description_width": ""
      }
     },
     "a8da636dc8c649899ac3b38fe3390e5c": {
      "model_module": "@jupyter-widgets/base",
      "model_module_version": "1.2.0",
      "model_name": "LayoutModel",
      "state": {
       "_model_module": "@jupyter-widgets/base",
       "_model_module_version": "1.2.0",
       "_model_name": "LayoutModel",
       "_view_count": null,
       "_view_module": "@jupyter-widgets/base",
       "_view_module_version": "1.2.0",
       "_view_name": "LayoutView",
       "align_content": null,
       "align_items": null,
       "align_self": null,
       "border": null,
       "bottom": null,
       "display": null,
       "flex": null,
       "flex_flow": null,
       "grid_area": null,
       "grid_auto_columns": null,
       "grid_auto_flow": null,
       "grid_auto_rows": null,
       "grid_column": null,
       "grid_gap": null,
       "grid_row": null,
       "grid_template_areas": null,
       "grid_template_columns": null,
       "grid_template_rows": null,
       "height": null,
       "justify_content": null,
       "justify_items": null,
       "left": null,
       "margin": null,
       "max_height": null,
       "max_width": null,
       "min_height": null,
       "min_width": null,
       "object_fit": null,
       "object_position": null,
       "order": null,
       "overflow": null,
       "overflow_x": null,
       "overflow_y": null,
       "padding": null,
       "right": null,
       "top": null,
       "visibility": null,
       "width": null
      }
     },
     "acb980a4c47c4b6689fb5bca4b93a089": {
      "model_module": "@jupyter-widgets/base",
      "model_module_version": "1.2.0",
      "model_name": "LayoutModel",
      "state": {
       "_model_module": "@jupyter-widgets/base",
       "_model_module_version": "1.2.0",
       "_model_name": "LayoutModel",
       "_view_count": null,
       "_view_module": "@jupyter-widgets/base",
       "_view_module_version": "1.2.0",
       "_view_name": "LayoutView",
       "align_content": null,
       "align_items": null,
       "align_self": null,
       "border": null,
       "bottom": null,
       "display": null,
       "flex": null,
       "flex_flow": null,
       "grid_area": null,
       "grid_auto_columns": null,
       "grid_auto_flow": null,
       "grid_auto_rows": null,
       "grid_column": null,
       "grid_gap": null,
       "grid_row": null,
       "grid_template_areas": null,
       "grid_template_columns": null,
       "grid_template_rows": null,
       "height": null,
       "justify_content": null,
       "justify_items": null,
       "left": null,
       "margin": null,
       "max_height": null,
       "max_width": null,
       "min_height": null,
       "min_width": null,
       "object_fit": null,
       "object_position": null,
       "order": null,
       "overflow": null,
       "overflow_x": null,
       "overflow_y": null,
       "padding": null,
       "right": null,
       "top": null,
       "visibility": null,
       "width": null
      }
     },
     "aed876606acb45ebb345015713bcaff1": {
      "model_module": "@jupyter-widgets/base",
      "model_module_version": "1.2.0",
      "model_name": "LayoutModel",
      "state": {
       "_model_module": "@jupyter-widgets/base",
       "_model_module_version": "1.2.0",
       "_model_name": "LayoutModel",
       "_view_count": null,
       "_view_module": "@jupyter-widgets/base",
       "_view_module_version": "1.2.0",
       "_view_name": "LayoutView",
       "align_content": null,
       "align_items": null,
       "align_self": null,
       "border": null,
       "bottom": null,
       "display": null,
       "flex": null,
       "flex_flow": null,
       "grid_area": null,
       "grid_auto_columns": null,
       "grid_auto_flow": null,
       "grid_auto_rows": null,
       "grid_column": null,
       "grid_gap": null,
       "grid_row": null,
       "grid_template_areas": null,
       "grid_template_columns": null,
       "grid_template_rows": null,
       "height": null,
       "justify_content": null,
       "justify_items": null,
       "left": null,
       "margin": null,
       "max_height": null,
       "max_width": null,
       "min_height": null,
       "min_width": null,
       "object_fit": null,
       "object_position": null,
       "order": null,
       "overflow": null,
       "overflow_x": null,
       "overflow_y": null,
       "padding": null,
       "right": null,
       "top": null,
       "visibility": null,
       "width": null
      }
     },
     "bd770d02fb504405b10e495633f33846": {
      "model_module": "@jupyter-widgets/base",
      "model_module_version": "1.2.0",
      "model_name": "LayoutModel",
      "state": {
       "_model_module": "@jupyter-widgets/base",
       "_model_module_version": "1.2.0",
       "_model_name": "LayoutModel",
       "_view_count": null,
       "_view_module": "@jupyter-widgets/base",
       "_view_module_version": "1.2.0",
       "_view_name": "LayoutView",
       "align_content": null,
       "align_items": null,
       "align_self": null,
       "border": null,
       "bottom": null,
       "display": null,
       "flex": null,
       "flex_flow": null,
       "grid_area": null,
       "grid_auto_columns": null,
       "grid_auto_flow": null,
       "grid_auto_rows": null,
       "grid_column": null,
       "grid_gap": null,
       "grid_row": null,
       "grid_template_areas": null,
       "grid_template_columns": null,
       "grid_template_rows": null,
       "height": null,
       "justify_content": null,
       "justify_items": null,
       "left": null,
       "margin": null,
       "max_height": null,
       "max_width": null,
       "min_height": null,
       "min_width": null,
       "object_fit": null,
       "object_position": null,
       "order": null,
       "overflow": null,
       "overflow_x": null,
       "overflow_y": null,
       "padding": null,
       "right": null,
       "top": null,
       "visibility": null,
       "width": null
      }
     },
     "c118366237e6470b8320e85462adbe66": {
      "model_module": "@jupyter-widgets/base",
      "model_module_version": "1.2.0",
      "model_name": "LayoutModel",
      "state": {
       "_model_module": "@jupyter-widgets/base",
       "_model_module_version": "1.2.0",
       "_model_name": "LayoutModel",
       "_view_count": null,
       "_view_module": "@jupyter-widgets/base",
       "_view_module_version": "1.2.0",
       "_view_name": "LayoutView",
       "align_content": null,
       "align_items": null,
       "align_self": null,
       "border": null,
       "bottom": null,
       "display": null,
       "flex": null,
       "flex_flow": null,
       "grid_area": null,
       "grid_auto_columns": null,
       "grid_auto_flow": null,
       "grid_auto_rows": null,
       "grid_column": null,
       "grid_gap": null,
       "grid_row": null,
       "grid_template_areas": null,
       "grid_template_columns": null,
       "grid_template_rows": null,
       "height": null,
       "justify_content": null,
       "justify_items": null,
       "left": null,
       "margin": null,
       "max_height": null,
       "max_width": null,
       "min_height": null,
       "min_width": null,
       "object_fit": null,
       "object_position": null,
       "order": null,
       "overflow": null,
       "overflow_x": null,
       "overflow_y": null,
       "padding": null,
       "right": null,
       "top": null,
       "visibility": null,
       "width": null
      }
     },
     "c7ca40fe255c4b239b6a45d8eb8f84f7": {
      "model_module": "@jupyter-widgets/controls",
      "model_module_version": "1.5.0",
      "model_name": "HTMLModel",
      "state": {
       "_dom_classes": [],
       "_model_module": "@jupyter-widgets/controls",
       "_model_module_version": "1.5.0",
       "_model_name": "HTMLModel",
       "_view_count": null,
       "_view_module": "@jupyter-widgets/controls",
       "_view_module_version": "1.5.0",
       "_view_name": "HTMLView",
       "description": "",
       "description_tooltip": null,
       "layout": "IPY_MODEL_77846223ea194c26a145649e32257948",
       "placeholder": "​",
       "style": "IPY_MODEL_520a8a163b4e43cb884296661a61f812",
       "value": " 899k/899k [00:00&lt;00:00, 12.6MB/s]"
      }
     },
     "c9c5f04e5ba745a1bf84725b0f2a762b": {
      "model_module": "@jupyter-widgets/controls",
      "model_module_version": "1.5.0",
      "model_name": "ProgressStyleModel",
      "state": {
       "_model_module": "@jupyter-widgets/controls",
       "_model_module_version": "1.5.0",
       "_model_name": "ProgressStyleModel",
       "_view_count": null,
       "_view_module": "@jupyter-widgets/base",
       "_view_module_version": "1.2.0",
       "_view_name": "StyleView",
       "bar_color": null,
       "description_width": ""
      }
     },
     "ce09c03ae15544719899feb4d1fd1aa1": {
      "model_module": "@jupyter-widgets/controls",
      "model_module_version": "1.5.0",
      "model_name": "FloatProgressModel",
      "state": {
       "_dom_classes": [],
       "_model_module": "@jupyter-widgets/controls",
       "_model_module_version": "1.5.0",
       "_model_name": "FloatProgressModel",
       "_view_count": null,
       "_view_module": "@jupyter-widgets/controls",
       "_view_module_version": "1.5.0",
       "_view_name": "ProgressView",
       "bar_style": "success",
       "description": "",
       "description_tooltip": null,
       "layout": "IPY_MODEL_a8da636dc8c649899ac3b38fe3390e5c",
       "max": 898823.0,
       "min": 0.0,
       "orientation": "horizontal",
       "style": "IPY_MODEL_f495cd95581e41b991736ec8a9c8846c",
       "value": 898823.0
      }
     },
     "d43cc1f9eff1486d9a903cf6514270e1": {
      "model_module": "@jupyter-widgets/base",
      "model_module_version": "1.2.0",
      "model_name": "LayoutModel",
      "state": {
       "_model_module": "@jupyter-widgets/base",
       "_model_module_version": "1.2.0",
       "_model_name": "LayoutModel",
       "_view_count": null,
       "_view_module": "@jupyter-widgets/base",
       "_view_module_version": "1.2.0",
       "_view_name": "LayoutView",
       "align_content": null,
       "align_items": null,
       "align_self": null,
       "border": null,
       "bottom": null,
       "display": null,
       "flex": null,
       "flex_flow": null,
       "grid_area": null,
       "grid_auto_columns": null,
       "grid_auto_flow": null,
       "grid_auto_rows": null,
       "grid_column": null,
       "grid_gap": null,
       "grid_row": null,
       "grid_template_areas": null,
       "grid_template_columns": null,
       "grid_template_rows": null,
       "height": null,
       "justify_content": null,
       "justify_items": null,
       "left": null,
       "margin": null,
       "max_height": null,
       "max_width": null,
       "min_height": null,
       "min_width": null,
       "object_fit": null,
       "object_position": null,
       "order": null,
       "overflow": null,
       "overflow_x": null,
       "overflow_y": null,
       "padding": null,
       "right": null,
       "top": null,
       "visibility": null,
       "width": null
      }
     },
     "e1224e22a207497ab53b52ace293ce89": {
      "model_module": "@jupyter-widgets/controls",
      "model_module_version": "1.5.0",
      "model_name": "HBoxModel",
      "state": {
       "_dom_classes": [],
       "_model_module": "@jupyter-widgets/controls",
       "_model_module_version": "1.5.0",
       "_model_name": "HBoxModel",
       "_view_count": null,
       "_view_module": "@jupyter-widgets/controls",
       "_view_module_version": "1.5.0",
       "_view_name": "HBoxView",
       "box_style": "",
       "children": [
        "IPY_MODEL_020ac75f9adc4c9ab8f097973c275d6c",
        "IPY_MODEL_1089d0c6877242dbad835bc8ce55c3ad",
        "IPY_MODEL_27f0844d0f5a4831a0ea67885a0847a8"
       ],
       "layout": "IPY_MODEL_acb980a4c47c4b6689fb5bca4b93a089"
      }
     },
     "e37470ace6e24018bc09a89c88085717": {
      "model_module": "@jupyter-widgets/base",
      "model_module_version": "1.2.0",
      "model_name": "LayoutModel",
      "state": {
       "_model_module": "@jupyter-widgets/base",
       "_model_module_version": "1.2.0",
       "_model_name": "LayoutModel",
       "_view_count": null,
       "_view_module": "@jupyter-widgets/base",
       "_view_module_version": "1.2.0",
       "_view_name": "LayoutView",
       "align_content": null,
       "align_items": null,
       "align_self": null,
       "border": null,
       "bottom": null,
       "display": null,
       "flex": null,
       "flex_flow": null,
       "grid_area": null,
       "grid_auto_columns": null,
       "grid_auto_flow": null,
       "grid_auto_rows": null,
       "grid_column": null,
       "grid_gap": null,
       "grid_row": null,
       "grid_template_areas": null,
       "grid_template_columns": null,
       "grid_template_rows": null,
       "height": null,
       "justify_content": null,
       "justify_items": null,
       "left": null,
       "margin": null,
       "max_height": null,
       "max_width": null,
       "min_height": null,
       "min_width": null,
       "object_fit": null,
       "object_position": null,
       "order": null,
       "overflow": null,
       "overflow_x": null,
       "overflow_y": null,
       "padding": null,
       "right": null,
       "top": null,
       "visibility": null,
       "width": null
      }
     },
     "e44003a7b4aa4f3da57fae6ea7892949": {
      "model_module": "@jupyter-widgets/base",
      "model_module_version": "1.2.0",
      "model_name": "LayoutModel",
      "state": {
       "_model_module": "@jupyter-widgets/base",
       "_model_module_version": "1.2.0",
       "_model_name": "LayoutModel",
       "_view_count": null,
       "_view_module": "@jupyter-widgets/base",
       "_view_module_version": "1.2.0",
       "_view_name": "LayoutView",
       "align_content": null,
       "align_items": null,
       "align_self": null,
       "border": null,
       "bottom": null,
       "display": null,
       "flex": null,
       "flex_flow": null,
       "grid_area": null,
       "grid_auto_columns": null,
       "grid_auto_flow": null,
       "grid_auto_rows": null,
       "grid_column": null,
       "grid_gap": null,
       "grid_row": null,
       "grid_template_areas": null,
       "grid_template_columns": null,
       "grid_template_rows": null,
       "height": null,
       "justify_content": null,
       "justify_items": null,
       "left": null,
       "margin": null,
       "max_height": null,
       "max_width": null,
       "min_height": null,
       "min_width": null,
       "object_fit": null,
       "object_position": null,
       "order": null,
       "overflow": null,
       "overflow_x": null,
       "overflow_y": null,
       "padding": null,
       "right": null,
       "top": null,
       "visibility": null,
       "width": null
      }
     },
     "e6cf310baaf540e8836997070b8331af": {
      "model_module": "@jupyter-widgets/controls",
      "model_module_version": "1.5.0",
      "model_name": "HTMLModel",
      "state": {
       "_dom_classes": [],
       "_model_module": "@jupyter-widgets/controls",
       "_model_module_version": "1.5.0",
       "_model_name": "HTMLModel",
       "_view_count": null,
       "_view_module": "@jupyter-widgets/controls",
       "_view_module_version": "1.5.0",
       "_view_name": "HTMLView",
       "description": "",
       "description_tooltip": null,
       "layout": "IPY_MODEL_6fde8a71a0cb45c0be24da349682e19f",
       "placeholder": "​",
       "style": "IPY_MODEL_4ae74b9e4fdf42e8b582cf7e40ed6d2e",
       "value": "Downloading (…)lve/main/config.json: 100%"
      }
     },
     "edd4ffdd1c224f7f8db5c8a9fc7c956d": {
      "model_module": "@jupyter-widgets/controls",
      "model_module_version": "1.5.0",
      "model_name": "ProgressStyleModel",
      "state": {
       "_model_module": "@jupyter-widgets/controls",
       "_model_module_version": "1.5.0",
       "_model_name": "ProgressStyleModel",
       "_view_count": null,
       "_view_module": "@jupyter-widgets/base",
       "_view_module_version": "1.2.0",
       "_view_name": "StyleView",
       "bar_color": null,
       "description_width": ""
      }
     },
     "f2287bcceccf4f0392ccf06da46e6b5e": {
      "model_module": "@jupyter-widgets/controls",
      "model_module_version": "1.5.0",
      "model_name": "DescriptionStyleModel",
      "state": {
       "_model_module": "@jupyter-widgets/controls",
       "_model_module_version": "1.5.0",
       "_model_name": "DescriptionStyleModel",
       "_view_count": null,
       "_view_module": "@jupyter-widgets/base",
       "_view_module_version": "1.2.0",
       "_view_name": "StyleView",
       "description_width": ""
      }
     },
     "f408ad5b72dd420cb658e279eb18be80": {
      "model_module": "@jupyter-widgets/controls",
      "model_module_version": "1.5.0",
      "model_name": "DescriptionStyleModel",
      "state": {
       "_model_module": "@jupyter-widgets/controls",
       "_model_module_version": "1.5.0",
       "_model_name": "DescriptionStyleModel",
       "_view_count": null,
       "_view_module": "@jupyter-widgets/base",
       "_view_module_version": "1.2.0",
       "_view_name": "StyleView",
       "description_width": ""
      }
     },
     "f495cd95581e41b991736ec8a9c8846c": {
      "model_module": "@jupyter-widgets/controls",
      "model_module_version": "1.5.0",
      "model_name": "ProgressStyleModel",
      "state": {
       "_model_module": "@jupyter-widgets/controls",
       "_model_module_version": "1.5.0",
       "_model_name": "ProgressStyleModel",
       "_view_count": null,
       "_view_module": "@jupyter-widgets/base",
       "_view_module_version": "1.2.0",
       "_view_name": "StyleView",
       "bar_color": null,
       "description_width": ""
      }
     }
    },
    "version_major": 2,
    "version_minor": 0
   }
  }
 },
 "nbformat": 4,
 "nbformat_minor": 5
}
